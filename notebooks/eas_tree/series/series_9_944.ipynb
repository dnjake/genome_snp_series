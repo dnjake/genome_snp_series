{
 "cells": [
  {
   "cell_type": "code",
   "execution_count": 1,
   "metadata": {
    "collapsed": false
   },
   "outputs": [
    {
     "data": {
      "text/html": []
     },
     "metadata": {},
     "output_type": "display_data"
    },
    {
     "data": {
      "application/javascript": [
       "\n",
       "(function(global) {\n",
       "  function now() {\n",
       "    return new Date();\n",
       "  }\n",
       "\n",
       "  if (typeof (window._bokeh_onload_callbacks) === \"undefined\") {\n",
       "    window._bokeh_onload_callbacks = [];\n",
       "  }\n",
       "\n",
       "  function run_callbacks() {\n",
       "    window._bokeh_onload_callbacks.forEach(function(callback) { callback() });\n",
       "    delete window._bokeh_onload_callbacks\n",
       "    console.info(\"Bokeh: all callbacks have finished\");\n",
       "  }\n",
       "\n",
       "  function load_libs(js_urls, callback) {\n",
       "    window._bokeh_onload_callbacks.push(callback);\n",
       "    if (window._bokeh_is_loading > 0) {\n",
       "      console.log(\"Bokeh: BokehJS is being loaded, scheduling callback at\", now());\n",
       "      return null;\n",
       "    }\n",
       "    if (js_urls == null || js_urls.length === 0) {\n",
       "      run_callbacks();\n",
       "      return null;\n",
       "    }\n",
       "    console.log(\"Bokeh: BokehJS not loaded, scheduling load and callback at\", now());\n",
       "    window._bokeh_is_loading = js_urls.length;\n",
       "    for (var i = 0; i < js_urls.length; i++) {\n",
       "      var url = js_urls[i];\n",
       "      var s = document.createElement('script');\n",
       "      s.src = url;\n",
       "      s.async = false;\n",
       "      s.onreadystatechange = s.onload = function() {\n",
       "        window._bokeh_is_loading--;\n",
       "        if (window._bokeh_is_loading === 0) {\n",
       "          console.log(\"Bokeh: all BokehJS libraries loaded\");\n",
       "          run_callbacks()\n",
       "        }\n",
       "      };\n",
       "      s.onerror = function() {\n",
       "        console.warn(\"failed to load library \" + url);\n",
       "      };\n",
       "      console.log(\"Bokeh: injecting script tag for BokehJS library: \", url);\n",
       "      document.getElementsByTagName(\"head\")[0].appendChild(s);\n",
       "    }\n",
       "  };\n",
       "\n",
       "  var js_urls = ['https://cdn.pydata.org/bokeh/release/bokeh-0.12.0.min.js', 'https://cdn.pydata.org/bokeh/release/bokeh-widgets-0.12.0.min.js', 'https://cdn.pydata.org/bokeh/release/bokeh-compiler-0.12.0.min.js'];\n",
       "\n",
       "  var inline_js = [\n",
       "    function(Bokeh) {\n",
       "      Bokeh.set_log_level(\"info\");\n",
       "    },\n",
       "    \n",
       "    function(Bokeh) {\n",
       "      Bokeh.$(\"#3f9e9ee8-c722-4258-b442-13a0d5424b8e\").text(\"BokehJS successfully loaded\");\n",
       "    },\n",
       "    function(Bokeh) {\n",
       "      console.log(\"Bokeh: injecting CSS: https://cdn.pydata.org/bokeh/release/bokeh-0.12.0.min.css\");\n",
       "      Bokeh.embed.inject_css(\"https://cdn.pydata.org/bokeh/release/bokeh-0.12.0.min.css\");\n",
       "      console.log(\"Bokeh: injecting CSS: https://cdn.pydata.org/bokeh/release/bokeh-widgets-0.12.0.min.css\");\n",
       "      Bokeh.embed.inject_css(\"https://cdn.pydata.org/bokeh/release/bokeh-widgets-0.12.0.min.css\");\n",
       "    }\n",
       "  ];\n",
       "\n",
       "  function run_inline_js() {\n",
       "    for (var i = 0; i < inline_js.length; i++) {\n",
       "      inline_js[i](window.Bokeh);\n",
       "    }\n",
       "  }\n",
       "\n",
       "  if (window._bokeh_is_loading === 0) {\n",
       "    console.log(\"Bokeh: BokehJS loaded, going straight to plotting\");\n",
       "    run_inline_js();\n",
       "  } else {\n",
       "    load_libs(js_urls, function() {\n",
       "      console.log(\"Bokeh: BokehJS plotting callback run at\", now());\n",
       "      run_inline_js();\n",
       "    });\n",
       "  }\n",
       "}(this));"
      ]
     },
     "metadata": {},
     "output_type": "display_data"
    }
   ],
   "source": [
    "import numpy as np\n",
    "from IPython.display import HTML\n",
    "from bokeh.plotting import output_notebook, show\n",
    "import genomes_dnj.lct_interval.series_plots as dm\n",
    "import genomes_dnj.lct_interval.anal_series as an\n",
    "import genomes_dnj.lct_interval.series_masks as sm\n",
    "import genomes_dnj.lct_interval_snp_anal.lct_interval_snp_anal as snp_anal\n",
    "from genomes_dnj.lct_interval.bokeh_match_count_plot import snp_match_count_plot_cls as smcp\n",
    "output_notebook(hide_banner=True)\n",
    "sa_9_944 = snp_anal.series_anal_cls(dm.di_9_944, sm.series_data)"
   ]
  },
  {
   "cell_type": "markdown",
   "metadata": {},
   "source": [
    "<h3>Series 9_944</h3>\n",
    "<div style=\"width:700px\">\n",
    "<p>\n",
    "This notebook documents the series 9_944 and its 9 SNPs. The 1000 genomes data includes\n",
    "3610 samples that express none of the 9 SNPs and 925 that express all 9 of them.  Another 19\n",
    "express 8 of these SNPs.  The series extends over more than 591,000 DNA bases in the same\n",
    "lower part of the studied region as 6_1503 and 4_1699 in the EUR tree or 117_1685, 123_1561,\n",
    "62_1265, and 193_843 in the SAS tree.\n",
    "<p>\n",
    "The EAS tree appears more subject to recombination events than either the EUR or SAS trees.\n",
    "One measure is the different associations of 9_944 with different series in the upper part\n",
    "of the studied region.  Only 546 of samples expressing 9_944 associate it with 81_857.\n",
    "Another measure is the number of samples expressing 5_684 that have lost 9_944.  Out\n",
    "of the 684 5_684 samples only 562 express 9_944. Another measure is the 395 samples that express\n",
    "more than 2 9_944 SNPs but less than 8.  Those fragments and some of the series associated with\n",
    "them are explored in this notebook.\n",
    "</div>"
   ]
  },
  {
   "cell_type": "code",
   "execution_count": 2,
   "metadata": {
    "collapsed": false
   },
   "outputs": [
    {
     "data": {
      "text/html": [
       "<p>\n",
       "<b>9_944 series</b>\n",
       "</p><p>\n",
       "<table>\n",
       "<thead><tr><th style=\"text-align:center\">index</th><th style=\"text-align:center\">first</th><th style=\"text-align:center\">length</th><th style=\"text-align:center\">snps</th><th style=\"text-align:center\">alleles</th><th style=\"text-align:center\" colspan=2>afr</th><th style=\"text-align:center\" colspan=2>afx</th><th style=\"text-align:center\" colspan=2>amr</th><th style=\"text-align:center\" colspan=2>eas</th><th style=\"text-align:center\" colspan=2>eur</th><th style=\"text-align:center\" colspan=2>sas</th><th style=\"text-align:center\" colspan=2>sax</th></tr></thead>\n",
       "<tr class=\"even\"><td style=\"text-align: right;\">353372</td><td style=\"text-align: right;\">135,829,592</td><td style=\"text-align: right;\">591,316</td><td style=\"text-align: right;\">9</td><td style=\"text-align: right;\">944</td><td style=\"text-align: right;\">19</td><td style=\"text-align: right;\">0.10</td><td style=\"text-align: right;\">5</td><td style=\"text-align: right;\">0.08</td><td style=\"text-align: right;\">126</td><td style=\"text-align: right;\">0.96</td><td style=\"text-align: right;\">367</td><td style=\"text-align: right;\">1.93</td><td style=\"text-align: right;\">165</td><td style=\"text-align: right;\">0.87</td><td style=\"text-align: right;\">85</td><td style=\"text-align: right;\">1.24</td><td style=\"text-align: right;\">177</td><td style=\"text-align: right;\">1.53</td></tr>\n",
       "</table>\n",
       "</p>\n",
       "<p>\n",
       "<b>9_944 series snps</b>\n",
       "</p><p>\n",
       "<table>\n",
       "<thead><tr><th style=\"text-align:center\">index</th><th style=\"text-align:center\">pos</th><th style=\"text-align:center\">id</th><th style=\"text-align:center\">niv</th><th style=\"text-align:center\">alleles</th><th style=\"text-align:center\" colspan=2>afr</th><th style=\"text-align:center\" colspan=2>afx</th><th style=\"text-align:center\" colspan=2>amr</th><th style=\"text-align:center\" colspan=2>eas</th><th style=\"text-align:center\" colspan=2>eur</th><th style=\"text-align:center\" colspan=2>sas</th><th style=\"text-align:center\" colspan=2>sax</th></tr></thead>\n",
       "<tr class=\"even\"><td style=\"text-align: right;\">875414</td><td style=\"text-align: right;\">135,829,592</td><td>rs12469098</td><td>0</td><td style=\"text-align: right;\">1159</td><td style=\"text-align: right;\">108</td><td style=\"text-align: right;\">0.46</td><td style=\"text-align: right;\">17</td><td style=\"text-align: right;\">0.23</td><td style=\"text-align: right;\">140</td><td style=\"text-align: right;\">0.87</td><td style=\"text-align: right;\">387</td><td style=\"text-align: right;\">1.66</td><td style=\"text-align: right;\">186</td><td style=\"text-align: right;\">0.80</td><td style=\"text-align: right;\">104</td><td style=\"text-align: right;\">1.23</td><td style=\"text-align: right;\">217</td><td style=\"text-align: right;\">1.53</td></tr>\n",
       "<tr><td style=\"text-align: right;\">875718</td><td style=\"text-align: right;\">135,893,372</td><td>rs10445686</td><td>0</td><td style=\"text-align: right;\">1074</td><td style=\"text-align: right;\">21</td><td style=\"text-align: right;\">0.10</td><td style=\"text-align: right;\">6</td><td style=\"text-align: right;\">0.09</td><td style=\"text-align: right;\">139</td><td style=\"text-align: right;\">0.93</td><td style=\"text-align: right;\">389</td><td style=\"text-align: right;\">1.80</td><td style=\"text-align: right;\">192</td><td style=\"text-align: right;\">0.89</td><td style=\"text-align: right;\">106</td><td style=\"text-align: right;\">1.36</td><td style=\"text-align: right;\">221</td><td style=\"text-align: right;\">1.68</td></tr>\n",
       "<tr class=\"even\"><td style=\"text-align: right;\">875967</td><td style=\"text-align: right;\">135,952,405</td><td>rs1014532</td><td>0</td><td style=\"text-align: right;\">1246</td><td style=\"text-align: right;\">106</td><td style=\"text-align: right;\">0.42</td><td style=\"text-align: right;\">17</td><td style=\"text-align: right;\">0.22</td><td style=\"text-align: right;\">139</td><td style=\"text-align: right;\">0.81</td><td style=\"text-align: right;\">469</td><td style=\"text-align: right;\">1.87</td><td style=\"text-align: right;\">188</td><td style=\"text-align: right;\">0.75</td><td style=\"text-align: right;\">108</td><td style=\"text-align: right;\">1.19</td><td style=\"text-align: right;\">219</td><td style=\"text-align: right;\">1.43</td></tr>\n",
       "<tr><td style=\"text-align: right;\">876152</td><td style=\"text-align: right;\">135,989,721</td><td>rs143679226</td><td>0</td><td style=\"text-align: right;\">1201</td><td style=\"text-align: right;\">49</td><td style=\"text-align: right;\">0.20</td><td style=\"text-align: right;\">12</td><td style=\"text-align: right;\">0.16</td><td style=\"text-align: right;\">142</td><td style=\"text-align: right;\">0.85</td><td style=\"text-align: right;\">474</td><td style=\"text-align: right;\">1.96</td><td style=\"text-align: right;\">195</td><td style=\"text-align: right;\">0.81</td><td style=\"text-align: right;\">111</td><td style=\"text-align: right;\">1.27</td><td style=\"text-align: right;\">218</td><td style=\"text-align: right;\">1.48</td></tr>\n",
       "<tr class=\"even\"><td style=\"text-align: right;\">876939</td><td style=\"text-align: right;\">136,136,056</td><td>rs76847174</td><td>0</td><td style=\"text-align: right;\">1207</td><td style=\"text-align: right;\">49</td><td style=\"text-align: right;\">0.20</td><td style=\"text-align: right;\">12</td><td style=\"text-align: right;\">0.16</td><td style=\"text-align: right;\">141</td><td style=\"text-align: right;\">0.84</td><td style=\"text-align: right;\">474</td><td style=\"text-align: right;\">1.95</td><td style=\"text-align: right;\">197</td><td style=\"text-align: right;\">0.81</td><td style=\"text-align: right;\">112</td><td style=\"text-align: right;\">1.28</td><td style=\"text-align: right;\">222</td><td style=\"text-align: right;\">1.50</td></tr>\n",
       "<tr><td style=\"text-align: right;\">877859</td><td style=\"text-align: right;\">136,313,639</td><td>rs76472225</td><td>0</td><td style=\"text-align: right;\">1300</td><td style=\"text-align: right;\">94</td><td style=\"text-align: right;\">0.36</td><td style=\"text-align: right;\">18</td><td style=\"text-align: right;\">0.22</td><td style=\"text-align: right;\">157</td><td style=\"text-align: right;\">0.87</td><td style=\"text-align: right;\">476</td><td style=\"text-align: right;\">1.82</td><td style=\"text-align: right;\">222</td><td style=\"text-align: right;\">0.85</td><td style=\"text-align: right;\">108</td><td style=\"text-align: right;\">1.14</td><td style=\"text-align: right;\">225</td><td style=\"text-align: right;\">1.41</td></tr>\n",
       "<tr class=\"even\"><td style=\"text-align: right;\">878202</td><td style=\"text-align: right;\">136,401,418</td><td>rs57232086</td><td>0</td><td style=\"text-align: right;\">1194</td><td style=\"text-align: right;\">53</td><td style=\"text-align: right;\">0.22</td><td style=\"text-align: right;\">15</td><td style=\"text-align: right;\">0.20</td><td style=\"text-align: right;\">151</td><td style=\"text-align: right;\">0.91</td><td style=\"text-align: right;\">474</td><td style=\"text-align: right;\">1.97</td><td style=\"text-align: right;\">202</td><td style=\"text-align: right;\">0.84</td><td style=\"text-align: right;\">100</td><td style=\"text-align: right;\">1.15</td><td style=\"text-align: right;\">199</td><td style=\"text-align: right;\">1.36</td></tr>\n",
       "<tr><td style=\"text-align: right;\">878241</td><td style=\"text-align: right;\">136,407,078</td><td>rs12466487</td><td>0</td><td style=\"text-align: right;\">1180</td><td style=\"text-align: right;\">53</td><td style=\"text-align: right;\">0.22</td><td style=\"text-align: right;\">14</td><td style=\"text-align: right;\">0.19</td><td style=\"text-align: right;\">151</td><td style=\"text-align: right;\">0.92</td><td style=\"text-align: right;\">461</td><td style=\"text-align: right;\">1.94</td><td style=\"text-align: right;\">202</td><td style=\"text-align: right;\">0.85</td><td style=\"text-align: right;\">100</td><td style=\"text-align: right;\">1.17</td><td style=\"text-align: right;\">199</td><td style=\"text-align: right;\">1.38</td></tr>\n",
       "<tr class=\"even\"><td style=\"text-align: right;\">878315</td><td style=\"text-align: right;\">136,420,908</td><td>rs1374330</td><td>0</td><td style=\"text-align: right;\">1140</td><td style=\"text-align: right;\">22</td><td style=\"text-align: right;\">0.10</td><td style=\"text-align: right;\">5</td><td style=\"text-align: right;\">0.07</td><td style=\"text-align: right;\">151</td><td style=\"text-align: right;\">0.96</td><td style=\"text-align: right;\">461</td><td style=\"text-align: right;\">2.01</td><td style=\"text-align: right;\">202</td><td style=\"text-align: right;\">0.88</td><td style=\"text-align: right;\">100</td><td style=\"text-align: right;\">1.21</td><td style=\"text-align: right;\">199</td><td style=\"text-align: right;\">1.42</td></tr>\n",
       "</table>"
      ],
      "text/plain": [
       "<IPython.core.display.HTML object>"
      ]
     },
     "execution_count": 2,
     "metadata": {},
     "output_type": "execute_result"
    }
   ],
   "source": [
    "HTML(dm.series_html(dm.di_9_944))"
   ]
  },
  {
   "cell_type": "code",
   "execution_count": 3,
   "metadata": {
    "collapsed": false
   },
   "outputs": [
    {
     "data": {
      "text/html": [
       "<table>\n",
       "<thead><tr><th style=\"text-align:center\">index</th><th style=\"text-align:center\">first</th><th style=\"text-align:center\">length</th><th style=\"text-align:center\">snps</th><th style=\"text-align:center\" colspan=2>alleles</th><th style=\"text-align:center\" colspan=2>matches</th><th style=\"text-align:center\" colspan=2>afr</th><th style=\"text-align:center\" colspan=2>afx</th><th style=\"text-align:center\" colspan=2>amr</th><th style=\"text-align:center\" colspan=2>eas</th><th style=\"text-align:center\" colspan=2>eur</th><th style=\"text-align:center\" colspan=2>sas</th><th style=\"text-align:center\" colspan=2>sax</th></tr></thead>\n",
       "<tr class=\"even\"><td style=\"text-align: right;\">353921</td><td style=\"text-align: right;\">136,501,840</td><td style=\"text-align: right;\">53,819</td><td style=\"text-align: right;\">10</td><td style=\"text-align: right;\">2206</td><td style=\"text-align: right;\">0.14</td><td style=\"text-align: right;\">299</td><td style=\"text-align: right;\">0.32</td><td style=\"text-align: right;\">1</td><td style=\"text-align: right;\">0.02</td><td style=\"text-align: right;\">1</td><td style=\"text-align: right;\">0.05</td><td style=\"text-align: right;\">20</td><td style=\"text-align: right;\">0.48</td><td style=\"text-align: right;\">190</td><td style=\"text-align: right;\">3.16</td><td style=\"text-align: right;\">7</td><td style=\"text-align: right;\">0.12</td><td style=\"text-align: right;\">22</td><td style=\"text-align: right;\">1.01</td><td style=\"text-align: right;\">58</td><td style=\"text-align: right;\">1.58</td></tr>\n",
       "<tr><td style=\"text-align: right;\">354170</td><td style=\"text-align: right;\">136,682,274</td><td style=\"text-align: right;\">93,624</td><td style=\"text-align: right;\">7</td><td style=\"text-align: right;\">1868</td><td style=\"text-align: right;\">0.16</td><td style=\"text-align: right;\">291</td><td style=\"text-align: right;\">0.31</td><td style=\"text-align: right;\">0</td><td style=\"text-align: right;\">0.00</td><td style=\"text-align: right;\">1</td><td style=\"text-align: right;\">0.05</td><td style=\"text-align: right;\">20</td><td style=\"text-align: right;\">0.50</td><td style=\"text-align: right;\">191</td><td style=\"text-align: right;\">3.26</td><td style=\"text-align: right;\">7</td><td style=\"text-align: right;\">0.12</td><td style=\"text-align: right;\">19</td><td style=\"text-align: right;\">0.90</td><td style=\"text-align: right;\">53</td><td style=\"text-align: right;\">1.49</td></tr>\n",
       "<tr class=\"even\"><td style=\"text-align: right;\">354033</td><td style=\"text-align: right;\">136,588,031</td><td style=\"text-align: right;\">5,647</td><td style=\"text-align: right;\">7</td><td style=\"text-align: right;\">1760</td><td style=\"text-align: right;\">0.34</td><td style=\"text-align: right;\">604</td><td style=\"text-align: right;\">0.64</td><td style=\"text-align: right;\">17</td><td style=\"text-align: right;\">0.14</td><td style=\"text-align: right;\">4</td><td style=\"text-align: right;\">0.11</td><td style=\"text-align: right;\">106</td><td style=\"text-align: right;\">1.27</td><td style=\"text-align: right;\">145</td><td style=\"text-align: right;\">1.19</td><td style=\"text-align: right;\">155</td><td style=\"text-align: right;\">1.28</td><td style=\"text-align: right;\">61</td><td style=\"text-align: right;\">1.39</td><td style=\"text-align: right;\">116</td><td style=\"text-align: right;\">1.57</td></tr>\n",
       "<tr><td style=\"text-align: right;\">353240</td><td style=\"text-align: right;\">135,757,320</td><td style=\"text-align: right;\">20,184</td><td style=\"text-align: right;\">13</td><td style=\"text-align: right;\">1696</td><td style=\"text-align: right;\">0.55</td><td style=\"text-align: right;\">938</td><td style=\"text-align: right;\">0.99</td><td style=\"text-align: right;\">19</td><td style=\"text-align: right;\">0.10</td><td style=\"text-align: right;\">5</td><td style=\"text-align: right;\">0.09</td><td style=\"text-align: right;\">124</td><td style=\"text-align: right;\">0.95</td><td style=\"text-align: right;\">366</td><td style=\"text-align: right;\">1.94</td><td style=\"text-align: right;\">164</td><td style=\"text-align: right;\">0.87</td><td style=\"text-align: right;\">84</td><td style=\"text-align: right;\">1.23</td><td style=\"text-align: right;\">176</td><td style=\"text-align: right;\">1.53</td></tr>\n",
       "<tr class=\"even\"><td style=\"text-align: right;\">353901</td><td style=\"text-align: right;\">136,494,186</td><td style=\"text-align: right;\">271,765</td><td style=\"text-align: right;\">64</td><td style=\"text-align: right;\">1575</td><td style=\"text-align: right;\">0.18</td><td style=\"text-align: right;\">278</td><td style=\"text-align: right;\">0.29</td><td style=\"text-align: right;\">0</td><td style=\"text-align: right;\">0.00</td><td style=\"text-align: right;\">1</td><td style=\"text-align: right;\">0.06</td><td style=\"text-align: right;\">20</td><td style=\"text-align: right;\">0.52</td><td style=\"text-align: right;\">178</td><td style=\"text-align: right;\">3.18</td><td style=\"text-align: right;\">5</td><td style=\"text-align: right;\">0.09</td><td style=\"text-align: right;\">19</td><td style=\"text-align: right;\">0.94</td><td style=\"text-align: right;\">55</td><td style=\"text-align: right;\">1.61</td></tr>\n",
       "<tr><td style=\"text-align: right;\">354130</td><td style=\"text-align: right;\">136,653,925</td><td style=\"text-align: right;\">107,928</td><td style=\"text-align: right;\">24</td><td style=\"text-align: right;\">1504</td><td style=\"text-align: right;\">0.38</td><td style=\"text-align: right;\">566</td><td style=\"text-align: right;\">0.60</td><td style=\"text-align: right;\">18</td><td style=\"text-align: right;\">0.16</td><td style=\"text-align: right;\">4</td><td style=\"text-align: right;\">0.11</td><td style=\"text-align: right;\">103</td><td style=\"text-align: right;\">1.31</td><td style=\"text-align: right;\">143</td><td style=\"text-align: right;\">1.26</td><td style=\"text-align: right;\">144</td><td style=\"text-align: right;\">1.27</td><td style=\"text-align: right;\">50</td><td style=\"text-align: right;\">1.22</td><td style=\"text-align: right;\">104</td><td style=\"text-align: right;\">1.50</td></tr>\n",
       "<tr class=\"even\"><td style=\"text-align: right;\">353925</td><td style=\"text-align: right;\">136,506,375</td><td style=\"text-align: right;\">32,564</td><td style=\"text-align: right;\">4</td><td style=\"text-align: right;\">1442</td><td style=\"text-align: right;\">0.44</td><td style=\"text-align: right;\">635</td><td style=\"text-align: right;\">0.67</td><td style=\"text-align: right;\">17</td><td style=\"text-align: right;\">0.13</td><td style=\"text-align: right;\">4</td><td style=\"text-align: right;\">0.10</td><td style=\"text-align: right;\">106</td><td style=\"text-align: right;\">1.20</td><td style=\"text-align: right;\">169</td><td style=\"text-align: right;\">1.32</td><td style=\"text-align: right;\">158</td><td style=\"text-align: right;\">1.24</td><td style=\"text-align: right;\">62</td><td style=\"text-align: right;\">1.34</td><td style=\"text-align: right;\">119</td><td style=\"text-align: right;\">1.53</td></tr>\n",
       "<tr><td style=\"text-align: right;\">353791</td><td style=\"text-align: right;\">136,393,658</td><td style=\"text-align: right;\">92,684</td><td style=\"text-align: right;\">32</td><td style=\"text-align: right;\">1361</td><td style=\"text-align: right;\">0.69</td><td style=\"text-align: right;\">936</td><td style=\"text-align: right;\">0.99</td><td style=\"text-align: right;\">19</td><td style=\"text-align: right;\">0.10</td><td style=\"text-align: right;\">5</td><td style=\"text-align: right;\">0.09</td><td style=\"text-align: right;\">126</td><td style=\"text-align: right;\">0.97</td><td style=\"text-align: right;\">359</td><td style=\"text-align: right;\">1.91</td><td style=\"text-align: right;\">165</td><td style=\"text-align: right;\">0.88</td><td style=\"text-align: right;\">85</td><td style=\"text-align: right;\">1.25</td><td style=\"text-align: right;\">177</td><td style=\"text-align: right;\">1.54</td></tr>\n",
       "<tr class=\"even\"><td style=\"text-align: right;\">353958</td><td style=\"text-align: right;\">136,535,876</td><td style=\"text-align: right;\">19,014</td><td style=\"text-align: right;\">7</td><td style=\"text-align: right;\">1303</td><td style=\"text-align: right;\">0.49</td><td style=\"text-align: right;\">634</td><td style=\"text-align: right;\">0.67</td><td style=\"text-align: right;\">17</td><td style=\"text-align: right;\">0.13</td><td style=\"text-align: right;\">4</td><td style=\"text-align: right;\">0.10</td><td style=\"text-align: right;\">106</td><td style=\"text-align: right;\">1.21</td><td style=\"text-align: right;\">168</td><td style=\"text-align: right;\">1.32</td><td style=\"text-align: right;\">158</td><td style=\"text-align: right;\">1.24</td><td style=\"text-align: right;\">62</td><td style=\"text-align: right;\">1.35</td><td style=\"text-align: right;\">119</td><td style=\"text-align: right;\">1.53</td></tr>\n",
       "<tr><td style=\"text-align: right;\">354129</td><td style=\"text-align: right;\">136,652,953</td><td style=\"text-align: right;\">108,222</td><td style=\"text-align: right;\">5</td><td style=\"text-align: right;\">1296</td><td style=\"text-align: right;\">0.43</td><td style=\"text-align: right;\">557</td><td style=\"text-align: right;\">0.59</td><td style=\"text-align: right;\">17</td><td style=\"text-align: right;\">0.15</td><td style=\"text-align: right;\">4</td><td style=\"text-align: right;\">0.11</td><td style=\"text-align: right;\">103</td><td style=\"text-align: right;\">1.33</td><td style=\"text-align: right;\">142</td><td style=\"text-align: right;\">1.27</td><td style=\"text-align: right;\">142</td><td style=\"text-align: right;\">1.27</td><td style=\"text-align: right;\">49</td><td style=\"text-align: right;\">1.21</td><td style=\"text-align: right;\">100</td><td style=\"text-align: right;\">1.46</td></tr>\n",
       "<tr class=\"even\"><td style=\"text-align: right;\">353919</td><td style=\"text-align: right;\">136,500,475</td><td style=\"text-align: right;\">42,085</td><td style=\"text-align: right;\">13</td><td style=\"text-align: right;\">1227</td><td style=\"text-align: right;\">0.51</td><td style=\"text-align: right;\">629</td><td style=\"text-align: right;\">0.67</td><td style=\"text-align: right;\">17</td><td style=\"text-align: right;\">0.13</td><td style=\"text-align: right;\">4</td><td style=\"text-align: right;\">0.10</td><td style=\"text-align: right;\">104</td><td style=\"text-align: right;\">1.19</td><td style=\"text-align: right;\">169</td><td style=\"text-align: right;\">1.33</td><td style=\"text-align: right;\">158</td><td style=\"text-align: right;\">1.25</td><td style=\"text-align: right;\">61</td><td style=\"text-align: right;\">1.33</td><td style=\"text-align: right;\">116</td><td style=\"text-align: right;\">1.50</td></tr>\n",
       "<tr><td style=\"text-align: right;\">353906</td><td style=\"text-align: right;\">136,496,493</td><td style=\"text-align: right;\">57,432</td><td style=\"text-align: right;\">9</td><td style=\"text-align: right;\">1170</td><td style=\"text-align: right;\">0.01</td><td style=\"text-align: right;\">8</td><td style=\"text-align: right;\">0.01</td><td style=\"text-align: right;\">0</td><td style=\"text-align: right;\">0.00</td><td style=\"text-align: right;\">0</td><td style=\"text-align: right;\">0.00</td><td style=\"text-align: right;\">0</td><td style=\"text-align: right;\">0.00</td><td style=\"text-align: right;\">7</td><td style=\"text-align: right;\">4.35</td><td style=\"text-align: right;\">0</td><td style=\"text-align: right;\">0.00</td><td style=\"text-align: right;\">1</td><td style=\"text-align: right;\">1.72</td><td style=\"text-align: right;\">0</td><td style=\"text-align: right;\">0.00</td></tr>\n",
       "<tr class=\"even\"><td style=\"text-align: right;\">353849</td><td style=\"text-align: right;\">136,447,707</td><td style=\"text-align: right;\">42,559</td><td style=\"text-align: right;\">4</td><td style=\"text-align: right;\">1149</td><td style=\"text-align: right;\">0.01</td><td style=\"text-align: right;\">6</td><td style=\"text-align: right;\">0.01</td><td style=\"text-align: right;\">0</td><td style=\"text-align: right;\">0.00</td><td style=\"text-align: right;\">0</td><td style=\"text-align: right;\">0.00</td><td style=\"text-align: right;\">0</td><td style=\"text-align: right;\">0.00</td><td style=\"text-align: right;\">6</td><td style=\"text-align: right;\">4.97</td><td style=\"text-align: right;\">0</td><td style=\"text-align: right;\">0.00</td><td style=\"text-align: right;\">0</td><td style=\"text-align: right;\">0.00</td><td style=\"text-align: right;\">0</td><td style=\"text-align: right;\">0.00</td></tr>\n",
       "<tr><td style=\"text-align: right;\">354127</td><td style=\"text-align: right;\">136,652,491</td><td style=\"text-align: right;\">80,281</td><td style=\"text-align: right;\">6</td><td style=\"text-align: right;\">1114</td><td style=\"text-align: right;\">0.49</td><td style=\"text-align: right;\">550</td><td style=\"text-align: right;\">0.58</td><td style=\"text-align: right;\">17</td><td style=\"text-align: right;\">0.15</td><td style=\"text-align: right;\">4</td><td style=\"text-align: right;\">0.12</td><td style=\"text-align: right;\">103</td><td style=\"text-align: right;\">1.35</td><td style=\"text-align: right;\">135</td><td style=\"text-align: right;\">1.22</td><td style=\"text-align: right;\">142</td><td style=\"text-align: right;\">1.29</td><td style=\"text-align: right;\">49</td><td style=\"text-align: right;\">1.23</td><td style=\"text-align: right;\">100</td><td style=\"text-align: right;\">1.48</td></tr>\n",
       "<tr class=\"even\"><td style=\"text-align: right;\">353907</td><td style=\"text-align: right;\">136,496,805</td><td style=\"text-align: right;\">55,824</td><td style=\"text-align: right;\">9</td><td style=\"text-align: right;\">1023</td><td style=\"text-align: right;\">0.01</td><td style=\"text-align: right;\">8</td><td style=\"text-align: right;\">0.01</td><td style=\"text-align: right;\">0</td><td style=\"text-align: right;\">0.00</td><td style=\"text-align: right;\">0</td><td style=\"text-align: right;\">0.00</td><td style=\"text-align: right;\">0</td><td style=\"text-align: right;\">0.00</td><td style=\"text-align: right;\">7</td><td style=\"text-align: right;\">4.35</td><td style=\"text-align: right;\">0</td><td style=\"text-align: right;\">0.00</td><td style=\"text-align: right;\">1</td><td style=\"text-align: right;\">1.72</td><td style=\"text-align: right;\">0</td><td style=\"text-align: right;\">0.00</td></tr>\n",
       "<tr><td style=\"text-align: right;\">353984</td><td style=\"text-align: right;\">136,556,805</td><td style=\"text-align: right;\">190,280</td><td style=\"text-align: right;\">39</td><td style=\"text-align: right;\">1014</td><td style=\"text-align: right;\">0.02</td><td style=\"text-align: right;\">24</td><td style=\"text-align: right;\">0.03</td><td style=\"text-align: right;\">1</td><td style=\"text-align: right;\">0.21</td><td style=\"text-align: right;\">0</td><td style=\"text-align: right;\">0.00</td><td style=\"text-align: right;\">0</td><td style=\"text-align: right;\">0.00</td><td style=\"text-align: right;\">21</td><td style=\"text-align: right;\">4.35</td><td style=\"text-align: right;\">0</td><td style=\"text-align: right;\">0.00</td><td style=\"text-align: right;\">2</td><td style=\"text-align: right;\">1.15</td><td style=\"text-align: right;\">0</td><td style=\"text-align: right;\">0.00</td></tr>\n",
       "<tr class=\"even\"><td style=\"text-align: right;\">353935</td><td style=\"text-align: right;\">136,511,874</td><td style=\"text-align: right;\">21,321</td><td style=\"text-align: right;\">5</td><td style=\"text-align: right;\">976</td><td style=\"text-align: right;\">0.01</td><td style=\"text-align: right;\">8</td><td style=\"text-align: right;\">0.01</td><td style=\"text-align: right;\">1</td><td style=\"text-align: right;\">0.62</td><td style=\"text-align: right;\">0</td><td style=\"text-align: right;\">0.00</td><td style=\"text-align: right;\">0</td><td style=\"text-align: right;\">0.00</td><td style=\"text-align: right;\">6</td><td style=\"text-align: right;\">3.73</td><td style=\"text-align: right;\">0</td><td style=\"text-align: right;\">0.00</td><td style=\"text-align: right;\">1</td><td style=\"text-align: right;\">1.72</td><td style=\"text-align: right;\">0</td><td style=\"text-align: right;\">0.00</td></tr>\n",
       "<tr><td style=\"text-align: right;\">353372</td><td style=\"text-align: right;\">135,829,592</td><td style=\"text-align: right;\">591,316</td><td style=\"text-align: right;\">9</td><td style=\"text-align: right;\">944</td><td style=\"text-align: right;\">1.00</td><td style=\"text-align: right;\">944</td><td style=\"text-align: right;\">1.00</td><td style=\"text-align: right;\">19</td><td style=\"text-align: right;\">0.10</td><td style=\"text-align: right;\">5</td><td style=\"text-align: right;\">0.08</td><td style=\"text-align: right;\">126</td><td style=\"text-align: right;\">0.96</td><td style=\"text-align: right;\">367</td><td style=\"text-align: right;\">1.93</td><td style=\"text-align: right;\">165</td><td style=\"text-align: right;\">0.87</td><td style=\"text-align: right;\">85</td><td style=\"text-align: right;\">1.24</td><td style=\"text-align: right;\">177</td><td style=\"text-align: right;\">1.53</td></tr>\n",
       "<tr class=\"even\"><td style=\"text-align: right;\">353902</td><td style=\"text-align: right;\">136,494,985</td><td style=\"text-align: right;\">278,653</td><td style=\"text-align: right;\">81</td><td style=\"text-align: right;\">857</td><td style=\"text-align: right;\">0.64</td><td style=\"text-align: right;\">546</td><td style=\"text-align: right;\">0.58</td><td style=\"text-align: right;\">17</td><td style=\"text-align: right;\">0.15</td><td style=\"text-align: right;\">4</td><td style=\"text-align: right;\">0.12</td><td style=\"text-align: right;\">103</td><td style=\"text-align: right;\">1.36</td><td style=\"text-align: right;\">131</td><td style=\"text-align: right;\">1.19</td><td style=\"text-align: right;\">142</td><td style=\"text-align: right;\">1.29</td><td style=\"text-align: right;\">49</td><td style=\"text-align: right;\">1.23</td><td style=\"text-align: right;\">100</td><td style=\"text-align: right;\">1.49</td></tr>\n",
       "<tr><td style=\"text-align: right;\">353938</td><td style=\"text-align: right;\">136,514,709</td><td style=\"text-align: right;\">28,438</td><td style=\"text-align: right;\">6</td><td style=\"text-align: right;\">820</td><td style=\"text-align: right;\">0.01</td><td style=\"text-align: right;\">8</td><td style=\"text-align: right;\">0.01</td><td style=\"text-align: right;\">1</td><td style=\"text-align: right;\">0.62</td><td style=\"text-align: right;\">0</td><td style=\"text-align: right;\">0.00</td><td style=\"text-align: right;\">0</td><td style=\"text-align: right;\">0.00</td><td style=\"text-align: right;\">6</td><td style=\"text-align: right;\">3.73</td><td style=\"text-align: right;\">0</td><td style=\"text-align: right;\">0.00</td><td style=\"text-align: right;\">1</td><td style=\"text-align: right;\">1.72</td><td style=\"text-align: right;\">0</td><td style=\"text-align: right;\">0.00</td></tr>\n",
       "<tr class=\"even\"><td style=\"text-align: right;\">353498</td><td style=\"text-align: right;\">135,959,272</td><td style=\"text-align: right;\">416,583</td><td style=\"text-align: right;\">5</td><td style=\"text-align: right;\">684</td><td style=\"text-align: right;\">0.82</td><td style=\"text-align: right;\">562</td><td style=\"text-align: right;\">0.60</td><td style=\"text-align: right;\">0</td><td style=\"text-align: right;\">0.00</td><td style=\"text-align: right;\">1</td><td style=\"text-align: right;\">0.03</td><td style=\"text-align: right;\">62</td><td style=\"text-align: right;\">0.80</td><td style=\"text-align: right;\">342</td><td style=\"text-align: right;\">3.02</td><td style=\"text-align: right;\">30</td><td style=\"text-align: right;\">0.27</td><td style=\"text-align: right;\">41</td><td style=\"text-align: right;\">1.00</td><td style=\"text-align: right;\">86</td><td style=\"text-align: right;\">1.25</td></tr>\n",
       "<tr><td style=\"text-align: right;\">354061</td><td style=\"text-align: right;\">136,603,638</td><td style=\"text-align: right;\">28,487</td><td style=\"text-align: right;\">16</td><td style=\"text-align: right;\">511</td><td style=\"text-align: right;\">0.00</td><td style=\"text-align: right;\">2</td><td style=\"text-align: right;\">0.00</td><td style=\"text-align: right;\">0</td><td style=\"text-align: right;\">0.00</td><td style=\"text-align: right;\">0</td><td style=\"text-align: right;\">0.00</td><td style=\"text-align: right;\">0</td><td style=\"text-align: right;\">0.00</td><td style=\"text-align: right;\">2</td><td style=\"text-align: right;\">4.97</td><td style=\"text-align: right;\">0</td><td style=\"text-align: right;\">0.00</td><td style=\"text-align: right;\">0</td><td style=\"text-align: right;\">0.00</td><td style=\"text-align: right;\">0</td><td style=\"text-align: right;\">0.00</td></tr>\n",
       "<tr class=\"even\"><td style=\"text-align: right;\">353904</td><td style=\"text-align: right;\">136,495,815</td><td style=\"text-align: right;\">46,924</td><td style=\"text-align: right;\">9</td><td style=\"text-align: right;\">378</td><td style=\"text-align: right;\">0.01</td><td style=\"text-align: right;\">2</td><td style=\"text-align: right;\">0.00</td><td style=\"text-align: right;\">0</td><td style=\"text-align: right;\">0.00</td><td style=\"text-align: right;\">0</td><td style=\"text-align: right;\">0.00</td><td style=\"text-align: right;\">0</td><td style=\"text-align: right;\">0.00</td><td style=\"text-align: right;\">0</td><td style=\"text-align: right;\">0.00</td><td style=\"text-align: right;\">2</td><td style=\"text-align: right;\">4.98</td><td style=\"text-align: right;\">0</td><td style=\"text-align: right;\">0.00</td><td style=\"text-align: right;\">0</td><td style=\"text-align: right;\">0.00</td></tr>\n",
       "<tr><td style=\"text-align: right;\">354064</td><td style=\"text-align: right;\">136,605,402</td><td style=\"text-align: right;\">19,284</td><td style=\"text-align: right;\">8</td><td style=\"text-align: right;\">328</td><td style=\"text-align: right;\">0.00</td><td style=\"text-align: right;\">1</td><td style=\"text-align: right;\">0.00</td><td style=\"text-align: right;\">0</td><td style=\"text-align: right;\">0.00</td><td style=\"text-align: right;\">0</td><td style=\"text-align: right;\">0.00</td><td style=\"text-align: right;\">0</td><td style=\"text-align: right;\">0.00</td><td style=\"text-align: right;\">0</td><td style=\"text-align: right;\">0.00</td><td style=\"text-align: right;\">1</td><td style=\"text-align: right;\">4.98</td><td style=\"text-align: right;\">0</td><td style=\"text-align: right;\">0.00</td><td style=\"text-align: right;\">0</td><td style=\"text-align: right;\">0.00</td></tr>\n",
       "<tr class=\"even\"><td style=\"text-align: right;\">354189</td><td style=\"text-align: right;\">136,704,466</td><td style=\"text-align: right;\">27,748</td><td style=\"text-align: right;\">5</td><td style=\"text-align: right;\">212</td><td style=\"text-align: right;\">0.04</td><td style=\"text-align: right;\">9</td><td style=\"text-align: right;\">0.01</td><td style=\"text-align: right;\">1</td><td style=\"text-align: right;\">0.55</td><td style=\"text-align: right;\">0</td><td style=\"text-align: right;\">0.00</td><td style=\"text-align: right;\">0</td><td style=\"text-align: right;\">0.00</td><td style=\"text-align: right;\">1</td><td style=\"text-align: right;\">0.55</td><td style=\"text-align: right;\">2</td><td style=\"text-align: right;\">1.11</td><td style=\"text-align: right;\">1</td><td style=\"text-align: right;\">1.53</td><td style=\"text-align: right;\">4</td><td style=\"text-align: right;\">3.63</td></tr>\n",
       "<tr><td style=\"text-align: right;\">354123</td><td style=\"text-align: right;\">136,651,773</td><td style=\"text-align: right;\">122,854</td><td style=\"text-align: right;\">51</td><td style=\"text-align: right;\">176</td><td style=\"text-align: right;\">0.04</td><td style=\"text-align: right;\">7</td><td style=\"text-align: right;\">0.01</td><td style=\"text-align: right;\">0</td><td style=\"text-align: right;\">0.00</td><td style=\"text-align: right;\">0</td><td style=\"text-align: right;\">0.00</td><td style=\"text-align: right;\">0</td><td style=\"text-align: right;\">0.00</td><td style=\"text-align: right;\">7</td><td style=\"text-align: right;\">4.97</td><td style=\"text-align: right;\">0</td><td style=\"text-align: right;\">0.00</td><td style=\"text-align: right;\">0</td><td style=\"text-align: right;\">0.00</td><td style=\"text-align: right;\">0</td><td style=\"text-align: right;\">0.00</td></tr>\n",
       "<tr class=\"even\"><td style=\"text-align: right;\">354181</td><td style=\"text-align: right;\">136,696,010</td><td style=\"text-align: right;\">68,554</td><td style=\"text-align: right;\">18</td><td style=\"text-align: right;\">172</td><td style=\"text-align: right;\">0.05</td><td style=\"text-align: right;\">8</td><td style=\"text-align: right;\">0.01</td><td style=\"text-align: right;\">0</td><td style=\"text-align: right;\">0.00</td><td style=\"text-align: right;\">0</td><td style=\"text-align: right;\">0.00</td><td style=\"text-align: right;\">0</td><td style=\"text-align: right;\">0.00</td><td style=\"text-align: right;\">1</td><td style=\"text-align: right;\">0.62</td><td style=\"text-align: right;\">2</td><td style=\"text-align: right;\">1.24</td><td style=\"text-align: right;\">1</td><td style=\"text-align: right;\">1.72</td><td style=\"text-align: right;\">4</td><td style=\"text-align: right;\">4.08</td></tr>\n",
       "<tr><td style=\"text-align: right;\">354143</td><td style=\"text-align: right;\">136,658,238</td><td style=\"text-align: right;\">19,681</td><td style=\"text-align: right;\">6</td><td style=\"text-align: right;\">167</td><td style=\"text-align: right;\">0.05</td><td style=\"text-align: right;\">9</td><td style=\"text-align: right;\">0.01</td><td style=\"text-align: right;\">1</td><td style=\"text-align: right;\">0.55</td><td style=\"text-align: right;\">0</td><td style=\"text-align: right;\">0.00</td><td style=\"text-align: right;\">0</td><td style=\"text-align: right;\">0.00</td><td style=\"text-align: right;\">1</td><td style=\"text-align: right;\">0.55</td><td style=\"text-align: right;\">2</td><td style=\"text-align: right;\">1.11</td><td style=\"text-align: right;\">1</td><td style=\"text-align: right;\">1.53</td><td style=\"text-align: right;\">4</td><td style=\"text-align: right;\">3.63</td></tr>\n",
       "<tr class=\"even\"><td style=\"text-align: right;\">354051</td><td style=\"text-align: right;\">136,596,162</td><td style=\"text-align: right;\">189,567</td><td style=\"text-align: right;\">17</td><td style=\"text-align: right;\">137</td><td style=\"text-align: right;\">0.01</td><td style=\"text-align: right;\">1</td><td style=\"text-align: right;\">0.00</td><td style=\"text-align: right;\">0</td><td style=\"text-align: right;\">0.00</td><td style=\"text-align: right;\">0</td><td style=\"text-align: right;\">0.00</td><td style=\"text-align: right;\">0</td><td style=\"text-align: right;\">0.00</td><td style=\"text-align: right;\">0</td><td style=\"text-align: right;\">0.00</td><td style=\"text-align: right;\">1</td><td style=\"text-align: right;\">4.98</td><td style=\"text-align: right;\">0</td><td style=\"text-align: right;\">0.00</td><td style=\"text-align: right;\">0</td><td style=\"text-align: right;\">0.00</td></tr>\n",
       "<tr><td style=\"text-align: right;\">354156</td><td style=\"text-align: right;\">136,666,402</td><td style=\"text-align: right;\">102,253</td><td style=\"text-align: right;\">17</td><td style=\"text-align: right;\">121</td><td style=\"text-align: right;\">0.07</td><td style=\"text-align: right;\">8</td><td style=\"text-align: right;\">0.01</td><td style=\"text-align: right;\">0</td><td style=\"text-align: right;\">0.00</td><td style=\"text-align: right;\">0</td><td style=\"text-align: right;\">0.00</td><td style=\"text-align: right;\">0</td><td style=\"text-align: right;\">0.00</td><td style=\"text-align: right;\">1</td><td style=\"text-align: right;\">0.62</td><td style=\"text-align: right;\">2</td><td style=\"text-align: right;\">1.24</td><td style=\"text-align: right;\">1</td><td style=\"text-align: right;\">1.72</td><td style=\"text-align: right;\">4</td><td style=\"text-align: right;\">4.08</td></tr>\n",
       "<tr class=\"even\"><td style=\"text-align: right;\">353908</td><td style=\"text-align: right;\">136,496,845</td><td style=\"text-align: right;\">54,025</td><td style=\"text-align: right;\">6</td><td style=\"text-align: right;\">99</td><td style=\"text-align: right;\">0.01</td><td style=\"text-align: right;\">1</td><td style=\"text-align: right;\">0.00</td><td style=\"text-align: right;\">0</td><td style=\"text-align: right;\">0.00</td><td style=\"text-align: right;\">0</td><td style=\"text-align: right;\">0.00</td><td style=\"text-align: right;\">0</td><td style=\"text-align: right;\">0.00</td><td style=\"text-align: right;\">0</td><td style=\"text-align: right;\">0.00</td><td style=\"text-align: right;\">1</td><td style=\"text-align: right;\">4.98</td><td style=\"text-align: right;\">0</td><td style=\"text-align: right;\">0.00</td><td style=\"text-align: right;\">0</td><td style=\"text-align: right;\">0.00</td></tr>\n",
       "<tr><td style=\"text-align: right;\">353485</td><td style=\"text-align: right;\">135,942,182</td><td style=\"text-align: right;\">432,560</td><td style=\"text-align: right;\">4</td><td style=\"text-align: right;\">67</td><td style=\"text-align: right;\">1.00</td><td style=\"text-align: right;\">67</td><td style=\"text-align: right;\">0.07</td><td style=\"text-align: right;\">0</td><td style=\"text-align: right;\">0.00</td><td style=\"text-align: right;\">0</td><td style=\"text-align: right;\">0.00</td><td style=\"text-align: right;\">0</td><td style=\"text-align: right;\">0.00</td><td style=\"text-align: right;\">66</td><td style=\"text-align: right;\">4.89</td><td style=\"text-align: right;\">0</td><td style=\"text-align: right;\">0.00</td><td style=\"text-align: right;\">1</td><td style=\"text-align: right;\">0.21</td><td style=\"text-align: right;\">0</td><td style=\"text-align: right;\">0.00</td></tr>\n",
       "<tr class=\"even\"><td style=\"text-align: right;\">353564</td><td style=\"text-align: right;\">136,033,790</td><td style=\"text-align: right;\">291,947</td><td style=\"text-align: right;\">5</td><td style=\"text-align: right;\">60</td><td style=\"text-align: right;\">1.00</td><td style=\"text-align: right;\">60</td><td style=\"text-align: right;\">0.06</td><td style=\"text-align: right;\">0</td><td style=\"text-align: right;\">0.00</td><td style=\"text-align: right;\">2</td><td style=\"text-align: right;\">0.53</td><td style=\"text-align: right;\">4</td><td style=\"text-align: right;\">0.48</td><td style=\"text-align: right;\">1</td><td style=\"text-align: right;\">0.08</td><td style=\"text-align: right;\">17</td><td style=\"text-align: right;\">1.41</td><td style=\"text-align: right;\">8</td><td style=\"text-align: right;\">1.83</td><td style=\"text-align: right;\">28</td><td style=\"text-align: right;\">3.81</td></tr>\n",
       "<tr><td style=\"text-align: right;\">353917</td><td style=\"text-align: right;\">136,499,236</td><td style=\"text-align: right;\">176,092</td><td style=\"text-align: right;\">7</td><td style=\"text-align: right;\">59</td><td style=\"text-align: right;\">0.81</td><td style=\"text-align: right;\">48</td><td style=\"text-align: right;\">0.05</td><td style=\"text-align: right;\">0</td><td style=\"text-align: right;\">0.00</td><td style=\"text-align: right;\">0</td><td style=\"text-align: right;\">0.00</td><td style=\"text-align: right;\">17</td><td style=\"text-align: right;\">2.56</td><td style=\"text-align: right;\">0</td><td style=\"text-align: right;\">0.00</td><td style=\"text-align: right;\">24</td><td style=\"text-align: right;\">2.49</td><td style=\"text-align: right;\">2</td><td style=\"text-align: right;\">0.57</td><td style=\"text-align: right;\">5</td><td style=\"text-align: right;\">0.85</td></tr>\n",
       "<tr class=\"even\"><td style=\"text-align: right;\">354133</td><td style=\"text-align: right;\">136,654,760</td><td style=\"text-align: right;\">116,007</td><td style=\"text-align: right;\">20</td><td style=\"text-align: right;\">56</td><td style=\"text-align: right;\">0.14</td><td style=\"text-align: right;\">8</td><td style=\"text-align: right;\">0.01</td><td style=\"text-align: right;\">0</td><td style=\"text-align: right;\">0.00</td><td style=\"text-align: right;\">0</td><td style=\"text-align: right;\">0.00</td><td style=\"text-align: right;\">0</td><td style=\"text-align: right;\">0.00</td><td style=\"text-align: right;\">1</td><td style=\"text-align: right;\">0.62</td><td style=\"text-align: right;\">2</td><td style=\"text-align: right;\">1.24</td><td style=\"text-align: right;\">1</td><td style=\"text-align: right;\">1.72</td><td style=\"text-align: right;\">4</td><td style=\"text-align: right;\">4.08</td></tr>\n",
       "<tr><td style=\"text-align: right;\">353430</td><td style=\"text-align: right;\">135,879,258</td><td style=\"text-align: right;\">516,511</td><td style=\"text-align: right;\">6</td><td style=\"text-align: right;\">54</td><td style=\"text-align: right;\">1.00</td><td style=\"text-align: right;\">54</td><td style=\"text-align: right;\">0.06</td><td style=\"text-align: right;\">0</td><td style=\"text-align: right;\">0.00</td><td style=\"text-align: right;\">0</td><td style=\"text-align: right;\">0.00</td><td style=\"text-align: right;\">8</td><td style=\"text-align: right;\">1.07</td><td style=\"text-align: right;\">0</td><td style=\"text-align: right;\">0.00</td><td style=\"text-align: right;\">37</td><td style=\"text-align: right;\">3.41</td><td style=\"text-align: right;\">3</td><td style=\"text-align: right;\">0.76</td><td style=\"text-align: right;\">6</td><td style=\"text-align: right;\">0.91</td></tr>\n",
       "<tr class=\"even\"><td style=\"text-align: right;\">353554</td><td style=\"text-align: right;\">136,021,814</td><td style=\"text-align: right;\">347,522</td><td style=\"text-align: right;\">5</td><td style=\"text-align: right;\">47</td><td style=\"text-align: right;\">0.60</td><td style=\"text-align: right;\">28</td><td style=\"text-align: right;\">0.03</td><td style=\"text-align: right;\">0</td><td style=\"text-align: right;\">0.00</td><td style=\"text-align: right;\">0</td><td style=\"text-align: right;\">0.00</td><td style=\"text-align: right;\">0</td><td style=\"text-align: right;\">0.00</td><td style=\"text-align: right;\">28</td><td style=\"text-align: right;\">4.97</td><td style=\"text-align: right;\">0</td><td style=\"text-align: right;\">0.00</td><td style=\"text-align: right;\">0</td><td style=\"text-align: right;\">0.00</td><td style=\"text-align: right;\">0</td><td style=\"text-align: right;\">0.00</td></tr>\n",
       "<tr><td style=\"text-align: right;\">353394</td><td style=\"text-align: right;\">135,845,676</td><td style=\"text-align: right;\">641,900</td><td style=\"text-align: right;\">14</td><td style=\"text-align: right;\">43</td><td style=\"text-align: right;\">0.98</td><td style=\"text-align: right;\">42</td><td style=\"text-align: right;\">0.04</td><td style=\"text-align: right;\">0</td><td style=\"text-align: right;\">0.00</td><td style=\"text-align: right;\">0</td><td style=\"text-align: right;\">0.00</td><td style=\"text-align: right;\">14</td><td style=\"text-align: right;\">2.41</td><td style=\"text-align: right;\">0</td><td style=\"text-align: right;\">0.00</td><td style=\"text-align: right;\">22</td><td style=\"text-align: right;\">2.61</td><td style=\"text-align: right;\">2</td><td style=\"text-align: right;\">0.66</td><td style=\"text-align: right;\">4</td><td style=\"text-align: right;\">0.78</td></tr>\n",
       "<tr class=\"even\"><td style=\"text-align: right;\">354128</td><td style=\"text-align: right;\">136,652,918</td><td style=\"text-align: right;\">133,712</td><td style=\"text-align: right;\">80</td><td style=\"text-align: right;\">38</td><td style=\"text-align: right;\">0.03</td><td style=\"text-align: right;\">1</td><td style=\"text-align: right;\">0.00</td><td style=\"text-align: right;\">1</td><td style=\"text-align: right;\">4.97</td><td style=\"text-align: right;\">0</td><td style=\"text-align: right;\">0.00</td><td style=\"text-align: right;\">0</td><td style=\"text-align: right;\">0.00</td><td style=\"text-align: right;\">0</td><td style=\"text-align: right;\">0.00</td><td style=\"text-align: right;\">0</td><td style=\"text-align: right;\">0.00</td><td style=\"text-align: right;\">0</td><td style=\"text-align: right;\">0.00</td><td style=\"text-align: right;\">0</td><td style=\"text-align: right;\">0.00</td></tr>\n",
       "<tr><td style=\"text-align: right;\">353635</td><td style=\"text-align: right;\">136,151,572</td><td style=\"text-align: right;\">121,118</td><td style=\"text-align: right;\">4</td><td style=\"text-align: right;\">37</td><td style=\"text-align: right;\">0.89</td><td style=\"text-align: right;\">33</td><td style=\"text-align: right;\">0.03</td><td style=\"text-align: right;\">0</td><td style=\"text-align: right;\">0.00</td><td style=\"text-align: right;\">0</td><td style=\"text-align: right;\">0.00</td><td style=\"text-align: right;\">3</td><td style=\"text-align: right;\">0.66</td><td style=\"text-align: right;\">0</td><td style=\"text-align: right;\">0.00</td><td style=\"text-align: right;\">5</td><td style=\"text-align: right;\">0.75</td><td style=\"text-align: right;\">9</td><td style=\"text-align: right;\">3.75</td><td style=\"text-align: right;\">16</td><td style=\"text-align: right;\">3.95</td></tr>\n",
       "<tr class=\"even\"><td style=\"text-align: right;\">353308</td><td style=\"text-align: right;\">135,782,087</td><td style=\"text-align: right;\">144,668</td><td style=\"text-align: right;\">4</td><td style=\"text-align: right;\">34</td><td style=\"text-align: right;\">0.94</td><td style=\"text-align: right;\">32</td><td style=\"text-align: right;\">0.03</td><td style=\"text-align: right;\">0</td><td style=\"text-align: right;\">0.00</td><td style=\"text-align: right;\">0</td><td style=\"text-align: right;\">0.00</td><td style=\"text-align: right;\">2</td><td style=\"text-align: right;\">0.45</td><td style=\"text-align: right;\">0</td><td style=\"text-align: right;\">0.00</td><td style=\"text-align: right;\">5</td><td style=\"text-align: right;\">0.78</td><td style=\"text-align: right;\">10</td><td style=\"text-align: right;\">4.30</td><td style=\"text-align: right;\">15</td><td style=\"text-align: right;\">3.82</td></tr>\n",
       "<tr><td style=\"text-align: right;\">353469</td><td style=\"text-align: right;\">135,922,944</td><td style=\"text-align: right;\">346,911</td><td style=\"text-align: right;\">5</td><td style=\"text-align: right;\">31</td><td style=\"text-align: right;\">1.00</td><td style=\"text-align: right;\">31</td><td style=\"text-align: right;\">0.03</td><td style=\"text-align: right;\">0</td><td style=\"text-align: right;\">0.00</td><td style=\"text-align: right;\">0</td><td style=\"text-align: right;\">0.00</td><td style=\"text-align: right;\">6</td><td style=\"text-align: right;\">1.40</td><td style=\"text-align: right;\">0</td><td style=\"text-align: right;\">0.00</td><td style=\"text-align: right;\">20</td><td style=\"text-align: right;\">3.21</td><td style=\"text-align: right;\">1</td><td style=\"text-align: right;\">0.44</td><td style=\"text-align: right;\">4</td><td style=\"text-align: right;\">1.05</td></tr>\n",
       "<tr class=\"even\"><td style=\"text-align: right;\">353998</td><td style=\"text-align: right;\">136,568,458</td><td style=\"text-align: right;\">22,850</td><td style=\"text-align: right;\">5</td><td style=\"text-align: right;\">28</td><td style=\"text-align: right;\">0.11</td><td style=\"text-align: right;\">3</td><td style=\"text-align: right;\">0.00</td><td style=\"text-align: right;\">0</td><td style=\"text-align: right;\">0.00</td><td style=\"text-align: right;\">0</td><td style=\"text-align: right;\">0.00</td><td style=\"text-align: right;\">0</td><td style=\"text-align: right;\">0.00</td><td style=\"text-align: right;\">0</td><td style=\"text-align: right;\">0.00</td><td style=\"text-align: right;\">2</td><td style=\"text-align: right;\">3.32</td><td style=\"text-align: right;\">1</td><td style=\"text-align: right;\">4.59</td><td style=\"text-align: right;\">0</td><td style=\"text-align: right;\">0.00</td></tr>\n",
       "<tr><td style=\"text-align: right;\">353975</td><td style=\"text-align: right;\">136,553,105</td><td style=\"text-align: right;\">223,081</td><td style=\"text-align: right;\">9</td><td style=\"text-align: right;\">27</td><td style=\"text-align: right;\">0.04</td><td style=\"text-align: right;\">1</td><td style=\"text-align: right;\">0.00</td><td style=\"text-align: right;\">1</td><td style=\"text-align: right;\">4.97</td><td style=\"text-align: right;\">0</td><td style=\"text-align: right;\">0.00</td><td style=\"text-align: right;\">0</td><td style=\"text-align: right;\">0.00</td><td style=\"text-align: right;\">0</td><td style=\"text-align: right;\">0.00</td><td style=\"text-align: right;\">0</td><td style=\"text-align: right;\">0.00</td><td style=\"text-align: right;\">0</td><td style=\"text-align: right;\">0.00</td><td style=\"text-align: right;\">0</td><td style=\"text-align: right;\">0.00</td></tr>\n",
       "<tr class=\"even\"><td style=\"text-align: right;\">354116</td><td style=\"text-align: right;\">136,648,736</td><td style=\"text-align: right;\">114,114</td><td style=\"text-align: right;\">4</td><td style=\"text-align: right;\">26</td><td style=\"text-align: right;\">0.81</td><td style=\"text-align: right;\">21</td><td style=\"text-align: right;\">0.02</td><td style=\"text-align: right;\">0</td><td style=\"text-align: right;\">0.00</td><td style=\"text-align: right;\">0</td><td style=\"text-align: right;\">0.00</td><td style=\"text-align: right;\">4</td><td style=\"text-align: right;\">1.37</td><td style=\"text-align: right;\">0</td><td style=\"text-align: right;\">0.00</td><td style=\"text-align: right;\">10</td><td style=\"text-align: right;\">2.37</td><td style=\"text-align: right;\">3</td><td style=\"text-align: right;\">1.97</td><td style=\"text-align: right;\">4</td><td style=\"text-align: right;\">1.55</td></tr>\n",
       "<tr><td style=\"text-align: right;\">354176</td><td style=\"text-align: right;\">136,687,844</td><td style=\"text-align: right;\">21,965</td><td style=\"text-align: right;\">4</td><td style=\"text-align: right;\">25</td><td style=\"text-align: right;\">0.88</td><td style=\"text-align: right;\">22</td><td style=\"text-align: right;\">0.02</td><td style=\"text-align: right;\">0</td><td style=\"text-align: right;\">0.00</td><td style=\"text-align: right;\">0</td><td style=\"text-align: right;\">0.00</td><td style=\"text-align: right;\">0</td><td style=\"text-align: right;\">0.00</td><td style=\"text-align: right;\">22</td><td style=\"text-align: right;\">4.97</td><td style=\"text-align: right;\">0</td><td style=\"text-align: right;\">0.00</td><td style=\"text-align: right;\">0</td><td style=\"text-align: right;\">0.00</td><td style=\"text-align: right;\">0</td><td style=\"text-align: right;\">0.00</td></tr>\n",
       "<tr class=\"even\"><td style=\"text-align: right;\">354147</td><td style=\"text-align: right;\">136,658,865</td><td style=\"text-align: right;\">61,008</td><td style=\"text-align: right;\">6</td><td style=\"text-align: right;\">25</td><td style=\"text-align: right;\">0.16</td><td style=\"text-align: right;\">4</td><td style=\"text-align: right;\">0.00</td><td style=\"text-align: right;\">0</td><td style=\"text-align: right;\">0.00</td><td style=\"text-align: right;\">0</td><td style=\"text-align: right;\">0.00</td><td style=\"text-align: right;\">0</td><td style=\"text-align: right;\">0.00</td><td style=\"text-align: right;\">0</td><td style=\"text-align: right;\">0.00</td><td style=\"text-align: right;\">0</td><td style=\"text-align: right;\">0.00</td><td style=\"text-align: right;\">1</td><td style=\"text-align: right;\">3.44</td><td style=\"text-align: right;\">3</td><td style=\"text-align: right;\">6.12</td></tr>\n",
       "<tr><td style=\"text-align: right;\">354047</td><td style=\"text-align: right;\">136,595,044</td><td style=\"text-align: right;\">44,512</td><td style=\"text-align: right;\">15</td><td style=\"text-align: right;\">25</td><td style=\"text-align: right;\">0.12</td><td style=\"text-align: right;\">3</td><td style=\"text-align: right;\">0.00</td><td style=\"text-align: right;\">0</td><td style=\"text-align: right;\">0.00</td><td style=\"text-align: right;\">0</td><td style=\"text-align: right;\">0.00</td><td style=\"text-align: right;\">0</td><td style=\"text-align: right;\">0.00</td><td style=\"text-align: right;\">0</td><td style=\"text-align: right;\">0.00</td><td style=\"text-align: right;\">2</td><td style=\"text-align: right;\">3.32</td><td style=\"text-align: right;\">1</td><td style=\"text-align: right;\">4.59</td><td style=\"text-align: right;\">0</td><td style=\"text-align: right;\">0.00</td></tr>\n",
       "<tr class=\"even\"><td style=\"text-align: right;\">353467</td><td style=\"text-align: right;\">135,920,394</td><td style=\"text-align: right;\">608,562</td><td style=\"text-align: right;\">5</td><td style=\"text-align: right;\">17</td><td style=\"text-align: right;\">1.00</td><td style=\"text-align: right;\">17</td><td style=\"text-align: right;\">0.02</td><td style=\"text-align: right;\">0</td><td style=\"text-align: right;\">0.00</td><td style=\"text-align: right;\">0</td><td style=\"text-align: right;\">0.00</td><td style=\"text-align: right;\">5</td><td style=\"text-align: right;\">2.12</td><td style=\"text-align: right;\">0</td><td style=\"text-align: right;\">0.00</td><td style=\"text-align: right;\">11</td><td style=\"text-align: right;\">3.22</td><td style=\"text-align: right;\">1</td><td style=\"text-align: right;\">0.81</td><td style=\"text-align: right;\">0</td><td style=\"text-align: right;\">0.00</td></tr>\n",
       "<tr><td style=\"text-align: right;\">353321</td><td style=\"text-align: right;\">135,789,949</td><td style=\"text-align: right;\">762,462</td><td style=\"text-align: right;\">7</td><td style=\"text-align: right;\">17</td><td style=\"text-align: right;\">1.00</td><td style=\"text-align: right;\">17</td><td style=\"text-align: right;\">0.02</td><td style=\"text-align: right;\">0</td><td style=\"text-align: right;\">0.00</td><td style=\"text-align: right;\">0</td><td style=\"text-align: right;\">0.00</td><td style=\"text-align: right;\">2</td><td style=\"text-align: right;\">0.85</td><td style=\"text-align: right;\">0</td><td style=\"text-align: right;\">0.00</td><td style=\"text-align: right;\">14</td><td style=\"text-align: right;\">4.10</td><td style=\"text-align: right;\">1</td><td style=\"text-align: right;\">0.81</td><td style=\"text-align: right;\">0</td><td style=\"text-align: right;\">0.00</td></tr>\n",
       "<tr class=\"even\"><td style=\"text-align: right;\">353705</td><td style=\"text-align: right;\">136,266,716</td><td style=\"text-align: right;\">297,530</td><td style=\"text-align: right;\">4</td><td style=\"text-align: right;\">16</td><td style=\"text-align: right;\">1.00</td><td style=\"text-align: right;\">16</td><td style=\"text-align: right;\">0.02</td><td style=\"text-align: right;\">0</td><td style=\"text-align: right;\">0.00</td><td style=\"text-align: right;\">0</td><td style=\"text-align: right;\">0.00</td><td style=\"text-align: right;\">4</td><td style=\"text-align: right;\">1.80</td><td style=\"text-align: right;\">0</td><td style=\"text-align: right;\">0.00</td><td style=\"text-align: right;\">12</td><td style=\"text-align: right;\">3.73</td><td style=\"text-align: right;\">0</td><td style=\"text-align: right;\">0.00</td><td style=\"text-align: right;\">0</td><td style=\"text-align: right;\">0.00</td></tr>\n",
       "</table>"
      ],
      "text/plain": [
       "<IPython.core.display.HTML object>"
      ]
     },
     "execution_count": 3,
     "metadata": {},
     "output_type": "execute_result"
    }
   ],
   "source": [
    "plt_obj = dm.superset_yes_no([dm.di_9_944], min_match=0.001)\n",
    "plt_obj.do_plot()\n",
    "HTML(plt_obj.get_html())"
   ]
  },
  {
   "cell_type": "code",
   "execution_count": 4,
   "metadata": {
    "collapsed": false
   },
   "outputs": [
    {
     "data": {
      "text/html": [
       "\n",
       "\n",
       "    <div class=\"bk-root\">\n",
       "        <div class=\"plotdiv\" id=\"9e6b2806-2d1c-47a7-878c-a41a883373a0\"></div>\n",
       "    </div>\n",
       "<script type=\"text/javascript\">\n",
       "  \n",
       "  (function(global) {\n",
       "    function now() {\n",
       "      return new Date();\n",
       "    }\n",
       "  \n",
       "    if (typeof (window._bokeh_onload_callbacks) === \"undefined\") {\n",
       "      window._bokeh_onload_callbacks = [];\n",
       "    }\n",
       "  \n",
       "    function run_callbacks() {\n",
       "      window._bokeh_onload_callbacks.forEach(function(callback) { callback() });\n",
       "      delete window._bokeh_onload_callbacks\n",
       "      console.info(\"Bokeh: all callbacks have finished\");\n",
       "    }\n",
       "  \n",
       "    function load_libs(js_urls, callback) {\n",
       "      window._bokeh_onload_callbacks.push(callback);\n",
       "      if (window._bokeh_is_loading > 0) {\n",
       "        console.log(\"Bokeh: BokehJS is being loaded, scheduling callback at\", now());\n",
       "        return null;\n",
       "      }\n",
       "      if (js_urls == null || js_urls.length === 0) {\n",
       "        run_callbacks();\n",
       "        return null;\n",
       "      }\n",
       "      console.log(\"Bokeh: BokehJS not loaded, scheduling load and callback at\", now());\n",
       "      window._bokeh_is_loading = js_urls.length;\n",
       "      for (var i = 0; i < js_urls.length; i++) {\n",
       "        var url = js_urls[i];\n",
       "        var s = document.createElement('script');\n",
       "        s.src = url;\n",
       "        s.async = false;\n",
       "        s.onreadystatechange = s.onload = function() {\n",
       "          window._bokeh_is_loading--;\n",
       "          if (window._bokeh_is_loading === 0) {\n",
       "            console.log(\"Bokeh: all BokehJS libraries loaded\");\n",
       "            run_callbacks()\n",
       "          }\n",
       "        };\n",
       "        s.onerror = function() {\n",
       "          console.warn(\"failed to load library \" + url);\n",
       "        };\n",
       "        console.log(\"Bokeh: injecting script tag for BokehJS library: \", url);\n",
       "        document.getElementsByTagName(\"head\")[0].appendChild(s);\n",
       "      }\n",
       "    };var element = document.getElementById(\"9e6b2806-2d1c-47a7-878c-a41a883373a0\");\n",
       "    if (element == null) {\n",
       "      console.log(\"Bokeh: ERROR: autoload.js configured with elementid '9e6b2806-2d1c-47a7-878c-a41a883373a0' but no matching script tag was found. \")\n",
       "      return false;\n",
       "    }\n",
       "  \n",
       "    var js_urls = [];\n",
       "  \n",
       "    var inline_js = [\n",
       "      function(Bokeh) {\n",
       "        Bokeh.$(function() {\n",
       "            var docs_json = {\"54004a64-91d3-434b-ac18-cf3b602a89ff\":{\"roots\":{\"references\":[{\"attributes\":{\"dimension\":1,\"plot\":{\"id\":\"2038723d-77cf-452c-8420-049b75d3e0e1\",\"subtype\":\"Figure\",\"type\":\"Plot\"},\"ticker\":{\"id\":\"b2a56da0-021f-466f-bf23-c01533264523\",\"type\":\"BasicTicker\"}},\"id\":\"7837e912-f410-4a64-9e1c-02e5f527ce3b\",\"type\":\"Grid\"},{\"attributes\":{\"line_color\":{\"field\":\"line_color\"},\"xs\":{\"field\":\"xs\"},\"ys\":{\"field\":\"ys\"}},\"id\":\"b7a87b67-1948-40ea-9e65-f88334462584\",\"type\":\"MultiLine\"},{\"attributes\":{\"overlay\":{\"id\":\"06d53e71-88e5-4a20-9e32-cbf8c8bbe536\",\"type\":\"BoxAnnotation\"},\"plot\":{\"id\":\"2038723d-77cf-452c-8420-049b75d3e0e1\",\"subtype\":\"Figure\",\"type\":\"Plot\"}},\"id\":\"377b7782-d405-4cbe-a1ab-2cda8eb7e692\",\"type\":\"BoxZoomTool\"},{\"attributes\":{\"callback\":null,\"column_names\":[\"xs\",\"ys\",\"line_color\"],\"data\":{\"line_color\":[\"black\",\"black\",\"black\",\"black\",\"black\",\"black\",\"black\",\"black\",\"black\",\"black\",\"black\",\"black\",\"black\",\"black\",\"black\",\"black\",\"black\",\"black\",\"black\",\"black\",\"black\",\"black\",\"black\",\"black\",\"black\",\"black\",\"black\",\"black\",\"black\",\"black\",\"black\",\"black\",\"black\",\"black\",\"black\",\"black\",\"black\",\"black\",\"black\",\"black\",\"black\",\"black\",\"black\",\"black\",\"black\",\"black\",\"black\",\"black\",\"black\",\"black\",\"black\",\"black\",\"black\",\"black\",\"black\",\"black\",\"black\",\"black\",\"black\",\"black\",\"black\",\"black\",\"black\",\"black\",\"black\",\"black\",\"black\",\"black\",\"black\",\"black\",\"black\",\"black\",\"black\",\"black\",\"black\",\"black\",\"black\",\"black\",\"black\",\"black\",\"black\",\"black\",\"black\",\"black\",\"black\",\"black\",\"black\",\"black\",\"black\",\"black\",\"black\",\"black\",\"black\",\"black\",\"black\",\"black\",\"black\",\"black\",\"black\",\"black\",\"black\",\"black\",\"black\",\"black\",\"black\",\"black\",\"black\",\"black\",\"black\",\"black\",\"black\",\"black\",\"black\",\"black\",\"black\",\"black\",\"black\",\"black\",\"black\",\"black\",\"black\",\"black\",\"black\",\"black\",\"black\",\"black\",\"black\",\"black\",\"black\",\"black\",\"black\",\"black\",\"black\",\"black\",\"black\",\"black\",\"black\",\"black\",\"black\",\"black\",\"black\",\"black\",\"black\",\"black\",\"black\",\"black\",\"black\",\"black\",\"black\",\"black\",\"black\",\"black\",\"black\",\"black\",\"black\",\"black\",\"black\",\"black\",\"black\",\"black\",\"black\",\"black\",\"black\",\"black\",\"black\",\"black\",\"black\",\"black\",\"black\",\"black\",\"black\",\"black\",\"black\",\"black\",\"black\",\"black\",\"black\",\"black\",\"black\",\"black\",\"black\",\"black\",\"black\",\"black\",\"black\",\"black\",\"black\",\"black\",\"black\",\"black\",\"black\",\"black\",\"black\",\"black\",\"black\",\"black\",\"black\",\"black\",\"black\",\"black\",\"black\",\"black\",\"black\",\"black\",\"black\",\"black\"],\"xs\":[[135757320,135757320],[135761078,135761078],[135761271,135761271],[135762344,135762344],[135762980,135762980],[135763280,135763280],[135768815,135768815],[135769093,135769093],[135769127,135769127],[135770940,135770940],[135770951,135770951],[135776728,135776728],[135777504,135777504],[135829592,135829592],[135893372,135893372],[135952405,135952405],[135989721,135989721],[136136056,136136056],[136313639,136313639],[136401418,136401418],[136407078,136407078],[136420908,136420908],[135959272,135959272],[136149550,136149550],[136164840,136164840],[136313885,136313885],[136375855,136375855],[136393658,136393658],[136396300,136396300],[136401843,136401843],[136407445,136407445],[136411879,136411879],[136412270,136412270],[136413244,136413244],[136413847,136413847],[136415217,136415217],[136416533,136416533],[136420726,136420726],[136429857,136429857],[136433740,136433740],[136436317,136436317],[136437615,136437615],[136438517,136438517],[136440300,136440300],[136443900,136443900],[136444185,136444185],[136444338,136444338],[136449254,136449254],[136451676,136451676],[136459227,136459227],[136463117,136463117],[136463454,136463454],[136467119,136467119],[136468238,136468238],[136470219,136470219],[136483355,136483355],[136485276,136485276],[136486340,136486340],[136486342,136486342],[136494985,136494985],[136497199,136497199],[136511817,136511817],[136513670,136513670],[136515458,136515458],[136516970,136516970],[136525309,136525309],[136528034,136528034],[136532225,136532225],[136535235,136535235],[136536095,136536095],[136544423,136544423],[136546927,136546927],[136552188,136552188],[136552517,136552517],[136555525,136555525],[136556480,136556480],[136560464,136560464],[136572285,136572285],[136582694,136582694],[136582809,136582809],[136584538,136584538],[136585323,136585323],[136586825,136586825],[136600662,136600662],[136612036,136612036],[136618178,136618178],[136618507,136618507],[136622543,136622543],[136624947,136624947],[136625113,136625113],[136626078,136626078],[136628121,136628121],[136632300,136632300],[136633962,136633962],[136635343,136635343],[136638113,136638113],[136640101,136640101],[136641593,136641593],[136646582,136646582],[136648077,136648077],[136648883,136648883],[136652045,136652045],[136653848,136653848],[136656094,136656094],[136661110,136661110],[136663110,136663110],[136663605,136663605],[136665162,136665162],[136665711,136665711],[136668123,136668123],[136670419,136670419],[136672680,136672680],[136673546,136673546],[136684632,136684632],[136686114,136686114],[136690425,136690425],[136690783,136690783],[136692893,136692893],[136694905,136694905],[136695694,136695694],[136695705,136695705],[136696608,136696608],[136697372,136697372],[136697468,136697468],[136700024,136700024],[136701539,136701539],[136702118,136702118],[136707480,136707480],[136710554,136710554],[136714178,136714178],[136719173,136719173],[136725459,136725459],[136734569,136734569],[136744678,136744678],[136748779,136748779],[136751488,136751488],[136754183,136754183],[136763242,136763242],[136765074,136765074],[136773638,136773638],[136500475,136500475],[136501509,136501509],[136504101,136504101],[136509868,136509868],[136520043,136520043],[136527120,136527120],[136530379,136530379],[136530443,136530443],[136539330,136539330],[136539670,136539670],[136540083,136540083],[136542559,136542559],[136542560,136542560],[136506375,136506375],[136506927,136506927],[136510012,136510012],[136538939,136538939],[136535876,136535876],[136544651,136544651],[136545844,136545844],[136552526,136552526],[136553022,136553022],[136554797,136554797],[136554890,136554890],[136588031,136588031],[136589278,136589278],[136589379,136589379],[136589741,136589741],[136590746,136590746],[136593553,136593553],[136593678,136593678],[136652491,136652491],[136652524,136652524],[136661150,136661150],[136669264,136669264],[136726567,136726567],[136732772,136732772],[136652953,136652953],[136655582,136655582],[136674028,136674028],[136684940,136684940],[136761175,136761175],[136653925,136653925],[136654833,136654833],[136656534,136656534],[136656536,136656536],[136657252,136657252],[136667301,136667301],[136667487,136667487],[136672775,136672775],[136680534,136680534],[136686393,136686393],[136688749,136688749],[136692553,136692553],[136697371,136697371],[136708787,136708787],[136710372,136710372],[136711064,136711064],[136715324,136715324],[136723504,136723504],[136737460,136737460],[136743143,136743143],[136746224,136746224],[136751842,136751842],[136759379,136759379],[136761853,136761853]],\"ys\":[[550,596],[550,596],[550,596],[550,596],[550,596],[550,596],[550,596],[550,596],[550,596],[550,596],[550,596],[550,596],[550,596],[150,191],[150,191],[150,191],[150,191],[150,191],[150,191],[150,191],[150,191],[150,191],[50,88],[50,88],[50,88],[50,88],[50,88],[450,494],[450,494],[450,494],[450,494],[450,494],[450,494],[450,494],[450,494],[450,494],[450,494],[450,494],[450,494],[450,494],[450,494],[450,494],[450,494],[450,494],[450,494],[450,494],[450,494],[450,494],[450,494],[450,494],[450,494],[450,494],[450,494],[450,494],[450,494],[450,494],[450,494],[450,494],[450,494],[150,190],[150,190],[150,190],[150,190],[150,190],[150,190],[150,190],[150,190],[150,190],[150,190],[150,190],[150,190],[150,190],[150,190],[150,190],[150,190],[150,190],[150,190],[150,190],[150,190],[150,190],[150,190],[150,190],[150,190],[150,190],[150,190],[150,190],[150,190],[150,190],[150,190],[150,190],[150,190],[150,190],[150,190],[150,190],[150,190],[150,190],[150,190],[150,190],[150,190],[150,190],[150,190],[150,190],[150,190],[150,190],[150,190],[150,190],[150,190],[150,190],[150,190],[150,190],[150,190],[150,190],[150,190],[150,190],[150,190],[150,190],[150,190],[150,190],[150,190],[150,190],[150,190],[150,190],[150,190],[150,190],[150,190],[150,190],[150,190],[150,190],[150,190],[150,190],[150,190],[150,190],[150,190],[150,190],[150,190],[150,190],[150,190],[150,190],[150,190],[150,190],[250,293],[250,293],[250,293],[250,293],[250,293],[250,293],[250,293],[250,293],[250,293],[250,293],[250,293],[250,293],[250,293],[450,494],[450,494],[450,494],[450,494],[350,394],[350,394],[350,394],[350,394],[350,394],[350,394],[350,394],[550,596],[550,596],[550,596],[550,596],[550,596],[550,596],[550,596],[250,292],[250,292],[250,292],[250,292],[250,292],[250,292],[350,394],[350,394],[350,394],[350,394],[350,394],[550,595],[550,595],[550,595],[550,595],[550,595],[550,595],[550,595],[550,595],[550,595],[550,595],[550,595],[550,595],[550,595],[550,595],[550,595],[550,595],[550,595],[550,595],[550,595],[550,595],[550,595],[550,595],[550,595],[550,595]]}},\"id\":\"d3096bbc-b63f-491a-b066-06e66541d1ea\",\"type\":\"ColumnDataSource\"},{\"attributes\":{},\"id\":\"b2a56da0-021f-466f-bf23-c01533264523\",\"type\":\"BasicTicker\"},{\"attributes\":{\"formatter\":{\"id\":\"a03c9e18-f16f-41f5-8efc-b88730246894\",\"type\":\"BasicTickFormatter\"},\"plot\":{\"id\":\"2038723d-77cf-452c-8420-049b75d3e0e1\",\"subtype\":\"Figure\",\"type\":\"Plot\"},\"ticker\":{\"id\":\"b2a56da0-021f-466f-bf23-c01533264523\",\"type\":\"BasicTicker\"},\"visible\":null},\"id\":\"3b21b62c-4cb0-4038-b59b-22846888b375\",\"type\":\"LinearAxis\"},{\"attributes\":{\"plot\":null,\"text\":null},\"id\":\"a7dec0f5-c650-41a2-8829-237f4d69e626\",\"type\":\"Title\"},{\"attributes\":{\"plot\":{\"id\":\"2038723d-77cf-452c-8420-049b75d3e0e1\",\"subtype\":\"Figure\",\"type\":\"Plot\"},\"ticker\":{\"id\":\"49e6a080-ac90-4e8f-9698-ed1a5141969a\",\"type\":\"BasicTicker\"}},\"id\":\"192e2e92-e540-414f-b16e-a6a79245f0d6\",\"type\":\"Grid\"},{\"attributes\":{\"formatter\":{\"id\":\"a56caa99-1d78-4978-9652-9a5316979513\",\"type\":\"BasicTickFormatter\"},\"plot\":{\"id\":\"2038723d-77cf-452c-8420-049b75d3e0e1\",\"subtype\":\"Figure\",\"type\":\"Plot\"},\"ticker\":{\"id\":\"49e6a080-ac90-4e8f-9698-ed1a5141969a\",\"type\":\"BasicTicker\"}},\"id\":\"a82b5153-a4a8-4851-ab35-f4e602d45e5f\",\"type\":\"LinearAxis\"},{\"attributes\":{\"callback\":null,\"column_names\":[\"right\",\"bottom\",\"top\",\"left\"],\"data\":{\"bottom\":[645,645,645,645,645,645,645],\"left\":[135809835,135957574,136289083,136499189,136545415,136597196,136664254],\"right\":[135928279,136288182,136482839,136542633,136594750,136634047,136743222],\"top\":[675,675,675,675,675,675,675]}},\"id\":\"feeeb560-8540-44b9-bd7c-30faefd97339\",\"type\":\"ColumnDataSource\"},{\"attributes\":{\"plot\":{\"id\":\"2038723d-77cf-452c-8420-049b75d3e0e1\",\"subtype\":\"Figure\",\"type\":\"Plot\"}},\"id\":\"cdfa3fc1-3f98-41c4-b9f6-713cf7ad8500\",\"type\":\"PanTool\"},{\"attributes\":{\"data_source\":{\"id\":\"feeeb560-8540-44b9-bd7c-30faefd97339\",\"type\":\"ColumnDataSource\"},\"glyph\":{\"id\":\"da183c66-f408-4433-a945-bc8a04b75fe7\",\"type\":\"Quad\"},\"hover_glyph\":null,\"nonselection_glyph\":{\"id\":\"2114fa3b-c645-4454-82ef-a14811c90731\",\"type\":\"Quad\"},\"selection_glyph\":null},\"id\":\"da4b6b90-9355-4826-875b-86ef49cb9e2e\",\"type\":\"GlyphRenderer\"},{\"attributes\":{\"callback\":null,\"column_names\":[\"right\",\"bottom\",\"top\",\"left\",\"fill_color\"],\"data\":{\"bottom\":[550,150,50,450,150,250,450,350,550,250,350,550],\"fill_color\":[\"#808080\",\"#c4c461\",\"#ffff00\",\"#c4c461\",\"#808080\",\"#808080\",\"#808080\",\"#808080\",\"#c46161\",\"#808080\",\"#808080\",\"#808080\"],\"left\":[135757320,135829592,135959272,136393658,136494985,136500475,136506375,136535876,136588031,136652491,136652953,136653925],\"right\":[135777504,136420908,136375855,136486342,136773638,136542560,136538939,136554890,136593678,136732772,136761175,136761853],\"top\":[596,191,88,494,190,293,494,394,596,292,394,595]}},\"id\":\"418b0ef4-c6b7-4369-a272-1032d7ed334a\",\"type\":\"ColumnDataSource\"},{\"attributes\":{\"data_source\":{\"id\":\"418b0ef4-c6b7-4369-a272-1032d7ed334a\",\"type\":\"ColumnDataSource\"},\"glyph\":{\"id\":\"7e5179a9-18c0-48b6-ae20-9042b497cea5\",\"type\":\"Quad\"},\"hover_glyph\":null,\"nonselection_glyph\":{\"id\":\"3574c92f-553c-4e78-8fb6-3e5cb71383b9\",\"type\":\"Quad\"},\"selection_glyph\":null},\"id\":\"5d14d66f-484c-4250-9776-b2dbcebc73b9\",\"type\":\"GlyphRenderer\"},{\"attributes\":{\"below\":[{\"id\":\"a82b5153-a4a8-4851-ab35-f4e602d45e5f\",\"type\":\"LinearAxis\"}],\"left\":[{\"id\":\"3b21b62c-4cb0-4038-b59b-22846888b375\",\"type\":\"LinearAxis\"}],\"plot_height\":700,\"plot_width\":900,\"renderers\":[{\"id\":\"a82b5153-a4a8-4851-ab35-f4e602d45e5f\",\"type\":\"LinearAxis\"},{\"id\":\"192e2e92-e540-414f-b16e-a6a79245f0d6\",\"type\":\"Grid\"},{\"id\":\"3b21b62c-4cb0-4038-b59b-22846888b375\",\"type\":\"LinearAxis\"},{\"id\":\"7837e912-f410-4a64-9e1c-02e5f527ce3b\",\"type\":\"Grid\"},{\"id\":\"06d53e71-88e5-4a20-9e32-cbf8c8bbe536\",\"type\":\"BoxAnnotation\"},{\"id\":\"5d14d66f-484c-4250-9776-b2dbcebc73b9\",\"type\":\"GlyphRenderer\"},{\"id\":\"191f044d-c1d3-4a28-9e37-a540958371cc\",\"type\":\"GlyphRenderer\"},{\"id\":\"7889d620-58d9-4a93-a211-35a561ef1faa\",\"type\":\"LabelSet\"},{\"id\":\"da4b6b90-9355-4826-875b-86ef49cb9e2e\",\"type\":\"GlyphRenderer\"},{\"id\":\"13a81e53-72c1-4ef4-a25b-4c6cb57c4271\",\"type\":\"LabelSet\"}],\"title\":{\"id\":\"a7dec0f5-c650-41a2-8829-237f4d69e626\",\"type\":\"Title\"},\"tool_events\":{\"id\":\"58a8e985-3a8b-4969-8b5c-88be63b126d7\",\"type\":\"ToolEvents\"},\"toolbar\":{\"id\":\"ebfc231f-d76d-4d80-b93d-bc06afdf98c5\",\"type\":\"Toolbar\"},\"toolbar_location\":null,\"x_range\":{\"id\":\"41fe32a1-dc9c-4b53-b6b5-4154f6a0cd97\",\"type\":\"Range1d\"},\"y_range\":{\"id\":\"258c6fec-7951-4540-936f-0e8b23ff9aaa\",\"type\":\"Range1d\"}},\"id\":\"2038723d-77cf-452c-8420-049b75d3e0e1\",\"subtype\":\"Figure\",\"type\":\"Plot\"},{\"attributes\":{},\"id\":\"58a8e985-3a8b-4969-8b5c-88be63b126d7\",\"type\":\"ToolEvents\"},{\"attributes\":{\"callback\":null,\"end\":136786630,\"start\":135757320},\"id\":\"41fe32a1-dc9c-4b53-b6b5-4154f6a0cd97\",\"type\":\"Range1d\"},{\"attributes\":{\"data_source\":{\"id\":\"d3096bbc-b63f-491a-b066-06e66541d1ea\",\"type\":\"ColumnDataSource\"},\"glyph\":{\"id\":\"b7a87b67-1948-40ea-9e65-f88334462584\",\"type\":\"MultiLine\"},\"hover_glyph\":null,\"nonselection_glyph\":{\"id\":\"9a1ba056-9e45-4e9f-a8cc-fbc356ed86c7\",\"type\":\"MultiLine\"},\"selection_glyph\":null},\"id\":\"191f044d-c1d3-4a28-9e37-a540958371cc\",\"type\":\"GlyphRenderer\"},{\"attributes\":{\"plot\":{\"id\":\"2038723d-77cf-452c-8420-049b75d3e0e1\",\"subtype\":\"Figure\",\"type\":\"Plot\"}},\"id\":\"2686b516-d2fd-42cc-9a4b-2b9d8a2f453e\",\"type\":\"SaveTool\"},{\"attributes\":{},\"id\":\"49e6a080-ac90-4e8f-9698-ed1a5141969a\",\"type\":\"BasicTicker\"},{\"attributes\":{\"callback\":null,\"column_names\":[\"y\",\"x\",\"vals\"],\"data\":{\"vals\":[\"RAB3GAP1\",\"ZRANB3\",\"R3HDM1\",\"UBXN4\",\"LCT\",\"MCM6\",\"DARS\"],\"x\":[135869057.0,136122878.0,136385961.0,136520911.0,136570082.5,136615621.5,136703738.0],\"y\":[660.0,660.0,660.0,660.0,660.0,660.0,660.0]}},\"id\":\"5c2d6021-61f9-40a5-8a3f-04c9b13d35aa\",\"type\":\"ColumnDataSource\"},{\"attributes\":{\"level\":\"glyph\",\"plot\":{\"id\":\"2038723d-77cf-452c-8420-049b75d3e0e1\",\"subtype\":\"Figure\",\"type\":\"Plot\"},\"source\":{\"id\":\"13fb6cd7-893a-499a-becf-61711e09a146\",\"type\":\"ColumnDataSource\"},\"text\":{\"field\":\"vals\"},\"text_font_size\":{\"value\":\"9pt\"},\"text_font_style\":\"bold\",\"x\":{\"field\":\"x\"},\"y\":{\"field\":\"y\"}},\"id\":\"7889d620-58d9-4a93-a211-35a561ef1faa\",\"type\":\"LabelSet\"},{\"attributes\":{\"level\":\"glyph\",\"plot\":{\"id\":\"2038723d-77cf-452c-8420-049b75d3e0e1\",\"subtype\":\"Figure\",\"type\":\"Plot\"},\"source\":{\"id\":\"5c2d6021-61f9-40a5-8a3f-04c9b13d35aa\",\"type\":\"ColumnDataSource\"},\"text\":{\"field\":\"vals\"},\"text_align\":\"center\",\"text_baseline\":\"middle\",\"text_font_size\":{\"value\":\"8pt\"},\"x\":{\"field\":\"x\"},\"y\":{\"field\":\"y\"}},\"id\":\"13a81e53-72c1-4ef4-a25b-4c6cb57c4271\",\"type\":\"LabelSet\"},{\"attributes\":{\"plot\":{\"id\":\"2038723d-77cf-452c-8420-049b75d3e0e1\",\"subtype\":\"Figure\",\"type\":\"Plot\"}},\"id\":\"bd06b220-3d68-45dc-86f9-698fd69bda34\",\"type\":\"ResetTool\"},{\"attributes\":{},\"id\":\"a56caa99-1d78-4978-9652-9a5316979513\",\"type\":\"BasicTickFormatter\"},{\"attributes\":{\"bottom\":{\"field\":\"bottom\"},\"fill_color\":{\"field\":\"fill_color\"},\"left\":{\"field\":\"left\"},\"line_color\":{\"value\":null},\"right\":{\"field\":\"right\"},\"top\":{\"field\":\"top\"}},\"id\":\"7e5179a9-18c0-48b6-ae20-9042b497cea5\",\"type\":\"Quad\"},{\"attributes\":{\"active_drag\":\"auto\",\"active_scroll\":\"auto\",\"active_tap\":\"auto\",\"tools\":[{\"id\":\"cdfa3fc1-3f98-41c4-b9f6-713cf7ad8500\",\"type\":\"PanTool\"},{\"id\":\"d70fb07d-3dc2-46ee-97b3-9126bfb7d72c\",\"type\":\"WheelZoomTool\"},{\"id\":\"377b7782-d405-4cbe-a1ab-2cda8eb7e692\",\"type\":\"BoxZoomTool\"},{\"id\":\"2686b516-d2fd-42cc-9a4b-2b9d8a2f453e\",\"type\":\"SaveTool\"},{\"id\":\"bd06b220-3d68-45dc-86f9-698fd69bda34\",\"type\":\"ResetTool\"},{\"id\":\"3c3c887d-f76c-4551-b035-d2c6fcb7ca19\",\"type\":\"HelpTool\"}]},\"id\":\"ebfc231f-d76d-4d80-b93d-bc06afdf98c5\",\"type\":\"Toolbar\"},{\"attributes\":{\"bottom_units\":\"screen\",\"fill_alpha\":{\"value\":0.5},\"fill_color\":{\"value\":\"lightgrey\"},\"left_units\":\"screen\",\"level\":\"overlay\",\"line_alpha\":{\"value\":1.0},\"line_color\":{\"value\":\"black\"},\"line_dash\":[4,4],\"line_width\":{\"value\":2},\"plot\":null,\"render_mode\":\"css\",\"right_units\":\"screen\",\"top_units\":\"screen\"},\"id\":\"06d53e71-88e5-4a20-9e32-cbf8c8bbe536\",\"type\":\"BoxAnnotation\"},{\"attributes\":{\"bottom\":{\"field\":\"bottom\"},\"fill_alpha\":{\"value\":0.1},\"fill_color\":{\"value\":\"#1f77b4\"},\"left\":{\"field\":\"left\"},\"line_alpha\":{\"value\":0.1},\"line_color\":{\"value\":\"#1f77b4\"},\"right\":{\"field\":\"right\"},\"top\":{\"field\":\"top\"}},\"id\":\"2114fa3b-c645-4454-82ef-a14811c90731\",\"type\":\"Quad\"},{\"attributes\":{\"callback\":null,\"column_names\":[\"y\",\"x\",\"vals\"],\"data\":{\"vals\":[\"13_1696\",\"9_944\",\"5_684\",\"32_1361\",\"81_857\",\"13_1227\",\"4_1442\",\"7_1303\",\"7_1760\",\"6_1114\",\"5_1296\",\"24_1504\"],\"x\":[135757320,135829592,135959272,136393658,136494985,136500475,136506375,136535876,136588031,136652491,136652953,136653925],\"y\":[601.0,196.0,93.0,499.0,195.0,298.0,499.0,399.0,601.0,297.0,399.0,600.0]}},\"id\":\"13fb6cd7-893a-499a-becf-61711e09a146\",\"type\":\"ColumnDataSource\"},{\"attributes\":{\"line_alpha\":{\"value\":0.1},\"line_color\":{\"value\":\"#1f77b4\"},\"xs\":{\"field\":\"xs\"},\"ys\":{\"field\":\"ys\"}},\"id\":\"9a1ba056-9e45-4e9f-a8cc-fbc356ed86c7\",\"type\":\"MultiLine\"},{\"attributes\":{},\"id\":\"a03c9e18-f16f-41f5-8efc-b88730246894\",\"type\":\"BasicTickFormatter\"},{\"attributes\":{\"plot\":{\"id\":\"2038723d-77cf-452c-8420-049b75d3e0e1\",\"subtype\":\"Figure\",\"type\":\"Plot\"}},\"id\":\"d70fb07d-3dc2-46ee-97b3-9126bfb7d72c\",\"type\":\"WheelZoomTool\"},{\"attributes\":{\"callback\":null,\"end\":700},\"id\":\"258c6fec-7951-4540-936f-0e8b23ff9aaa\",\"type\":\"Range1d\"},{\"attributes\":{\"bottom\":{\"field\":\"bottom\"},\"fill_alpha\":{\"value\":0.1},\"fill_color\":{\"value\":\"#1f77b4\"},\"left\":{\"field\":\"left\"},\"line_alpha\":{\"value\":0.1},\"line_color\":{\"value\":\"#1f77b4\"},\"right\":{\"field\":\"right\"},\"top\":{\"field\":\"top\"}},\"id\":\"3574c92f-553c-4e78-8fb6-3e5cb71383b9\",\"type\":\"Quad\"},{\"attributes\":{\"plot\":{\"id\":\"2038723d-77cf-452c-8420-049b75d3e0e1\",\"subtype\":\"Figure\",\"type\":\"Plot\"}},\"id\":\"3c3c887d-f76c-4551-b035-d2c6fcb7ca19\",\"type\":\"HelpTool\"},{\"attributes\":{\"bottom\":{\"field\":\"bottom\"},\"fill_color\":{\"value\":\"white\"},\"left\":{\"field\":\"left\"},\"right\":{\"field\":\"right\"},\"top\":{\"field\":\"top\"}},\"id\":\"da183c66-f408-4433-a945-bc8a04b75fe7\",\"type\":\"Quad\"}],\"root_ids\":[\"2038723d-77cf-452c-8420-049b75d3e0e1\"]},\"title\":\"Bokeh Application\",\"version\":\"0.12.0\"}};\n",
       "            var render_items = [{\"docid\":\"54004a64-91d3-434b-ac18-cf3b602a89ff\",\"elementid\":\"9e6b2806-2d1c-47a7-878c-a41a883373a0\",\"modelid\":\"2038723d-77cf-452c-8420-049b75d3e0e1\",\"notebook_comms_target\":\"13b323ad-4191-4270-815e-a2ce403faaca\"}];\n",
       "            \n",
       "            Bokeh.embed.embed_items(docs_json, render_items);\n",
       "        });\n",
       "      },\n",
       "      function(Bokeh) {\n",
       "      }\n",
       "    ];\n",
       "  \n",
       "    function run_inline_js() {\n",
       "      for (var i = 0; i < inline_js.length; i++) {\n",
       "        inline_js[i](window.Bokeh);\n",
       "      }\n",
       "    }\n",
       "  \n",
       "    if (window._bokeh_is_loading === 0) {\n",
       "      console.log(\"Bokeh: BokehJS loaded, going straight to plotting\");\n",
       "      run_inline_js();\n",
       "    } else {\n",
       "      load_libs(js_urls, function() {\n",
       "        console.log(\"Bokeh: BokehJS plotting callback run at\", now());\n",
       "        run_inline_js();\n",
       "      });\n",
       "    }\n",
       "  }(this));\n",
       "</script>"
      ]
     },
     "metadata": {},
     "output_type": "display_data"
    },
    {
     "data": {
      "text/html": [
       "<p><code>&lt;Bokeh Notebook handle for <strong>In[4]</strong>&gt;</code></p>"
      ],
      "text/plain": [
       "<bokeh.io._CommsHandle at 0x7fa618a92810>"
      ]
     },
     "execution_count": 4,
     "metadata": {},
     "output_type": "execute_result"
    }
   ],
   "source": [
    "plt_obj = dm.superset_yes_no([dm.di_9_944], min_match=0.5)\n",
    "plt = plt_obj.do_plot()\n",
    "am = plt_obj.plot_context.yes_allele_mask\n",
    "show(plt)"
   ]
  },
  {
   "cell_type": "code",
   "execution_count": 5,
   "metadata": {
    "collapsed": false
   },
   "outputs": [
    {
     "data": {
      "text/html": [
       "<table>\n",
       "<thead><tr><th style=\"text-align:center\">index</th><th style=\"text-align:center\">first</th><th style=\"text-align:center\">length</th><th style=\"text-align:center\">snps</th><th style=\"text-align:center\" colspan=2>alleles</th><th style=\"text-align:center\" colspan=2>matches</th><th style=\"text-align:center\" colspan=2>afr</th><th style=\"text-align:center\" colspan=2>afx</th><th style=\"text-align:center\" colspan=2>amr</th><th style=\"text-align:center\" colspan=2>eas</th><th style=\"text-align:center\" colspan=2>eur</th><th style=\"text-align:center\" colspan=2>sas</th><th style=\"text-align:center\" colspan=2>sax</th></tr></thead>\n",
       "<tr class=\"even\"><td style=\"text-align: right;\">354033</td><td style=\"text-align: right;\">136,588,031</td><td style=\"text-align: right;\">5,647</td><td style=\"text-align: right;\">7</td><td style=\"text-align: right;\">1760</td><td style=\"text-align: right;\">0.34</td><td style=\"text-align: right;\">604</td><td style=\"text-align: right;\">0.64</td><td style=\"text-align: right;\">17</td><td style=\"text-align: right;\">0.14</td><td style=\"text-align: right;\">4</td><td style=\"text-align: right;\">0.11</td><td style=\"text-align: right;\">106</td><td style=\"text-align: right;\">1.27</td><td style=\"text-align: right;\">145</td><td style=\"text-align: right;\">1.19</td><td style=\"text-align: right;\">155</td><td style=\"text-align: right;\">1.28</td><td style=\"text-align: right;\">61</td><td style=\"text-align: right;\">1.39</td><td style=\"text-align: right;\">116</td><td style=\"text-align: right;\">1.57</td></tr>\n",
       "<tr><td style=\"text-align: right;\">353240</td><td style=\"text-align: right;\">135,757,320</td><td style=\"text-align: right;\">20,184</td><td style=\"text-align: right;\">13</td><td style=\"text-align: right;\">1696</td><td style=\"text-align: right;\">0.55</td><td style=\"text-align: right;\">938</td><td style=\"text-align: right;\">0.99</td><td style=\"text-align: right;\">19</td><td style=\"text-align: right;\">0.10</td><td style=\"text-align: right;\">5</td><td style=\"text-align: right;\">0.09</td><td style=\"text-align: right;\">124</td><td style=\"text-align: right;\">0.95</td><td style=\"text-align: right;\">366</td><td style=\"text-align: right;\">1.94</td><td style=\"text-align: right;\">164</td><td style=\"text-align: right;\">0.87</td><td style=\"text-align: right;\">84</td><td style=\"text-align: right;\">1.23</td><td style=\"text-align: right;\">176</td><td style=\"text-align: right;\">1.53</td></tr>\n",
       "<tr class=\"even\"><td style=\"text-align: right;\">354130</td><td style=\"text-align: right;\">136,653,925</td><td style=\"text-align: right;\">107,928</td><td style=\"text-align: right;\">24</td><td style=\"text-align: right;\">1504</td><td style=\"text-align: right;\">0.38</td><td style=\"text-align: right;\">566</td><td style=\"text-align: right;\">0.60</td><td style=\"text-align: right;\">18</td><td style=\"text-align: right;\">0.16</td><td style=\"text-align: right;\">4</td><td style=\"text-align: right;\">0.11</td><td style=\"text-align: right;\">103</td><td style=\"text-align: right;\">1.31</td><td style=\"text-align: right;\">143</td><td style=\"text-align: right;\">1.26</td><td style=\"text-align: right;\">144</td><td style=\"text-align: right;\">1.27</td><td style=\"text-align: right;\">50</td><td style=\"text-align: right;\">1.22</td><td style=\"text-align: right;\">104</td><td style=\"text-align: right;\">1.50</td></tr>\n",
       "<tr><td style=\"text-align: right;\">353925</td><td style=\"text-align: right;\">136,506,375</td><td style=\"text-align: right;\">32,564</td><td style=\"text-align: right;\">4</td><td style=\"text-align: right;\">1442</td><td style=\"text-align: right;\">0.44</td><td style=\"text-align: right;\">635</td><td style=\"text-align: right;\">0.67</td><td style=\"text-align: right;\">17</td><td style=\"text-align: right;\">0.13</td><td style=\"text-align: right;\">4</td><td style=\"text-align: right;\">0.10</td><td style=\"text-align: right;\">106</td><td style=\"text-align: right;\">1.20</td><td style=\"text-align: right;\">169</td><td style=\"text-align: right;\">1.32</td><td style=\"text-align: right;\">158</td><td style=\"text-align: right;\">1.24</td><td style=\"text-align: right;\">62</td><td style=\"text-align: right;\">1.34</td><td style=\"text-align: right;\">119</td><td style=\"text-align: right;\">1.53</td></tr>\n",
       "<tr class=\"even\"><td style=\"text-align: right;\">353791</td><td style=\"text-align: right;\">136,393,658</td><td style=\"text-align: right;\">92,684</td><td style=\"text-align: right;\">32</td><td style=\"text-align: right;\">1361</td><td style=\"text-align: right;\">0.69</td><td style=\"text-align: right;\">936</td><td style=\"text-align: right;\">0.99</td><td style=\"text-align: right;\">19</td><td style=\"text-align: right;\">0.10</td><td style=\"text-align: right;\">5</td><td style=\"text-align: right;\">0.09</td><td style=\"text-align: right;\">126</td><td style=\"text-align: right;\">0.97</td><td style=\"text-align: right;\">359</td><td style=\"text-align: right;\">1.91</td><td style=\"text-align: right;\">165</td><td style=\"text-align: right;\">0.88</td><td style=\"text-align: right;\">85</td><td style=\"text-align: right;\">1.25</td><td style=\"text-align: right;\">177</td><td style=\"text-align: right;\">1.54</td></tr>\n",
       "<tr><td style=\"text-align: right;\">353958</td><td style=\"text-align: right;\">136,535,876</td><td style=\"text-align: right;\">19,014</td><td style=\"text-align: right;\">7</td><td style=\"text-align: right;\">1303</td><td style=\"text-align: right;\">0.49</td><td style=\"text-align: right;\">634</td><td style=\"text-align: right;\">0.67</td><td style=\"text-align: right;\">17</td><td style=\"text-align: right;\">0.13</td><td style=\"text-align: right;\">4</td><td style=\"text-align: right;\">0.10</td><td style=\"text-align: right;\">106</td><td style=\"text-align: right;\">1.21</td><td style=\"text-align: right;\">168</td><td style=\"text-align: right;\">1.32</td><td style=\"text-align: right;\">158</td><td style=\"text-align: right;\">1.24</td><td style=\"text-align: right;\">62</td><td style=\"text-align: right;\">1.35</td><td style=\"text-align: right;\">119</td><td style=\"text-align: right;\">1.53</td></tr>\n",
       "<tr class=\"even\"><td style=\"text-align: right;\">354129</td><td style=\"text-align: right;\">136,652,953</td><td style=\"text-align: right;\">108,222</td><td style=\"text-align: right;\">5</td><td style=\"text-align: right;\">1296</td><td style=\"text-align: right;\">0.43</td><td style=\"text-align: right;\">557</td><td style=\"text-align: right;\">0.59</td><td style=\"text-align: right;\">17</td><td style=\"text-align: right;\">0.15</td><td style=\"text-align: right;\">4</td><td style=\"text-align: right;\">0.11</td><td style=\"text-align: right;\">103</td><td style=\"text-align: right;\">1.33</td><td style=\"text-align: right;\">142</td><td style=\"text-align: right;\">1.27</td><td style=\"text-align: right;\">142</td><td style=\"text-align: right;\">1.27</td><td style=\"text-align: right;\">49</td><td style=\"text-align: right;\">1.21</td><td style=\"text-align: right;\">100</td><td style=\"text-align: right;\">1.46</td></tr>\n",
       "<tr><td style=\"text-align: right;\">353919</td><td style=\"text-align: right;\">136,500,475</td><td style=\"text-align: right;\">42,085</td><td style=\"text-align: right;\">13</td><td style=\"text-align: right;\">1227</td><td style=\"text-align: right;\">0.51</td><td style=\"text-align: right;\">629</td><td style=\"text-align: right;\">0.67</td><td style=\"text-align: right;\">17</td><td style=\"text-align: right;\">0.13</td><td style=\"text-align: right;\">4</td><td style=\"text-align: right;\">0.10</td><td style=\"text-align: right;\">104</td><td style=\"text-align: right;\">1.19</td><td style=\"text-align: right;\">169</td><td style=\"text-align: right;\">1.33</td><td style=\"text-align: right;\">158</td><td style=\"text-align: right;\">1.25</td><td style=\"text-align: right;\">61</td><td style=\"text-align: right;\">1.33</td><td style=\"text-align: right;\">116</td><td style=\"text-align: right;\">1.50</td></tr>\n",
       "<tr class=\"even\"><td style=\"text-align: right;\">354127</td><td style=\"text-align: right;\">136,652,491</td><td style=\"text-align: right;\">80,281</td><td style=\"text-align: right;\">6</td><td style=\"text-align: right;\">1114</td><td style=\"text-align: right;\">0.49</td><td style=\"text-align: right;\">550</td><td style=\"text-align: right;\">0.58</td><td style=\"text-align: right;\">17</td><td style=\"text-align: right;\">0.15</td><td style=\"text-align: right;\">4</td><td style=\"text-align: right;\">0.12</td><td style=\"text-align: right;\">103</td><td style=\"text-align: right;\">1.35</td><td style=\"text-align: right;\">135</td><td style=\"text-align: right;\">1.22</td><td style=\"text-align: right;\">142</td><td style=\"text-align: right;\">1.29</td><td style=\"text-align: right;\">49</td><td style=\"text-align: right;\">1.23</td><td style=\"text-align: right;\">100</td><td style=\"text-align: right;\">1.48</td></tr>\n",
       "<tr><td style=\"text-align: right;\">353372</td><td style=\"text-align: right;\">135,829,592</td><td style=\"text-align: right;\">591,316</td><td style=\"text-align: right;\">9</td><td style=\"text-align: right;\">944</td><td style=\"text-align: right;\">1.00</td><td style=\"text-align: right;\">944</td><td style=\"text-align: right;\">1.00</td><td style=\"text-align: right;\">19</td><td style=\"text-align: right;\">0.10</td><td style=\"text-align: right;\">5</td><td style=\"text-align: right;\">0.08</td><td style=\"text-align: right;\">126</td><td style=\"text-align: right;\">0.96</td><td style=\"text-align: right;\">367</td><td style=\"text-align: right;\">1.93</td><td style=\"text-align: right;\">165</td><td style=\"text-align: right;\">0.87</td><td style=\"text-align: right;\">85</td><td style=\"text-align: right;\">1.24</td><td style=\"text-align: right;\">177</td><td style=\"text-align: right;\">1.53</td></tr>\n",
       "<tr class=\"even\"><td style=\"text-align: right;\">353902</td><td style=\"text-align: right;\">136,494,985</td><td style=\"text-align: right;\">278,653</td><td style=\"text-align: right;\">81</td><td style=\"text-align: right;\">857</td><td style=\"text-align: right;\">0.64</td><td style=\"text-align: right;\">546</td><td style=\"text-align: right;\">0.58</td><td style=\"text-align: right;\">17</td><td style=\"text-align: right;\">0.15</td><td style=\"text-align: right;\">4</td><td style=\"text-align: right;\">0.12</td><td style=\"text-align: right;\">103</td><td style=\"text-align: right;\">1.36</td><td style=\"text-align: right;\">131</td><td style=\"text-align: right;\">1.19</td><td style=\"text-align: right;\">142</td><td style=\"text-align: right;\">1.29</td><td style=\"text-align: right;\">49</td><td style=\"text-align: right;\">1.23</td><td style=\"text-align: right;\">100</td><td style=\"text-align: right;\">1.49</td></tr>\n",
       "<tr><td style=\"text-align: right;\">353498</td><td style=\"text-align: right;\">135,959,272</td><td style=\"text-align: right;\">416,583</td><td style=\"text-align: right;\">5</td><td style=\"text-align: right;\">684</td><td style=\"text-align: right;\">0.82</td><td style=\"text-align: right;\">562</td><td style=\"text-align: right;\">0.60</td><td style=\"text-align: right;\">0</td><td style=\"text-align: right;\">0.00</td><td style=\"text-align: right;\">1</td><td style=\"text-align: right;\">0.03</td><td style=\"text-align: right;\">62</td><td style=\"text-align: right;\">0.80</td><td style=\"text-align: right;\">342</td><td style=\"text-align: right;\">3.02</td><td style=\"text-align: right;\">30</td><td style=\"text-align: right;\">0.27</td><td style=\"text-align: right;\">41</td><td style=\"text-align: right;\">1.00</td><td style=\"text-align: right;\">86</td><td style=\"text-align: right;\">1.25</td></tr>\n",
       "</table>"
      ],
      "text/plain": [
       "<IPython.core.display.HTML object>"
      ]
     },
     "execution_count": 5,
     "metadata": {},
     "output_type": "execute_result"
    }
   ],
   "source": [
    "HTML(plt_obj.get_html())"
   ]
  },
  {
   "cell_type": "code",
   "execution_count": 6,
   "metadata": {
    "collapsed": false
   },
   "outputs": [
    {
     "data": {
      "text/html": [
       "\n",
       "\n",
       "    <div class=\"bk-root\">\n",
       "        <div class=\"plotdiv\" id=\"0ec0cd4c-4cd3-4e45-97fb-c17dd6980c3a\"></div>\n",
       "    </div>\n",
       "<script type=\"text/javascript\">\n",
       "  \n",
       "  (function(global) {\n",
       "    function now() {\n",
       "      return new Date();\n",
       "    }\n",
       "  \n",
       "    if (typeof (window._bokeh_onload_callbacks) === \"undefined\") {\n",
       "      window._bokeh_onload_callbacks = [];\n",
       "    }\n",
       "  \n",
       "    function run_callbacks() {\n",
       "      window._bokeh_onload_callbacks.forEach(function(callback) { callback() });\n",
       "      delete window._bokeh_onload_callbacks\n",
       "      console.info(\"Bokeh: all callbacks have finished\");\n",
       "    }\n",
       "  \n",
       "    function load_libs(js_urls, callback) {\n",
       "      window._bokeh_onload_callbacks.push(callback);\n",
       "      if (window._bokeh_is_loading > 0) {\n",
       "        console.log(\"Bokeh: BokehJS is being loaded, scheduling callback at\", now());\n",
       "        return null;\n",
       "      }\n",
       "      if (js_urls == null || js_urls.length === 0) {\n",
       "        run_callbacks();\n",
       "        return null;\n",
       "      }\n",
       "      console.log(\"Bokeh: BokehJS not loaded, scheduling load and callback at\", now());\n",
       "      window._bokeh_is_loading = js_urls.length;\n",
       "      for (var i = 0; i < js_urls.length; i++) {\n",
       "        var url = js_urls[i];\n",
       "        var s = document.createElement('script');\n",
       "        s.src = url;\n",
       "        s.async = false;\n",
       "        s.onreadystatechange = s.onload = function() {\n",
       "          window._bokeh_is_loading--;\n",
       "          if (window._bokeh_is_loading === 0) {\n",
       "            console.log(\"Bokeh: all BokehJS libraries loaded\");\n",
       "            run_callbacks()\n",
       "          }\n",
       "        };\n",
       "        s.onerror = function() {\n",
       "          console.warn(\"failed to load library \" + url);\n",
       "        };\n",
       "        console.log(\"Bokeh: injecting script tag for BokehJS library: \", url);\n",
       "        document.getElementsByTagName(\"head\")[0].appendChild(s);\n",
       "      }\n",
       "    };var element = document.getElementById(\"0ec0cd4c-4cd3-4e45-97fb-c17dd6980c3a\");\n",
       "    if (element == null) {\n",
       "      console.log(\"Bokeh: ERROR: autoload.js configured with elementid '0ec0cd4c-4cd3-4e45-97fb-c17dd6980c3a' but no matching script tag was found. \")\n",
       "      return false;\n",
       "    }\n",
       "  \n",
       "    var js_urls = [];\n",
       "  \n",
       "    var inline_js = [\n",
       "      function(Bokeh) {\n",
       "        Bokeh.$(function() {\n",
       "            var docs_json = {\"2f59d70f-ee64-484e-8d13-5417ff98cbaf\":{\"roots\":{\"references\":[{\"attributes\":{\"formatter\":{\"id\":\"bd611b4e-25aa-4a00-b6cf-a6df024b64d2\",\"type\":\"BasicTickFormatter\"},\"plot\":{\"id\":\"514fb947-3bf9-46a5-b2f5-49f521f482f9\",\"subtype\":\"Figure\",\"type\":\"Plot\"},\"ticker\":{\"id\":\"ea5ea6fd-d182-440c-bc8b-e68145632c5b\",\"type\":\"BasicTicker\"}},\"id\":\"8b949a92-41cd-4696-8bc1-a113db3773d9\",\"type\":\"LinearAxis\"},{\"attributes\":{},\"id\":\"0b89c790-e9b4-4835-a321-eedba087e2fe\",\"type\":\"BasicTicker\"},{\"attributes\":{\"callback\":null,\"end\":10.5,\"start\":-0.5},\"id\":\"7e0f2e4d-bb30-48e8-862d-3e29217846a2\",\"type\":\"Range1d\"},{\"attributes\":{\"data_source\":{\"id\":\"5310e9e5-2aba-433e-9a97-5e174821dc25\",\"type\":\"ColumnDataSource\"},\"glyph\":{\"id\":\"c369cd34-30ca-4ecd-91d0-c72a4ad0d4c8\",\"type\":\"Line\"},\"hover_glyph\":null,\"nonselection_glyph\":{\"id\":\"9357ae8c-d222-42b8-8899-6e4f16615a1b\",\"type\":\"Line\"},\"selection_glyph\":null},\"id\":\"a501a77c-21b5-40da-af80-332adb3d6411\",\"type\":\"GlyphRenderer\"},{\"attributes\":{\"plot\":{\"id\":\"514fb947-3bf9-46a5-b2f5-49f521f482f9\",\"subtype\":\"Figure\",\"type\":\"Plot\"}},\"id\":\"fad17479-5385-4c9c-9ecd-54f95abd5041\",\"type\":\"ResetTool\"},{\"attributes\":{\"callback\":null,\"end\":3971.0000000000005},\"id\":\"335bbeb6-e679-49b4-9598-eccb138d7c28\",\"type\":\"Range1d\"},{\"attributes\":{\"bottom_units\":\"screen\",\"fill_alpha\":{\"value\":0.5},\"fill_color\":{\"value\":\"lightgrey\"},\"left_units\":\"screen\",\"level\":\"overlay\",\"line_alpha\":{\"value\":1.0},\"line_color\":{\"value\":\"black\"},\"line_dash\":[4,4],\"line_width\":{\"value\":2},\"plot\":null,\"render_mode\":\"css\",\"right_units\":\"screen\",\"top_units\":\"screen\"},\"id\":\"24556881-2eb2-4b1f-9080-71e054ab1b46\",\"type\":\"BoxAnnotation\"},{\"attributes\":{\"plot\":{\"id\":\"514fb947-3bf9-46a5-b2f5-49f521f482f9\",\"subtype\":\"Figure\",\"type\":\"Plot\"}},\"id\":\"7cbd956f-e33f-4cde-abc2-f6fe5bdd2525\",\"type\":\"SaveTool\"},{\"attributes\":{\"plot\":{\"id\":\"514fb947-3bf9-46a5-b2f5-49f521f482f9\",\"subtype\":\"Figure\",\"type\":\"Plot\"},\"ticker\":{\"id\":\"0b89c790-e9b4-4835-a321-eedba087e2fe\",\"type\":\"BasicTicker\"}},\"id\":\"ac5050df-51e0-44e1-b334-5bb793d9ab2a\",\"type\":\"Grid\"},{\"attributes\":{},\"id\":\"f9023723-9f0d-4ea1-a896-61a18d01c316\",\"type\":\"ToolEvents\"},{\"attributes\":{\"line_color\":{\"value\":\"#1f77b4\"},\"x\":{\"field\":\"x\"},\"y\":{\"field\":\"y\"}},\"id\":\"c369cd34-30ca-4ecd-91d0-c72a4ad0d4c8\",\"type\":\"Line\"},{\"attributes\":{\"active_drag\":\"auto\",\"active_scroll\":\"auto\",\"active_tap\":\"auto\",\"tools\":[{\"id\":\"c5ef69d1-2201-49ea-8c11-c7259bdcc188\",\"type\":\"PanTool\"},{\"id\":\"8c0daee8-b156-4460-8b78-485f327176eb\",\"type\":\"WheelZoomTool\"},{\"id\":\"e74b1fc7-e745-4371-8c17-61927b21fc49\",\"type\":\"BoxZoomTool\"},{\"id\":\"7cbd956f-e33f-4cde-abc2-f6fe5bdd2525\",\"type\":\"SaveTool\"},{\"id\":\"fad17479-5385-4c9c-9ecd-54f95abd5041\",\"type\":\"ResetTool\"},{\"id\":\"c3da35fd-3827-4f88-9c54-898a3c596fad\",\"type\":\"HelpTool\"}]},\"id\":\"67032f6b-dfb1-4294-a3ca-07ed7f1b5af8\",\"type\":\"Toolbar\"},{\"attributes\":{},\"id\":\"ea5ea6fd-d182-440c-bc8b-e68145632c5b\",\"type\":\"BasicTicker\"},{\"attributes\":{},\"id\":\"bd611b4e-25aa-4a00-b6cf-a6df024b64d2\",\"type\":\"BasicTickFormatter\"},{\"attributes\":{\"plot\":{\"id\":\"514fb947-3bf9-46a5-b2f5-49f521f482f9\",\"subtype\":\"Figure\",\"type\":\"Plot\"}},\"id\":\"c5ef69d1-2201-49ea-8c11-c7259bdcc188\",\"type\":\"PanTool\"},{\"attributes\":{\"plot\":{\"id\":\"514fb947-3bf9-46a5-b2f5-49f521f482f9\",\"subtype\":\"Figure\",\"type\":\"Plot\"}},\"id\":\"c3da35fd-3827-4f88-9c54-898a3c596fad\",\"type\":\"HelpTool\"},{\"attributes\":{\"plot\":{\"id\":\"514fb947-3bf9-46a5-b2f5-49f521f482f9\",\"subtype\":\"Figure\",\"type\":\"Plot\"}},\"id\":\"8c0daee8-b156-4460-8b78-485f327176eb\",\"type\":\"WheelZoomTool\"},{\"attributes\":{\"line_alpha\":{\"value\":0.1},\"line_color\":{\"value\":\"#1f77b4\"},\"x\":{\"field\":\"x\"},\"y\":{\"field\":\"y\"}},\"id\":\"9357ae8c-d222-42b8-8899-6e4f16615a1b\",\"type\":\"Line\"},{\"attributes\":{\"below\":[{\"id\":\"2927e88e-5ed0-4a25-bed3-d645bbd5fc37\",\"type\":\"LinearAxis\"}],\"left\":[{\"id\":\"8b949a92-41cd-4696-8bc1-a113db3773d9\",\"type\":\"LinearAxis\"}],\"plot_height\":400,\"plot_width\":900,\"renderers\":[{\"id\":\"2927e88e-5ed0-4a25-bed3-d645bbd5fc37\",\"type\":\"LinearAxis\"},{\"id\":\"ac5050df-51e0-44e1-b334-5bb793d9ab2a\",\"type\":\"Grid\"},{\"id\":\"8b949a92-41cd-4696-8bc1-a113db3773d9\",\"type\":\"LinearAxis\"},{\"id\":\"e1ec4f10-08d1-4e44-8a88-ef3f925fa878\",\"type\":\"Grid\"},{\"id\":\"24556881-2eb2-4b1f-9080-71e054ab1b46\",\"type\":\"BoxAnnotation\"},{\"id\":\"a501a77c-21b5-40da-af80-332adb3d6411\",\"type\":\"GlyphRenderer\"}],\"title\":{\"id\":\"84cdcb0b-d7c5-4e82-8d6b-d33a86700d69\",\"type\":\"Title\"},\"tool_events\":{\"id\":\"f9023723-9f0d-4ea1-a896-61a18d01c316\",\"type\":\"ToolEvents\"},\"toolbar\":{\"id\":\"67032f6b-dfb1-4294-a3ca-07ed7f1b5af8\",\"type\":\"Toolbar\"},\"toolbar_location\":null,\"x_range\":{\"id\":\"7e0f2e4d-bb30-48e8-862d-3e29217846a2\",\"type\":\"Range1d\"},\"y_range\":{\"id\":\"335bbeb6-e679-49b4-9598-eccb138d7c28\",\"type\":\"Range1d\"}},\"id\":\"514fb947-3bf9-46a5-b2f5-49f521f482f9\",\"subtype\":\"Figure\",\"type\":\"Plot\"},{\"attributes\":{\"formatter\":{\"id\":\"e52ccd54-834e-4a98-ab53-40261928842d\",\"type\":\"BasicTickFormatter\"},\"plot\":{\"id\":\"514fb947-3bf9-46a5-b2f5-49f521f482f9\",\"subtype\":\"Figure\",\"type\":\"Plot\"},\"ticker\":{\"id\":\"0b89c790-e9b4-4835-a321-eedba087e2fe\",\"type\":\"BasicTicker\"}},\"id\":\"2927e88e-5ed0-4a25-bed3-d645bbd5fc37\",\"type\":\"LinearAxis\"},{\"attributes\":{\"plot\":null,\"text\":null},\"id\":\"84cdcb0b-d7c5-4e82-8d6b-d33a86700d69\",\"type\":\"Title\"},{\"attributes\":{\"dimension\":1,\"plot\":{\"id\":\"514fb947-3bf9-46a5-b2f5-49f521f482f9\",\"subtype\":\"Figure\",\"type\":\"Plot\"},\"ticker\":{\"id\":\"ea5ea6fd-d182-440c-bc8b-e68145632c5b\",\"type\":\"BasicTicker\"}},\"id\":\"e1ec4f10-08d1-4e44-8a88-ef3f925fa878\",\"type\":\"Grid\"},{\"attributes\":{},\"id\":\"e52ccd54-834e-4a98-ab53-40261928842d\",\"type\":\"BasicTickFormatter\"},{\"attributes\":{\"overlay\":{\"id\":\"24556881-2eb2-4b1f-9080-71e054ab1b46\",\"type\":\"BoxAnnotation\"},\"plot\":{\"id\":\"514fb947-3bf9-46a5-b2f5-49f521f482f9\",\"subtype\":\"Figure\",\"type\":\"Plot\"}},\"id\":\"e74b1fc7-e745-4371-8c17-61927b21fc49\",\"type\":\"BoxZoomTool\"},{\"attributes\":{\"callback\":null,\"column_names\":[\"y\",\"x\"],\"data\":{\"x\":[-0.5,-0.5,0.5,0.5,1.5,1.5,2.5,2.5,3.5,3.5,4.5,4.5,5.5,5.5,6.5,6.5,7.5,7.5,8.5,8.5,9.5,9.5],\"y\":[0.0,3610.0,3610.0,28.0,28.0,31.0,31.0,81.0,81.0,52.0,52.0,24.0,24.0,103.0,103.0,135.0,135.0,19.0,19.0,925.0,925.0,0.0]}},\"id\":\"5310e9e5-2aba-433e-9a97-5e174821dc25\",\"type\":\"ColumnDataSource\"}],\"root_ids\":[\"514fb947-3bf9-46a5-b2f5-49f521f482f9\"]},\"title\":\"Bokeh Application\",\"version\":\"0.12.0\"}};\n",
       "            var render_items = [{\"docid\":\"2f59d70f-ee64-484e-8d13-5417ff98cbaf\",\"elementid\":\"0ec0cd4c-4cd3-4e45-97fb-c17dd6980c3a\",\"modelid\":\"514fb947-3bf9-46a5-b2f5-49f521f482f9\",\"notebook_comms_target\":\"dd4d1120-b673-4e1d-8dce-35c0299eb793\"}];\n",
       "            \n",
       "            Bokeh.embed.embed_items(docs_json, render_items);\n",
       "        });\n",
       "      },\n",
       "      function(Bokeh) {\n",
       "      }\n",
       "    ];\n",
       "  \n",
       "    function run_inline_js() {\n",
       "      for (var i = 0; i < inline_js.length; i++) {\n",
       "        inline_js[i](window.Bokeh);\n",
       "      }\n",
       "    }\n",
       "  \n",
       "    if (window._bokeh_is_loading === 0) {\n",
       "      console.log(\"Bokeh: BokehJS loaded, going straight to plotting\");\n",
       "      run_inline_js();\n",
       "    } else {\n",
       "      load_libs(js_urls, function() {\n",
       "        console.log(\"Bokeh: BokehJS plotting callback run at\", now());\n",
       "        run_inline_js();\n",
       "      });\n",
       "    }\n",
       "  }(this));\n",
       "</script>"
      ]
     },
     "metadata": {},
     "output_type": "display_data"
    },
    {
     "data": {
      "text/html": [
       "<p><code>&lt;Bokeh Notebook handle for <strong>In[6]</strong>&gt;</code></p>"
      ],
      "text/plain": [
       "<bokeh.io._CommsHandle at 0x7fa618a7b590>"
      ]
     },
     "execution_count": 6,
     "metadata": {},
     "output_type": "execute_result"
    }
   ],
   "source": [
    "count_data = sa_9_944.unique_snps_per_allele()\n",
    "plt_obj = smcp(count_data)\n",
    "plt = plt_obj.do_plot()\n",
    "show(plt)"
   ]
  },
  {
   "cell_type": "code",
   "execution_count": 7,
   "metadata": {
    "collapsed": false
   },
   "outputs": [
    {
     "data": {
      "text/plain": [
       "array([(0, 3610), (1, 28), (2, 31), (3, 81), (4, 52), (5, 24), (6, 103),\n",
       "       (7, 135), (8, 19), (9, 925)], \n",
       "      dtype=[('count', '<u2'), ('snps', '<u2')])"
      ]
     },
     "execution_count": 7,
     "metadata": {},
     "output_type": "execute_result"
    }
   ],
   "source": [
    "count_data"
   ]
  },
  {
   "cell_type": "code",
   "execution_count": 8,
   "metadata": {
    "collapsed": false
   },
   "outputs": [
    {
     "data": {
      "text/plain": [
       "395"
      ]
     },
     "execution_count": 8,
     "metadata": {},
     "output_type": "execute_result"
    }
   ],
   "source": [
    "81+52+24+103+135 "
   ]
  },
  {
   "cell_type": "code",
   "execution_count": 9,
   "metadata": {
    "collapsed": false
   },
   "outputs": [
    {
     "data": {
      "text/plain": [
       "array([27,  5, 20,  0,  2,  4,  2,  2,  0])"
      ]
     },
     "execution_count": 9,
     "metadata": {},
     "output_type": "execute_result"
    }
   ],
   "source": [
    "aps_2, am_2 = sa_9_944.snps_from_aps_value(2)\n",
    "aps_2"
   ]
  },
  {
   "cell_type": "code",
   "execution_count": 10,
   "metadata": {
    "collapsed": false
   },
   "outputs": [
    {
     "data": {
      "text/plain": [
       "array([41,  1, 41,  0,  0, 45, 40, 40, 35])"
      ]
     },
     "execution_count": 10,
     "metadata": {},
     "output_type": "execute_result"
    }
   ],
   "source": [
    "aps_3, am_3 = sa_9_944.snps_from_aps_value(3)\n",
    "aps_3"
   ]
  },
  {
   "cell_type": "code",
   "execution_count": 11,
   "metadata": {
    "collapsed": false
   },
   "outputs": [
    {
     "data": {
      "text/html": [
       "\n",
       "\n",
       "    <div class=\"bk-root\">\n",
       "        <div class=\"plotdiv\" id=\"c9b91b9d-01e7-426d-9194-0a4335374a90\"></div>\n",
       "    </div>\n",
       "<script type=\"text/javascript\">\n",
       "  \n",
       "  (function(global) {\n",
       "    function now() {\n",
       "      return new Date();\n",
       "    }\n",
       "  \n",
       "    if (typeof (window._bokeh_onload_callbacks) === \"undefined\") {\n",
       "      window._bokeh_onload_callbacks = [];\n",
       "    }\n",
       "  \n",
       "    function run_callbacks() {\n",
       "      window._bokeh_onload_callbacks.forEach(function(callback) { callback() });\n",
       "      delete window._bokeh_onload_callbacks\n",
       "      console.info(\"Bokeh: all callbacks have finished\");\n",
       "    }\n",
       "  \n",
       "    function load_libs(js_urls, callback) {\n",
       "      window._bokeh_onload_callbacks.push(callback);\n",
       "      if (window._bokeh_is_loading > 0) {\n",
       "        console.log(\"Bokeh: BokehJS is being loaded, scheduling callback at\", now());\n",
       "        return null;\n",
       "      }\n",
       "      if (js_urls == null || js_urls.length === 0) {\n",
       "        run_callbacks();\n",
       "        return null;\n",
       "      }\n",
       "      console.log(\"Bokeh: BokehJS not loaded, scheduling load and callback at\", now());\n",
       "      window._bokeh_is_loading = js_urls.length;\n",
       "      for (var i = 0; i < js_urls.length; i++) {\n",
       "        var url = js_urls[i];\n",
       "        var s = document.createElement('script');\n",
       "        s.src = url;\n",
       "        s.async = false;\n",
       "        s.onreadystatechange = s.onload = function() {\n",
       "          window._bokeh_is_loading--;\n",
       "          if (window._bokeh_is_loading === 0) {\n",
       "            console.log(\"Bokeh: all BokehJS libraries loaded\");\n",
       "            run_callbacks()\n",
       "          }\n",
       "        };\n",
       "        s.onerror = function() {\n",
       "          console.warn(\"failed to load library \" + url);\n",
       "        };\n",
       "        console.log(\"Bokeh: injecting script tag for BokehJS library: \", url);\n",
       "        document.getElementsByTagName(\"head\")[0].appendChild(s);\n",
       "      }\n",
       "    };var element = document.getElementById(\"c9b91b9d-01e7-426d-9194-0a4335374a90\");\n",
       "    if (element == null) {\n",
       "      console.log(\"Bokeh: ERROR: autoload.js configured with elementid 'c9b91b9d-01e7-426d-9194-0a4335374a90' but no matching script tag was found. \")\n",
       "      return false;\n",
       "    }\n",
       "  \n",
       "    var js_urls = [];\n",
       "  \n",
       "    var inline_js = [\n",
       "      function(Bokeh) {\n",
       "        Bokeh.$(function() {\n",
       "            var docs_json = {\"b79f672f-50ab-4c81-911a-bd54daf28cc7\":{\"roots\":{\"references\":[{\"attributes\":{},\"id\":\"ab78b4cb-621c-4f5f-ba8c-282728581e06\",\"type\":\"ToolEvents\"},{\"attributes\":{\"formatter\":{\"id\":\"6223d284-b4cc-4907-bd1f-3b4f4f950fd1\",\"type\":\"BasicTickFormatter\"},\"plot\":{\"id\":\"497cee57-84a8-4146-be63-a60dd0f5cced\",\"subtype\":\"Figure\",\"type\":\"Plot\"},\"ticker\":{\"id\":\"d806ced3-b3a0-4c9c-bc4f-fee50ec7444b\",\"type\":\"BasicTicker\"},\"visible\":null},\"id\":\"b5408afd-ea2d-465c-80a4-dd32bd2fe674\",\"type\":\"LinearAxis\"},{\"attributes\":{\"dimension\":1,\"plot\":{\"id\":\"497cee57-84a8-4146-be63-a60dd0f5cced\",\"subtype\":\"Figure\",\"type\":\"Plot\"},\"ticker\":{\"id\":\"d806ced3-b3a0-4c9c-bc4f-fee50ec7444b\",\"type\":\"BasicTicker\"}},\"id\":\"d9b479b5-e4e3-45d4-9394-3dea1db6db2d\",\"type\":\"Grid\"},{\"attributes\":{\"plot\":null,\"text\":null},\"id\":\"299d1ee3-af11-44b4-b875-60f3d45ae323\",\"type\":\"Title\"},{\"attributes\":{\"callback\":null,\"column_names\":[\"xs\",\"ys\",\"line_color\"],\"data\":{\"line_color\":[\"black\",\"black\",\"black\",\"black\",\"black\",\"black\",\"black\",\"black\",\"black\",\"black\",\"black\",\"black\",\"black\",\"black\",\"black\",\"black\",\"black\",\"black\",\"black\",\"black\",\"black\",\"black\",\"black\",\"black\",\"black\",\"black\",\"black\",\"black\",\"black\",\"black\",\"black\",\"black\",\"black\",\"black\",\"black\",\"black\",\"black\",\"black\",\"black\",\"black\",\"black\",\"black\",\"black\",\"black\",\"black\",\"black\",\"black\",\"black\",\"black\",\"black\",\"black\",\"black\",\"black\",\"black\",\"black\",\"black\",\"black\",\"black\",\"black\",\"black\",\"black\",\"black\",\"black\",\"black\",\"black\",\"black\",\"black\",\"black\",\"black\",\"black\",\"black\",\"black\",\"black\",\"black\",\"black\",\"black\",\"black\",\"black\",\"black\",\"black\",\"black\",\"black\",\"black\",\"black\",\"black\",\"black\",\"black\",\"black\",\"black\",\"black\",\"black\",\"black\",\"black\",\"black\",\"black\",\"black\",\"black\",\"black\",\"black\",\"black\",\"black\",\"black\",\"black\",\"black\",\"black\",\"black\",\"black\",\"black\",\"black\",\"black\",\"black\",\"black\",\"black\",\"black\",\"black\",\"black\",\"black\",\"black\"],\"xs\":[[135757320,135757320],[135761078,135761078],[135761271,135761271],[135762344,135762344],[135762980,135762980],[135763280,135763280],[135768815,135768815],[135769093,135769093],[135769127,135769127],[135770940,135770940],[135770951,135770951],[135776728,135776728],[135777504,135777504],[136005219,136005219],[136028763,136028763],[136054953,136054953],[136186695,136186695],[136360838,136360838],[136393157,136393157],[136397433,136397433],[136402116,136402116],[136408291,136408291],[136421548,136421548],[136422784,136422784],[136427745,136427745],[136438950,136438950],[136439805,136439805],[136441410,136441410],[136403994,136403994],[136405878,136405878],[136409574,136409574],[136413225,136413225],[136418741,136418741],[136429088,136429088],[136432121,136432121],[136449305,136449305],[136451432,136451432],[136470978,136470978],[136472107,136472107],[136477100,136477100],[136485096,136485096],[136406646,136406646],[136408821,136408821],[136412472,136412472],[136416959,136416959],[136438078,136438078],[136447707,136447707],[136460324,136460324],[136472357,136472357],[136490266,136490266],[136496493,136496493],[136496639,136496639],[136496928,136496928],[136509573,136509573],[136511951,136511951],[136537057,136537057],[136546635,136546635],[136553438,136553438],[136553925,136553925],[136496805,136496805],[136496910,136496910],[136515859,136515859],[136515924,136515924],[136520186,136520186],[136524766,136524766],[136535364,136535364],[136536113,136536113],[136552629,136552629],[136511874,136511874],[136530248,136530248],[136530556,136530556],[136531252,136531252],[136533195,136533195],[136514709,136514709],[136516308,136516308],[136520100,136520100],[136521595,136521595],[136523045,136523045],[136543147,136543147],[136556805,136556805],[136560003,136560003],[136562472,136562472],[136563248,136563248],[136565328,136565328],[136570613,136570613],[136571982,136571982],[136574305,136574305],[136578040,136578040],[136578194,136578194],[136580398,136580398],[136586828,136586828],[136590558,136590558],[136592309,136592309],[136593541,136593541],[136593694,136593694],[136595426,136595426],[136615222,136615222],[136624919,136624919],[136626004,136626004],[136628380,136628380],[136636909,136636909],[136637350,136637350],[136637622,136637622],[136639487,136639487],[136646900,136646900],[136652093,136652093],[136652859,136652859],[136655620,136655620],[136667896,136667896],[136671801,136671801],[136677192,136677192],[136683293,136683293],[136704414,136704414],[136720344,136720344],[136731066,136731066],[136733897,136733897],[136743490,136743490],[136747085,136747085]],\"ys\":[[550,596],[550,596],[550,596],[550,596],[550,596],[550,596],[550,596],[550,596],[550,596],[550,596],[550,596],[550,596],[550,596],[50,63],[50,63],[50,63],[50,63],[50,63],[450,493],[450,493],[450,493],[450,493],[450,493],[450,493],[450,493],[450,493],[450,493],[450,493],[150,190],[150,190],[150,190],[150,190],[150,190],[150,190],[150,190],[150,190],[150,190],[150,190],[150,190],[150,190],[150,190],[550,595],[550,595],[550,595],[550,595],[550,595],[350,392],[350,392],[350,392],[350,392],[450,493],[450,493],[450,493],[450,493],[450,493],[450,493],[450,493],[450,493],[450,493],[250,291],[250,291],[250,291],[250,291],[250,291],[250,291],[250,291],[250,291],[250,291],[150,191],[150,191],[150,191],[150,191],[150,191],[50,90],[50,90],[50,90],[50,90],[50,90],[50,90],[250,291],[250,291],[250,291],[250,291],[250,291],[250,291],[250,291],[250,291],[250,291],[250,291],[250,291],[250,291],[250,291],[250,291],[250,291],[250,291],[250,291],[250,291],[250,291],[250,291],[250,291],[250,291],[250,291],[250,291],[250,291],[250,291],[250,291],[250,291],[250,291],[250,291],[250,291],[250,291],[250,291],[250,291],[250,291],[250,291],[250,291],[250,291],[250,291]]}},\"id\":\"9fa9ca1a-acfb-460b-ac7f-f4b923a85eeb\",\"type\":\"ColumnDataSource\"},{\"attributes\":{\"callback\":null,\"column_names\":[\"y\",\"x\",\"vals\"],\"data\":{\"vals\":[\"13_1696\",\"5_40\",\"10_1218\",\"13_911\",\"5_1460\",\"4_1149\",\"9_1170\",\"9_1023\",\"5_976\",\"6_820\",\"39_1014\"],\"x\":[135757320,136005219,136393157,136403994,136406646,136447707,136496493,136496805,136511874,136514709,136556805],\"y\":[601.0,68.0,498.0,195.0,600.0,397.0,498.0,296.0,196.0,95.0,296.0]}},\"id\":\"76e0e271-e323-4286-ac11-5724e268ceb6\",\"type\":\"ColumnDataSource\"},{\"attributes\":{\"callback\":null,\"column_names\":[\"right\",\"bottom\",\"top\",\"left\"],\"data\":{\"bottom\":[645,645,645,645,645,645,645],\"left\":[135809835,135957574,136289083,136499189,136545415,136597196,136664254],\"right\":[135928279,136288182,136482839,136542633,136594750,136634047,136743222],\"top\":[675,675,675,675,675,675,675]}},\"id\":\"572d4d73-4db5-47f6-a27a-d08d9aa6f4bd\",\"type\":\"ColumnDataSource\"},{\"attributes\":{\"callback\":null,\"column_names\":[\"right\",\"bottom\",\"top\",\"left\",\"fill_color\"],\"data\":{\"bottom\":[550,50,450,150,550,350,450,250,150,50,250],\"fill_color\":[\"#808080\",\"#ff0000\",\"#808080\",\"#61c4c4\",\"#808080\",\"#61c4c4\",\"#808080\",\"#61c4c4\",\"#808080\",\"#61c4c4\",\"#808080\"],\"left\":[135757320,136005219,136393157,136403994,136406646,136447707,136496493,136496805,136511874,136514709,136556805],\"right\":[135777504,136360838,136441410,136485096,136438078,136490266,136553925,136552629,136533195,136543147,136747085],\"top\":[596,63,493,190,595,392,493,291,191,90,291]}},\"id\":\"80d0f010-d322-49c3-9807-e4b3c99244be\",\"type\":\"ColumnDataSource\"},{\"attributes\":{\"formatter\":{\"id\":\"c8676fca-a933-4685-8325-be801ed9dcb6\",\"type\":\"BasicTickFormatter\"},\"plot\":{\"id\":\"497cee57-84a8-4146-be63-a60dd0f5cced\",\"subtype\":\"Figure\",\"type\":\"Plot\"},\"ticker\":{\"id\":\"f3fe6475-440a-4061-9eea-70a844863282\",\"type\":\"BasicTicker\"}},\"id\":\"3a37cf8f-ab02-4f66-9092-8105e311164d\",\"type\":\"LinearAxis\"},{\"attributes\":{\"data_source\":{\"id\":\"80d0f010-d322-49c3-9807-e4b3c99244be\",\"type\":\"ColumnDataSource\"},\"glyph\":{\"id\":\"5a6858db-2865-40a1-907f-b19efdccde9f\",\"type\":\"Quad\"},\"hover_glyph\":null,\"nonselection_glyph\":{\"id\":\"487acb82-a1d4-4c72-abc1-62baabf1fd3c\",\"type\":\"Quad\"},\"selection_glyph\":null},\"id\":\"2dc1cb55-a541-439c-b602-f901b71c6346\",\"type\":\"GlyphRenderer\"},{\"attributes\":{\"bottom\":{\"field\":\"bottom\"},\"fill_alpha\":{\"value\":0.1},\"fill_color\":{\"value\":\"#1f77b4\"},\"left\":{\"field\":\"left\"},\"line_alpha\":{\"value\":0.1},\"line_color\":{\"value\":\"#1f77b4\"},\"right\":{\"field\":\"right\"},\"top\":{\"field\":\"top\"}},\"id\":\"487acb82-a1d4-4c72-abc1-62baabf1fd3c\",\"type\":\"Quad\"},{\"attributes\":{\"callback\":null,\"end\":136786630,\"start\":135757320},\"id\":\"f7bed5c5-8940-47a1-b9bc-01c6e435932c\",\"type\":\"Range1d\"},{\"attributes\":{\"below\":[{\"id\":\"3a37cf8f-ab02-4f66-9092-8105e311164d\",\"type\":\"LinearAxis\"}],\"left\":[{\"id\":\"b5408afd-ea2d-465c-80a4-dd32bd2fe674\",\"type\":\"LinearAxis\"}],\"plot_height\":700,\"plot_width\":900,\"renderers\":[{\"id\":\"3a37cf8f-ab02-4f66-9092-8105e311164d\",\"type\":\"LinearAxis\"},{\"id\":\"cc422a91-959e-4d3b-95e6-5a65f5db1d48\",\"type\":\"Grid\"},{\"id\":\"b5408afd-ea2d-465c-80a4-dd32bd2fe674\",\"type\":\"LinearAxis\"},{\"id\":\"d9b479b5-e4e3-45d4-9394-3dea1db6db2d\",\"type\":\"Grid\"},{\"id\":\"e8d8e8e4-8506-4470-bc10-f414ddd4ba25\",\"type\":\"BoxAnnotation\"},{\"id\":\"2dc1cb55-a541-439c-b602-f901b71c6346\",\"type\":\"GlyphRenderer\"},{\"id\":\"9c4839fc-dc43-4aaa-8b62-acde846e665d\",\"type\":\"GlyphRenderer\"},{\"id\":\"1067d543-ba02-4644-b9fa-929677c60eea\",\"type\":\"LabelSet\"},{\"id\":\"efe1d666-1238-4b49-8b86-553bb23110f0\",\"type\":\"GlyphRenderer\"},{\"id\":\"3f224c9a-8ad6-475f-ab2e-7e8eaa8c4374\",\"type\":\"LabelSet\"}],\"title\":{\"id\":\"299d1ee3-af11-44b4-b875-60f3d45ae323\",\"type\":\"Title\"},\"tool_events\":{\"id\":\"ab78b4cb-621c-4f5f-ba8c-282728581e06\",\"type\":\"ToolEvents\"},\"toolbar\":{\"id\":\"c6fe3139-de7c-4aa8-b0c5-ada35d78bd7d\",\"type\":\"Toolbar\"},\"toolbar_location\":null,\"x_range\":{\"id\":\"f7bed5c5-8940-47a1-b9bc-01c6e435932c\",\"type\":\"Range1d\"},\"y_range\":{\"id\":\"f11f7bd7-2c88-4ba8-a1b6-5cb664398740\",\"type\":\"Range1d\"}},\"id\":\"497cee57-84a8-4146-be63-a60dd0f5cced\",\"subtype\":\"Figure\",\"type\":\"Plot\"},{\"attributes\":{\"level\":\"glyph\",\"plot\":{\"id\":\"497cee57-84a8-4146-be63-a60dd0f5cced\",\"subtype\":\"Figure\",\"type\":\"Plot\"},\"source\":{\"id\":\"76e0e271-e323-4286-ac11-5724e268ceb6\",\"type\":\"ColumnDataSource\"},\"text\":{\"field\":\"vals\"},\"text_font_size\":{\"value\":\"9pt\"},\"text_font_style\":\"bold\",\"x\":{\"field\":\"x\"},\"y\":{\"field\":\"y\"}},\"id\":\"1067d543-ba02-4644-b9fa-929677c60eea\",\"type\":\"LabelSet\"},{\"attributes\":{\"plot\":{\"id\":\"497cee57-84a8-4146-be63-a60dd0f5cced\",\"subtype\":\"Figure\",\"type\":\"Plot\"},\"ticker\":{\"id\":\"f3fe6475-440a-4061-9eea-70a844863282\",\"type\":\"BasicTicker\"}},\"id\":\"cc422a91-959e-4d3b-95e6-5a65f5db1d48\",\"type\":\"Grid\"},{\"attributes\":{\"bottom\":{\"field\":\"bottom\"},\"fill_color\":{\"field\":\"fill_color\"},\"left\":{\"field\":\"left\"},\"line_color\":{\"value\":null},\"right\":{\"field\":\"right\"},\"top\":{\"field\":\"top\"}},\"id\":\"5a6858db-2865-40a1-907f-b19efdccde9f\",\"type\":\"Quad\"},{\"attributes\":{\"plot\":{\"id\":\"497cee57-84a8-4146-be63-a60dd0f5cced\",\"subtype\":\"Figure\",\"type\":\"Plot\"}},\"id\":\"5a1bdefb-eec0-4e1b-8bd6-155b58085c76\",\"type\":\"ResetTool\"},{\"attributes\":{\"line_alpha\":{\"value\":0.1},\"line_color\":{\"value\":\"#1f77b4\"},\"xs\":{\"field\":\"xs\"},\"ys\":{\"field\":\"ys\"}},\"id\":\"559fd44a-da04-44d9-8e79-bbfeb44db785\",\"type\":\"MultiLine\"},{\"attributes\":{\"line_color\":{\"field\":\"line_color\"},\"xs\":{\"field\":\"xs\"},\"ys\":{\"field\":\"ys\"}},\"id\":\"cf09e09c-b324-4c23-9f69-2f1be54380fb\",\"type\":\"MultiLine\"},{\"attributes\":{\"plot\":{\"id\":\"497cee57-84a8-4146-be63-a60dd0f5cced\",\"subtype\":\"Figure\",\"type\":\"Plot\"}},\"id\":\"0a1a4619-3fa9-4ac0-8c3d-65868f7146c5\",\"type\":\"PanTool\"},{\"attributes\":{\"callback\":null,\"end\":700},\"id\":\"f11f7bd7-2c88-4ba8-a1b6-5cb664398740\",\"type\":\"Range1d\"},{\"attributes\":{\"plot\":{\"id\":\"497cee57-84a8-4146-be63-a60dd0f5cced\",\"subtype\":\"Figure\",\"type\":\"Plot\"}},\"id\":\"9ed953bb-d30f-4e4b-a755-0435698b108f\",\"type\":\"SaveTool\"},{\"attributes\":{\"active_drag\":\"auto\",\"active_scroll\":\"auto\",\"active_tap\":\"auto\",\"tools\":[{\"id\":\"0a1a4619-3fa9-4ac0-8c3d-65868f7146c5\",\"type\":\"PanTool\"},{\"id\":\"c4956bc6-f749-48bf-af22-ac572cce843b\",\"type\":\"WheelZoomTool\"},{\"id\":\"f1a8bb3e-983d-441c-8260-2af1b9db3617\",\"type\":\"BoxZoomTool\"},{\"id\":\"9ed953bb-d30f-4e4b-a755-0435698b108f\",\"type\":\"SaveTool\"},{\"id\":\"5a1bdefb-eec0-4e1b-8bd6-155b58085c76\",\"type\":\"ResetTool\"},{\"id\":\"268ab99c-1d8f-4ed8-9de7-8a44722bac96\",\"type\":\"HelpTool\"}]},\"id\":\"c6fe3139-de7c-4aa8-b0c5-ada35d78bd7d\",\"type\":\"Toolbar\"},{\"attributes\":{\"data_source\":{\"id\":\"572d4d73-4db5-47f6-a27a-d08d9aa6f4bd\",\"type\":\"ColumnDataSource\"},\"glyph\":{\"id\":\"4697b350-26a1-4edc-a0d1-625998336d5f\",\"type\":\"Quad\"},\"hover_glyph\":null,\"nonselection_glyph\":{\"id\":\"90ade397-0442-42a9-a519-48acc02709fa\",\"type\":\"Quad\"},\"selection_glyph\":null},\"id\":\"efe1d666-1238-4b49-8b86-553bb23110f0\",\"type\":\"GlyphRenderer\"},{\"attributes\":{\"overlay\":{\"id\":\"e8d8e8e4-8506-4470-bc10-f414ddd4ba25\",\"type\":\"BoxAnnotation\"},\"plot\":{\"id\":\"497cee57-84a8-4146-be63-a60dd0f5cced\",\"subtype\":\"Figure\",\"type\":\"Plot\"}},\"id\":\"f1a8bb3e-983d-441c-8260-2af1b9db3617\",\"type\":\"BoxZoomTool\"},{\"attributes\":{},\"id\":\"6223d284-b4cc-4907-bd1f-3b4f4f950fd1\",\"type\":\"BasicTickFormatter\"},{\"attributes\":{\"bottom_units\":\"screen\",\"fill_alpha\":{\"value\":0.5},\"fill_color\":{\"value\":\"lightgrey\"},\"left_units\":\"screen\",\"level\":\"overlay\",\"line_alpha\":{\"value\":1.0},\"line_color\":{\"value\":\"black\"},\"line_dash\":[4,4],\"line_width\":{\"value\":2},\"plot\":null,\"render_mode\":\"css\",\"right_units\":\"screen\",\"top_units\":\"screen\"},\"id\":\"e8d8e8e4-8506-4470-bc10-f414ddd4ba25\",\"type\":\"BoxAnnotation\"},{\"attributes\":{},\"id\":\"f3fe6475-440a-4061-9eea-70a844863282\",\"type\":\"BasicTicker\"},{\"attributes\":{\"plot\":{\"id\":\"497cee57-84a8-4146-be63-a60dd0f5cced\",\"subtype\":\"Figure\",\"type\":\"Plot\"}},\"id\":\"268ab99c-1d8f-4ed8-9de7-8a44722bac96\",\"type\":\"HelpTool\"},{\"attributes\":{\"bottom\":{\"field\":\"bottom\"},\"fill_alpha\":{\"value\":0.1},\"fill_color\":{\"value\":\"#1f77b4\"},\"left\":{\"field\":\"left\"},\"line_alpha\":{\"value\":0.1},\"line_color\":{\"value\":\"#1f77b4\"},\"right\":{\"field\":\"right\"},\"top\":{\"field\":\"top\"}},\"id\":\"90ade397-0442-42a9-a519-48acc02709fa\",\"type\":\"Quad\"},{\"attributes\":{\"level\":\"glyph\",\"plot\":{\"id\":\"497cee57-84a8-4146-be63-a60dd0f5cced\",\"subtype\":\"Figure\",\"type\":\"Plot\"},\"source\":{\"id\":\"e33a6ef1-4021-4071-b1ec-abe135677b5b\",\"type\":\"ColumnDataSource\"},\"text\":{\"field\":\"vals\"},\"text_align\":\"center\",\"text_baseline\":\"middle\",\"text_font_size\":{\"value\":\"8pt\"},\"x\":{\"field\":\"x\"},\"y\":{\"field\":\"y\"}},\"id\":\"3f224c9a-8ad6-475f-ab2e-7e8eaa8c4374\",\"type\":\"LabelSet\"},{\"attributes\":{},\"id\":\"c8676fca-a933-4685-8325-be801ed9dcb6\",\"type\":\"BasicTickFormatter\"},{\"attributes\":{\"data_source\":{\"id\":\"9fa9ca1a-acfb-460b-ac7f-f4b923a85eeb\",\"type\":\"ColumnDataSource\"},\"glyph\":{\"id\":\"cf09e09c-b324-4c23-9f69-2f1be54380fb\",\"type\":\"MultiLine\"},\"hover_glyph\":null,\"nonselection_glyph\":{\"id\":\"559fd44a-da04-44d9-8e79-bbfeb44db785\",\"type\":\"MultiLine\"},\"selection_glyph\":null},\"id\":\"9c4839fc-dc43-4aaa-8b62-acde846e665d\",\"type\":\"GlyphRenderer\"},{\"attributes\":{\"bottom\":{\"field\":\"bottom\"},\"fill_color\":{\"value\":\"white\"},\"left\":{\"field\":\"left\"},\"right\":{\"field\":\"right\"},\"top\":{\"field\":\"top\"}},\"id\":\"4697b350-26a1-4edc-a0d1-625998336d5f\",\"type\":\"Quad\"},{\"attributes\":{},\"id\":\"d806ced3-b3a0-4c9c-bc4f-fee50ec7444b\",\"type\":\"BasicTicker\"},{\"attributes\":{\"callback\":null,\"column_names\":[\"y\",\"x\",\"vals\"],\"data\":{\"vals\":[\"RAB3GAP1\",\"ZRANB3\",\"R3HDM1\",\"UBXN4\",\"LCT\",\"MCM6\",\"DARS\"],\"x\":[135869057.0,136122878.0,136385961.0,136520911.0,136570082.5,136615621.5,136703738.0],\"y\":[660.0,660.0,660.0,660.0,660.0,660.0,660.0]}},\"id\":\"e33a6ef1-4021-4071-b1ec-abe135677b5b\",\"type\":\"ColumnDataSource\"},{\"attributes\":{\"plot\":{\"id\":\"497cee57-84a8-4146-be63-a60dd0f5cced\",\"subtype\":\"Figure\",\"type\":\"Plot\"}},\"id\":\"c4956bc6-f749-48bf-af22-ac572cce843b\",\"type\":\"WheelZoomTool\"}],\"root_ids\":[\"497cee57-84a8-4146-be63-a60dd0f5cced\"]},\"title\":\"Bokeh Application\",\"version\":\"0.12.0\"}};\n",
       "            var render_items = [{\"docid\":\"b79f672f-50ab-4c81-911a-bd54daf28cc7\",\"elementid\":\"c9b91b9d-01e7-426d-9194-0a4335374a90\",\"modelid\":\"497cee57-84a8-4146-be63-a60dd0f5cced\",\"notebook_comms_target\":\"6b542ec8-ef0c-47e1-9771-99f27dff7db2\"}];\n",
       "            \n",
       "            Bokeh.embed.embed_items(docs_json, render_items);\n",
       "        });\n",
       "      },\n",
       "      function(Bokeh) {\n",
       "      }\n",
       "    ];\n",
       "  \n",
       "    function run_inline_js() {\n",
       "      for (var i = 0; i < inline_js.length; i++) {\n",
       "        inline_js[i](window.Bokeh);\n",
       "      }\n",
       "    }\n",
       "  \n",
       "    if (window._bokeh_is_loading === 0) {\n",
       "      console.log(\"Bokeh: BokehJS loaded, going straight to plotting\");\n",
       "      run_inline_js();\n",
       "    } else {\n",
       "      load_libs(js_urls, function() {\n",
       "        console.log(\"Bokeh: BokehJS plotting callback run at\", now());\n",
       "        run_inline_js();\n",
       "      });\n",
       "    }\n",
       "  }(this));\n",
       "</script>"
      ]
     },
     "metadata": {},
     "output_type": "display_data"
    },
    {
     "data": {
      "text/html": [
       "<p><code>&lt;Bokeh Notebook handle for <strong>In[11]</strong>&gt;</code></p>"
      ],
      "text/plain": [
       "<bokeh.io._CommsHandle at 0x7fa61a8e1690>"
      ]
     },
     "execution_count": 11,
     "metadata": {},
     "output_type": "execute_result"
    }
   ],
   "source": [
    "plt_obj = dm.superset_allele_mask(am_3, [dm.di_5_1460], min_match=0.5)\n",
    "plt = plt_obj.do_plot()\n",
    "am = plt_obj.plot_context.yes_allele_mask\n",
    "show(plt)"
   ]
  },
  {
   "cell_type": "code",
   "execution_count": 12,
   "metadata": {
    "collapsed": false
   },
   "outputs": [
    {
     "data": {
      "text/html": [
       "<table>\n",
       "<thead><tr><th style=\"text-align:center\">index</th><th style=\"text-align:center\">first</th><th style=\"text-align:center\">length</th><th style=\"text-align:center\">snps</th><th style=\"text-align:center\" colspan=2>alleles</th><th style=\"text-align:center\" colspan=2>matches</th><th style=\"text-align:center\" colspan=2>afr</th><th style=\"text-align:center\" colspan=2>afx</th><th style=\"text-align:center\" colspan=2>amr</th><th style=\"text-align:center\" colspan=2>eas</th><th style=\"text-align:center\" colspan=2>eur</th><th style=\"text-align:center\" colspan=2>sas</th><th style=\"text-align:center\" colspan=2>sax</th></tr></thead>\n",
       "<tr class=\"even\"><td style=\"text-align: right;\">353240</td><td style=\"text-align: right;\">135,757,320</td><td style=\"text-align: right;\">20,184</td><td style=\"text-align: right;\">13</td><td style=\"text-align: right;\">1696</td><td style=\"text-align: right;\">0.02</td><td style=\"text-align: right;\">41</td><td style=\"text-align: right;\">1.00</td><td style=\"text-align: right;\">34</td><td style=\"text-align: right;\">4.12</td><td style=\"text-align: right;\">4</td><td style=\"text-align: right;\">1.56</td><td style=\"text-align: right;\">2</td><td style=\"text-align: right;\">0.35</td><td style=\"text-align: right;\">0</td><td style=\"text-align: right;\">0.00</td><td style=\"text-align: right;\">0</td><td style=\"text-align: right;\">0.00</td><td style=\"text-align: right;\">0</td><td style=\"text-align: right;\">0.00</td><td style=\"text-align: right;\">1</td><td style=\"text-align: right;\">0.20</td></tr>\n",
       "<tr><td style=\"text-align: right;\">353814</td><td style=\"text-align: right;\">136,406,646</td><td style=\"text-align: right;\">31,432</td><td style=\"text-align: right;\">5</td><td style=\"text-align: right;\">1460</td><td style=\"text-align: right;\">0.03</td><td style=\"text-align: right;\">41</td><td style=\"text-align: right;\">1.00</td><td style=\"text-align: right;\">34</td><td style=\"text-align: right;\">4.12</td><td style=\"text-align: right;\">4</td><td style=\"text-align: right;\">1.56</td><td style=\"text-align: right;\">2</td><td style=\"text-align: right;\">0.35</td><td style=\"text-align: right;\">0</td><td style=\"text-align: right;\">0.00</td><td style=\"text-align: right;\">0</td><td style=\"text-align: right;\">0.00</td><td style=\"text-align: right;\">0</td><td style=\"text-align: right;\">0.00</td><td style=\"text-align: right;\">1</td><td style=\"text-align: right;\">0.20</td></tr>\n",
       "<tr class=\"even\"><td style=\"text-align: right;\">353790</td><td style=\"text-align: right;\">136,393,157</td><td style=\"text-align: right;\">48,253</td><td style=\"text-align: right;\">10</td><td style=\"text-align: right;\">1218</td><td style=\"text-align: right;\">0.03</td><td style=\"text-align: right;\">41</td><td style=\"text-align: right;\">1.00</td><td style=\"text-align: right;\">34</td><td style=\"text-align: right;\">4.12</td><td style=\"text-align: right;\">4</td><td style=\"text-align: right;\">1.56</td><td style=\"text-align: right;\">2</td><td style=\"text-align: right;\">0.35</td><td style=\"text-align: right;\">0</td><td style=\"text-align: right;\">0.00</td><td style=\"text-align: right;\">0</td><td style=\"text-align: right;\">0.00</td><td style=\"text-align: right;\">0</td><td style=\"text-align: right;\">0.00</td><td style=\"text-align: right;\">1</td><td style=\"text-align: right;\">0.20</td></tr>\n",
       "<tr><td style=\"text-align: right;\">353906</td><td style=\"text-align: right;\">136,496,493</td><td style=\"text-align: right;\">57,432</td><td style=\"text-align: right;\">9</td><td style=\"text-align: right;\">1170</td><td style=\"text-align: right;\">0.02</td><td style=\"text-align: right;\">29</td><td style=\"text-align: right;\">0.71</td><td style=\"text-align: right;\">25</td><td style=\"text-align: right;\">4.28</td><td style=\"text-align: right;\">1</td><td style=\"text-align: right;\">0.55</td><td style=\"text-align: right;\">2</td><td style=\"text-align: right;\">0.50</td><td style=\"text-align: right;\">0</td><td style=\"text-align: right;\">0.00</td><td style=\"text-align: right;\">0</td><td style=\"text-align: right;\">0.00</td><td style=\"text-align: right;\">0</td><td style=\"text-align: right;\">0.00</td><td style=\"text-align: right;\">1</td><td style=\"text-align: right;\">0.28</td></tr>\n",
       "<tr class=\"even\"><td style=\"text-align: right;\">353849</td><td style=\"text-align: right;\">136,447,707</td><td style=\"text-align: right;\">42,559</td><td style=\"text-align: right;\">4</td><td style=\"text-align: right;\">1149</td><td style=\"text-align: right;\">0.04</td><td style=\"text-align: right;\">41</td><td style=\"text-align: right;\">1.00</td><td style=\"text-align: right;\">34</td><td style=\"text-align: right;\">4.12</td><td style=\"text-align: right;\">4</td><td style=\"text-align: right;\">1.56</td><td style=\"text-align: right;\">2</td><td style=\"text-align: right;\">0.35</td><td style=\"text-align: right;\">0</td><td style=\"text-align: right;\">0.00</td><td style=\"text-align: right;\">0</td><td style=\"text-align: right;\">0.00</td><td style=\"text-align: right;\">0</td><td style=\"text-align: right;\">0.00</td><td style=\"text-align: right;\">1</td><td style=\"text-align: right;\">0.20</td></tr>\n",
       "<tr><td style=\"text-align: right;\">353907</td><td style=\"text-align: right;\">136,496,805</td><td style=\"text-align: right;\">55,824</td><td style=\"text-align: right;\">9</td><td style=\"text-align: right;\">1023</td><td style=\"text-align: right;\">0.03</td><td style=\"text-align: right;\">29</td><td style=\"text-align: right;\">0.71</td><td style=\"text-align: right;\">25</td><td style=\"text-align: right;\">4.28</td><td style=\"text-align: right;\">1</td><td style=\"text-align: right;\">0.55</td><td style=\"text-align: right;\">2</td><td style=\"text-align: right;\">0.50</td><td style=\"text-align: right;\">0</td><td style=\"text-align: right;\">0.00</td><td style=\"text-align: right;\">0</td><td style=\"text-align: right;\">0.00</td><td style=\"text-align: right;\">0</td><td style=\"text-align: right;\">0.00</td><td style=\"text-align: right;\">1</td><td style=\"text-align: right;\">0.28</td></tr>\n",
       "<tr class=\"even\"><td style=\"text-align: right;\">353984</td><td style=\"text-align: right;\">136,556,805</td><td style=\"text-align: right;\">190,280</td><td style=\"text-align: right;\">39</td><td style=\"text-align: right;\">1014</td><td style=\"text-align: right;\">0.03</td><td style=\"text-align: right;\">28</td><td style=\"text-align: right;\">0.68</td><td style=\"text-align: right;\">24</td><td style=\"text-align: right;\">4.26</td><td style=\"text-align: right;\">1</td><td style=\"text-align: right;\">0.57</td><td style=\"text-align: right;\">2</td><td style=\"text-align: right;\">0.52</td><td style=\"text-align: right;\">0</td><td style=\"text-align: right;\">0.00</td><td style=\"text-align: right;\">0</td><td style=\"text-align: right;\">0.00</td><td style=\"text-align: right;\">0</td><td style=\"text-align: right;\">0.00</td><td style=\"text-align: right;\">1</td><td style=\"text-align: right;\">0.29</td></tr>\n",
       "<tr><td style=\"text-align: right;\">353935</td><td style=\"text-align: right;\">136,511,874</td><td style=\"text-align: right;\">21,321</td><td style=\"text-align: right;\">5</td><td style=\"text-align: right;\">976</td><td style=\"text-align: right;\">0.03</td><td style=\"text-align: right;\">28</td><td style=\"text-align: right;\">0.68</td><td style=\"text-align: right;\">25</td><td style=\"text-align: right;\">4.44</td><td style=\"text-align: right;\">1</td><td style=\"text-align: right;\">0.57</td><td style=\"text-align: right;\">2</td><td style=\"text-align: right;\">0.52</td><td style=\"text-align: right;\">0</td><td style=\"text-align: right;\">0.00</td><td style=\"text-align: right;\">0</td><td style=\"text-align: right;\">0.00</td><td style=\"text-align: right;\">0</td><td style=\"text-align: right;\">0.00</td><td style=\"text-align: right;\">0</td><td style=\"text-align: right;\">0.00</td></tr>\n",
       "<tr class=\"even\"><td style=\"text-align: right;\">353807</td><td style=\"text-align: right;\">136,403,994</td><td style=\"text-align: right;\">81,102</td><td style=\"text-align: right;\">13</td><td style=\"text-align: right;\">911</td><td style=\"text-align: right;\">0.03</td><td style=\"text-align: right;\">29</td><td style=\"text-align: right;\">0.71</td><td style=\"text-align: right;\">25</td><td style=\"text-align: right;\">4.28</td><td style=\"text-align: right;\">1</td><td style=\"text-align: right;\">0.55</td><td style=\"text-align: right;\">2</td><td style=\"text-align: right;\">0.50</td><td style=\"text-align: right;\">0</td><td style=\"text-align: right;\">0.00</td><td style=\"text-align: right;\">0</td><td style=\"text-align: right;\">0.00</td><td style=\"text-align: right;\">0</td><td style=\"text-align: right;\">0.00</td><td style=\"text-align: right;\">1</td><td style=\"text-align: right;\">0.28</td></tr>\n",
       "<tr><td style=\"text-align: right;\">353938</td><td style=\"text-align: right;\">136,514,709</td><td style=\"text-align: right;\">28,438</td><td style=\"text-align: right;\">6</td><td style=\"text-align: right;\">820</td><td style=\"text-align: right;\">0.03</td><td style=\"text-align: right;\">28</td><td style=\"text-align: right;\">0.68</td><td style=\"text-align: right;\">25</td><td style=\"text-align: right;\">4.44</td><td style=\"text-align: right;\">1</td><td style=\"text-align: right;\">0.57</td><td style=\"text-align: right;\">2</td><td style=\"text-align: right;\">0.52</td><td style=\"text-align: right;\">0</td><td style=\"text-align: right;\">0.00</td><td style=\"text-align: right;\">0</td><td style=\"text-align: right;\">0.00</td><td style=\"text-align: right;\">0</td><td style=\"text-align: right;\">0.00</td><td style=\"text-align: right;\">0</td><td style=\"text-align: right;\">0.00</td></tr>\n",
       "<tr class=\"even\"><td style=\"text-align: right;\">353536</td><td style=\"text-align: right;\">136,005,219</td><td style=\"text-align: right;\">355,619</td><td style=\"text-align: right;\">5</td><td style=\"text-align: right;\">40</td><td style=\"text-align: right;\">0.98</td><td style=\"text-align: right;\">39</td><td style=\"text-align: right;\">0.95</td><td style=\"text-align: right;\">34</td><td style=\"text-align: right;\">4.33</td><td style=\"text-align: right;\">4</td><td style=\"text-align: right;\">1.64</td><td style=\"text-align: right;\">1</td><td style=\"text-align: right;\">0.19</td><td style=\"text-align: right;\">0</td><td style=\"text-align: right;\">0.00</td><td style=\"text-align: right;\">0</td><td style=\"text-align: right;\">0.00</td><td style=\"text-align: right;\">0</td><td style=\"text-align: right;\">0.00</td><td style=\"text-align: right;\">0</td><td style=\"text-align: right;\">0.00</td></tr>\n",
       "</table>"
      ],
      "text/plain": [
       "<IPython.core.display.HTML object>"
      ]
     },
     "execution_count": 12,
     "metadata": {},
     "output_type": "execute_result"
    }
   ],
   "source": [
    "HTML(plt_obj.get_html())"
   ]
  },
  {
   "cell_type": "code",
   "execution_count": 13,
   "metadata": {
    "collapsed": false
   },
   "outputs": [
    {
     "data": {
      "text/plain": [
       "array([41,  1, 41,  0,  0, 40,  0,  0,  0])"
      ]
     },
     "execution_count": 13,
     "metadata": {},
     "output_type": "execute_result"
    }
   ],
   "source": [
    "sa_9_944.alleles_per_snp(am)"
   ]
  },
  {
   "cell_type": "code",
   "execution_count": 14,
   "metadata": {
    "collapsed": true
   },
   "outputs": [],
   "source": [
    "am_3_not_5_1460 = dm.yes_allele_mask_not_or_indexes(am_3, [dm.di_5_1460])"
   ]
  },
  {
   "cell_type": "code",
   "execution_count": 15,
   "metadata": {
    "collapsed": false
   },
   "outputs": [
    {
     "data": {
      "text/html": [
       "\n",
       "\n",
       "    <div class=\"bk-root\">\n",
       "        <div class=\"plotdiv\" id=\"2bdeba16-72ba-4e8e-9ab4-00d035b73e81\"></div>\n",
       "    </div>\n",
       "<script type=\"text/javascript\">\n",
       "  \n",
       "  (function(global) {\n",
       "    function now() {\n",
       "      return new Date();\n",
       "    }\n",
       "  \n",
       "    if (typeof (window._bokeh_onload_callbacks) === \"undefined\") {\n",
       "      window._bokeh_onload_callbacks = [];\n",
       "    }\n",
       "  \n",
       "    function run_callbacks() {\n",
       "      window._bokeh_onload_callbacks.forEach(function(callback) { callback() });\n",
       "      delete window._bokeh_onload_callbacks\n",
       "      console.info(\"Bokeh: all callbacks have finished\");\n",
       "    }\n",
       "  \n",
       "    function load_libs(js_urls, callback) {\n",
       "      window._bokeh_onload_callbacks.push(callback);\n",
       "      if (window._bokeh_is_loading > 0) {\n",
       "        console.log(\"Bokeh: BokehJS is being loaded, scheduling callback at\", now());\n",
       "        return null;\n",
       "      }\n",
       "      if (js_urls == null || js_urls.length === 0) {\n",
       "        run_callbacks();\n",
       "        return null;\n",
       "      }\n",
       "      console.log(\"Bokeh: BokehJS not loaded, scheduling load and callback at\", now());\n",
       "      window._bokeh_is_loading = js_urls.length;\n",
       "      for (var i = 0; i < js_urls.length; i++) {\n",
       "        var url = js_urls[i];\n",
       "        var s = document.createElement('script');\n",
       "        s.src = url;\n",
       "        s.async = false;\n",
       "        s.onreadystatechange = s.onload = function() {\n",
       "          window._bokeh_is_loading--;\n",
       "          if (window._bokeh_is_loading === 0) {\n",
       "            console.log(\"Bokeh: all BokehJS libraries loaded\");\n",
       "            run_callbacks()\n",
       "          }\n",
       "        };\n",
       "        s.onerror = function() {\n",
       "          console.warn(\"failed to load library \" + url);\n",
       "        };\n",
       "        console.log(\"Bokeh: injecting script tag for BokehJS library: \", url);\n",
       "        document.getElementsByTagName(\"head\")[0].appendChild(s);\n",
       "      }\n",
       "    };var element = document.getElementById(\"2bdeba16-72ba-4e8e-9ab4-00d035b73e81\");\n",
       "    if (element == null) {\n",
       "      console.log(\"Bokeh: ERROR: autoload.js configured with elementid '2bdeba16-72ba-4e8e-9ab4-00d035b73e81' but no matching script tag was found. \")\n",
       "      return false;\n",
       "    }\n",
       "  \n",
       "    var js_urls = [];\n",
       "  \n",
       "    var inline_js = [\n",
       "      function(Bokeh) {\n",
       "        Bokeh.$(function() {\n",
       "            var docs_json = {\"2930ae0b-4bfa-40b6-bd4a-1fadc28f1bd9\":{\"roots\":{\"references\":[{\"attributes\":{\"bottom\":{\"field\":\"bottom\"},\"fill_alpha\":{\"value\":0.1},\"fill_color\":{\"value\":\"#1f77b4\"},\"left\":{\"field\":\"left\"},\"line_alpha\":{\"value\":0.1},\"line_color\":{\"value\":\"#1f77b4\"},\"right\":{\"field\":\"right\"},\"top\":{\"field\":\"top\"}},\"id\":\"f7836388-8e8f-4992-a9ce-ecd448868f4f\",\"type\":\"Quad\"},{\"attributes\":{\"bottom_units\":\"screen\",\"fill_alpha\":{\"value\":0.5},\"fill_color\":{\"value\":\"lightgrey\"},\"left_units\":\"screen\",\"level\":\"overlay\",\"line_alpha\":{\"value\":1.0},\"line_color\":{\"value\":\"black\"},\"line_dash\":[4,4],\"line_width\":{\"value\":2},\"plot\":null,\"render_mode\":\"css\",\"right_units\":\"screen\",\"top_units\":\"screen\"},\"id\":\"03677cd5-1f0b-422e-bc19-0bafa88fda7b\",\"type\":\"BoxAnnotation\"},{\"attributes\":{\"below\":[{\"id\":\"6f2c9cda-1bf2-4ce3-a0ca-57b95c839b26\",\"type\":\"LinearAxis\"}],\"left\":[{\"id\":\"f986623b-981a-4b0d-9add-e6b02230465b\",\"type\":\"LinearAxis\"}],\"plot_width\":900,\"renderers\":[{\"id\":\"6f2c9cda-1bf2-4ce3-a0ca-57b95c839b26\",\"type\":\"LinearAxis\"},{\"id\":\"309be89a-4ac8-4493-b459-ff0424de14a0\",\"type\":\"Grid\"},{\"id\":\"f986623b-981a-4b0d-9add-e6b02230465b\",\"type\":\"LinearAxis\"},{\"id\":\"f8b2c0af-92d2-453e-b8be-2ed2a80cbb70\",\"type\":\"Grid\"},{\"id\":\"03677cd5-1f0b-422e-bc19-0bafa88fda7b\",\"type\":\"BoxAnnotation\"},{\"id\":\"1414e93c-2b92-4316-9a9b-939a26ac9aee\",\"type\":\"GlyphRenderer\"},{\"id\":\"6e429ff1-a897-4c23-9235-1ae4d3f7eae9\",\"type\":\"GlyphRenderer\"},{\"id\":\"6f8aa65f-ea2d-4c80-a109-84f0e14d5ba0\",\"type\":\"LabelSet\"},{\"id\":\"35671bcd-d7c2-4565-bfb4-b784e7ff6ea9\",\"type\":\"GlyphRenderer\"},{\"id\":\"56c7f753-d633-42ed-84d2-528a6a42b02a\",\"type\":\"LabelSet\"}],\"title\":{\"id\":\"38f6a4d3-6037-401f-858f-3dbc7cec887b\",\"type\":\"Title\"},\"tool_events\":{\"id\":\"e5d3cf36-9870-42e3-8326-3ac3a2d8dbd7\",\"type\":\"ToolEvents\"},\"toolbar\":{\"id\":\"8ad9cccc-cd42-4d7e-a0e7-6c25f6dcb1ab\",\"type\":\"Toolbar\"},\"toolbar_location\":null,\"x_range\":{\"id\":\"9a29766c-d076-45e8-ae73-37f09e228123\",\"type\":\"Range1d\"},\"y_range\":{\"id\":\"779c041f-8bf2-44de-a7f6-4648686c499b\",\"type\":\"Range1d\"}},\"id\":\"e8a21d66-5124-40e1-b390-772eb8ab827e\",\"subtype\":\"Figure\",\"type\":\"Plot\"},{\"attributes\":{\"callback\":null,\"column_names\":[\"y\",\"x\",\"vals\"],\"data\":{\"vals\":[\"RAB3GAP1\",\"ZRANB3\",\"R3HDM1\",\"UBXN4\",\"LCT\",\"MCM6\",\"DARS\"],\"x\":[135869057.0,136122878.0,136385961.0,136520911.0,136570082.5,136615621.5,136703738.0],\"y\":[560.0,560.0,560.0,560.0,560.0,560.0,560.0]}},\"id\":\"8304994b-c898-4414-8c9e-388413bbd9c6\",\"type\":\"ColumnDataSource\"},{\"attributes\":{\"line_alpha\":{\"value\":0.1},\"line_color\":{\"value\":\"#1f77b4\"},\"xs\":{\"field\":\"xs\"},\"ys\":{\"field\":\"ys\"}},\"id\":\"49908c3e-07b7-4b26-a75d-794805f66268\",\"type\":\"MultiLine\"},{\"attributes\":{},\"id\":\"ca681e70-c7a1-4228-89ca-fc3017a0a68d\",\"type\":\"BasicTickFormatter\"},{\"attributes\":{\"data_source\":{\"id\":\"ba8f1a96-3a62-43d5-8c34-eb238c11a494\",\"type\":\"ColumnDataSource\"},\"glyph\":{\"id\":\"37135abb-a99a-460f-9315-3ba4a37d2b25\",\"type\":\"Quad\"},\"hover_glyph\":null,\"nonselection_glyph\":{\"id\":\"7b1bf1e2-c69d-47a7-8bc0-104c15ec9af3\",\"type\":\"Quad\"},\"selection_glyph\":null},\"id\":\"35671bcd-d7c2-4565-bfb4-b784e7ff6ea9\",\"type\":\"GlyphRenderer\"},{\"attributes\":{\"level\":\"glyph\",\"plot\":{\"id\":\"e8a21d66-5124-40e1-b390-772eb8ab827e\",\"subtype\":\"Figure\",\"type\":\"Plot\"},\"source\":{\"id\":\"cdf69a3c-b487-439b-a148-cbb7ed30bb0a\",\"type\":\"ColumnDataSource\"},\"text\":{\"field\":\"vals\"},\"text_font_size\":{\"value\":\"9pt\"},\"text_font_style\":\"bold\",\"x\":{\"field\":\"x\"},\"y\":{\"field\":\"y\"}},\"id\":\"6f8aa65f-ea2d-4c80-a109-84f0e14d5ba0\",\"type\":\"LabelSet\"},{\"attributes\":{\"data_source\":{\"id\":\"ae29b25d-a9a0-4266-b18a-9e9a0f35d43a\",\"type\":\"ColumnDataSource\"},\"glyph\":{\"id\":\"d0e85d58-a6bf-4f37-a088-9cec65abee32\",\"type\":\"MultiLine\"},\"hover_glyph\":null,\"nonselection_glyph\":{\"id\":\"49908c3e-07b7-4b26-a75d-794805f66268\",\"type\":\"MultiLine\"},\"selection_glyph\":null},\"id\":\"6e429ff1-a897-4c23-9235-1ae4d3f7eae9\",\"type\":\"GlyphRenderer\"},{\"attributes\":{\"callback\":null,\"column_names\":[\"y\",\"x\",\"vals\"],\"data\":{\"vals\":[\"117_1685\",\"193_843\",\"62_1265\",\"123_1561\",\"6_946\",\"32_1361\",\"7_1760\",\"6_1114\",\"5_1296\",\"24_1504\"],\"x\":[135758231,135759095,135766890,135933921,135964764,136393658,136588031,136652491,136652953,136653925],\"y\":[501.0,95.0,298.0,400.0,196.0,399.0,501.0,197.0,299.0,400.0]}},\"id\":\"cdf69a3c-b487-439b-a148-cbb7ed30bb0a\",\"type\":\"ColumnDataSource\"},{\"attributes\":{\"formatter\":{\"id\":\"ca681e70-c7a1-4228-89ca-fc3017a0a68d\",\"type\":\"BasicTickFormatter\"},\"plot\":{\"id\":\"e8a21d66-5124-40e1-b390-772eb8ab827e\",\"subtype\":\"Figure\",\"type\":\"Plot\"},\"ticker\":{\"id\":\"da7fbbb1-7bbc-44b3-bc7d-dcab7606e645\",\"type\":\"BasicTicker\"}},\"id\":\"6f2c9cda-1bf2-4ce3-a0ca-57b95c839b26\",\"type\":\"LinearAxis\"},{\"attributes\":{\"plot\":{\"id\":\"e8a21d66-5124-40e1-b390-772eb8ab827e\",\"subtype\":\"Figure\",\"type\":\"Plot\"}},\"id\":\"4d2c45d8-286d-4e91-9c1a-f1c74bfea854\",\"type\":\"WheelZoomTool\"},{\"attributes\":{\"line_color\":{\"field\":\"line_color\"},\"xs\":{\"field\":\"xs\"},\"ys\":{\"field\":\"ys\"}},\"id\":\"d0e85d58-a6bf-4f37-a088-9cec65abee32\",\"type\":\"MultiLine\"},{\"attributes\":{\"callback\":null,\"column_names\":[\"right\",\"bottom\",\"top\",\"left\"],\"data\":{\"bottom\":[545,545,545,545,545,545,545],\"left\":[135809835,135957574,136289083,136499189,136545415,136597196,136664254],\"right\":[135928279,136288182,136482839,136542633,136594750,136634047,136743222],\"top\":[575,575,575,575,575,575,575]}},\"id\":\"ba8f1a96-3a62-43d5-8c34-eb238c11a494\",\"type\":\"ColumnDataSource\"},{\"attributes\":{\"plot\":{\"id\":\"e8a21d66-5124-40e1-b390-772eb8ab827e\",\"subtype\":\"Figure\",\"type\":\"Plot\"}},\"id\":\"3491c510-ba03-435c-b380-9cf81d91934c\",\"type\":\"ResetTool\"},{\"attributes\":{\"callback\":null,\"end\":136786630,\"start\":135757320},\"id\":\"9a29766c-d076-45e8-ae73-37f09e228123\",\"type\":\"Range1d\"},{\"attributes\":{\"dimension\":1,\"plot\":{\"id\":\"e8a21d66-5124-40e1-b390-772eb8ab827e\",\"subtype\":\"Figure\",\"type\":\"Plot\"},\"ticker\":{\"id\":\"4a3e3da8-774c-4942-ab78-931311a1c1bc\",\"type\":\"BasicTicker\"}},\"id\":\"f8b2c0af-92d2-453e-b8be-2ed2a80cbb70\",\"type\":\"Grid\"},{\"attributes\":{\"bottom\":{\"field\":\"bottom\"},\"fill_color\":{\"value\":\"white\"},\"left\":{\"field\":\"left\"},\"right\":{\"field\":\"right\"},\"top\":{\"field\":\"top\"}},\"id\":\"37135abb-a99a-460f-9315-3ba4a37d2b25\",\"type\":\"Quad\"},{\"attributes\":{\"callback\":null,\"end\":600},\"id\":\"779c041f-8bf2-44de-a7f6-4648686c499b\",\"type\":\"Range1d\"},{\"attributes\":{\"plot\":null,\"text\":null},\"id\":\"38f6a4d3-6037-401f-858f-3dbc7cec887b\",\"type\":\"Title\"},{\"attributes\":{\"data_source\":{\"id\":\"13270fec-bc22-4a46-9402-a6633231e6d9\",\"type\":\"ColumnDataSource\"},\"glyph\":{\"id\":\"798e8827-bb06-49cd-a05f-55d2dbdfc58e\",\"type\":\"Quad\"},\"hover_glyph\":null,\"nonselection_glyph\":{\"id\":\"f7836388-8e8f-4992-a9ce-ecd448868f4f\",\"type\":\"Quad\"},\"selection_glyph\":null},\"id\":\"1414e93c-2b92-4316-9a9b-939a26ac9aee\",\"type\":\"GlyphRenderer\"},{\"attributes\":{\"plot\":{\"id\":\"e8a21d66-5124-40e1-b390-772eb8ab827e\",\"subtype\":\"Figure\",\"type\":\"Plot\"},\"ticker\":{\"id\":\"da7fbbb1-7bbc-44b3-bc7d-dcab7606e645\",\"type\":\"BasicTicker\"}},\"id\":\"309be89a-4ac8-4493-b459-ff0424de14a0\",\"type\":\"Grid\"},{\"attributes\":{\"bottom\":{\"field\":\"bottom\"},\"fill_color\":{\"field\":\"fill_color\"},\"left\":{\"field\":\"left\"},\"line_color\":{\"value\":null},\"right\":{\"field\":\"right\"},\"top\":{\"field\":\"top\"}},\"id\":\"798e8827-bb06-49cd-a05f-55d2dbdfc58e\",\"type\":\"Quad\"},{\"attributes\":{\"level\":\"glyph\",\"plot\":{\"id\":\"e8a21d66-5124-40e1-b390-772eb8ab827e\",\"subtype\":\"Figure\",\"type\":\"Plot\"},\"source\":{\"id\":\"8304994b-c898-4414-8c9e-388413bbd9c6\",\"type\":\"ColumnDataSource\"},\"text\":{\"field\":\"vals\"},\"text_align\":\"center\",\"text_baseline\":\"middle\",\"text_font_size\":{\"value\":\"8pt\"},\"x\":{\"field\":\"x\"},\"y\":{\"field\":\"y\"}},\"id\":\"56c7f753-d633-42ed-84d2-528a6a42b02a\",\"type\":\"LabelSet\"},{\"attributes\":{\"callback\":null,\"column_names\":[\"right\",\"bottom\",\"top\",\"left\",\"fill_color\"],\"data\":{\"bottom\":[450,50,250,350,150,350,450,150,250,350],\"fill_color\":[\"#808080\",\"#61c4c4\",\"#808080\",\"#c46161\",\"#61c4c4\",\"#c4c461\",\"#c46161\",\"#808080\",\"#808080\",\"#808080\"],\"left\":[135758231,135759095,135766890,135933921,135964764,136393658,136588031,136652491,136652953,136653925],\"right\":[136376515,136387299,136275985,136368563,136101132,136486342,136593678,136732772,136761175,136761853],\"top\":[496,90,293,395,191,394,496,192,294,395]}},\"id\":\"13270fec-bc22-4a46-9402-a6633231e6d9\",\"type\":\"ColumnDataSource\"},{\"attributes\":{\"plot\":{\"id\":\"e8a21d66-5124-40e1-b390-772eb8ab827e\",\"subtype\":\"Figure\",\"type\":\"Plot\"}},\"id\":\"c0f52d6d-9ed2-4683-b25d-794a9732e762\",\"type\":\"HelpTool\"},{\"attributes\":{\"overlay\":{\"id\":\"03677cd5-1f0b-422e-bc19-0bafa88fda7b\",\"type\":\"BoxAnnotation\"},\"plot\":{\"id\":\"e8a21d66-5124-40e1-b390-772eb8ab827e\",\"subtype\":\"Figure\",\"type\":\"Plot\"}},\"id\":\"2b5419c1-1c91-4e7b-b65f-fdb213c455c9\",\"type\":\"BoxZoomTool\"},{\"attributes\":{\"active_drag\":\"auto\",\"active_scroll\":\"auto\",\"active_tap\":\"auto\",\"tools\":[{\"id\":\"543bff47-858d-44d8-8efd-f4da023fc00a\",\"type\":\"PanTool\"},{\"id\":\"4d2c45d8-286d-4e91-9c1a-f1c74bfea854\",\"type\":\"WheelZoomTool\"},{\"id\":\"2b5419c1-1c91-4e7b-b65f-fdb213c455c9\",\"type\":\"BoxZoomTool\"},{\"id\":\"2fab090d-9bb9-4970-b6a0-4fd4250dac4f\",\"type\":\"SaveTool\"},{\"id\":\"3491c510-ba03-435c-b380-9cf81d91934c\",\"type\":\"ResetTool\"},{\"id\":\"c0f52d6d-9ed2-4683-b25d-794a9732e762\",\"type\":\"HelpTool\"}]},\"id\":\"8ad9cccc-cd42-4d7e-a0e7-6c25f6dcb1ab\",\"type\":\"Toolbar\"},{\"attributes\":{\"formatter\":{\"id\":\"354526e4-6e13-443a-9c35-5529ea35a2dc\",\"type\":\"BasicTickFormatter\"},\"plot\":{\"id\":\"e8a21d66-5124-40e1-b390-772eb8ab827e\",\"subtype\":\"Figure\",\"type\":\"Plot\"},\"ticker\":{\"id\":\"4a3e3da8-774c-4942-ab78-931311a1c1bc\",\"type\":\"BasicTicker\"},\"visible\":null},\"id\":\"f986623b-981a-4b0d-9add-e6b02230465b\",\"type\":\"LinearAxis\"},{\"attributes\":{},\"id\":\"354526e4-6e13-443a-9c35-5529ea35a2dc\",\"type\":\"BasicTickFormatter\"},{\"attributes\":{\"bottom\":{\"field\":\"bottom\"},\"fill_alpha\":{\"value\":0.1},\"fill_color\":{\"value\":\"#1f77b4\"},\"left\":{\"field\":\"left\"},\"line_alpha\":{\"value\":0.1},\"line_color\":{\"value\":\"#1f77b4\"},\"right\":{\"field\":\"right\"},\"top\":{\"field\":\"top\"}},\"id\":\"7b1bf1e2-c69d-47a7-8bc0-104c15ec9af3\",\"type\":\"Quad\"},{\"attributes\":{},\"id\":\"4a3e3da8-774c-4942-ab78-931311a1c1bc\",\"type\":\"BasicTicker\"},{\"attributes\":{\"plot\":{\"id\":\"e8a21d66-5124-40e1-b390-772eb8ab827e\",\"subtype\":\"Figure\",\"type\":\"Plot\"}},\"id\":\"2fab090d-9bb9-4970-b6a0-4fd4250dac4f\",\"type\":\"SaveTool\"},{\"attributes\":{\"plot\":{\"id\":\"e8a21d66-5124-40e1-b390-772eb8ab827e\",\"subtype\":\"Figure\",\"type\":\"Plot\"}},\"id\":\"543bff47-858d-44d8-8efd-f4da023fc00a\",\"type\":\"PanTool\"},{\"attributes\":{},\"id\":\"e5d3cf36-9870-42e3-8326-3ac3a2d8dbd7\",\"type\":\"ToolEvents\"},{\"attributes\":{},\"id\":\"da7fbbb1-7bbc-44b3-bc7d-dcab7606e645\",\"type\":\"BasicTicker\"},{\"attributes\":{\"callback\":null,\"column_names\":[\"xs\",\"ys\",\"line_color\"],\"data\":{\"line_color\":[\"black\",\"black\",\"black\",\"black\",\"black\",\"black\",\"black\",\"black\",\"black\",\"black\",\"black\",\"black\",\"black\",\"black\",\"black\",\"black\",\"black\",\"black\",\"black\",\"black\",\"black\",\"black\",\"black\",\"black\",\"black\",\"black\",\"black\",\"black\",\"black\",\"black\",\"black\",\"black\",\"black\",\"black\",\"black\",\"black\",\"black\",\"black\",\"black\",\"black\",\"black\",\"black\",\"black\",\"black\",\"black\",\"black\",\"black\",\"black\",\"black\",\"black\",\"black\",\"black\",\"black\",\"black\",\"black\",\"black\",\"black\",\"black\",\"black\",\"black\",\"black\",\"black\",\"black\",\"black\",\"black\",\"black\",\"black\",\"black\",\"black\",\"black\",\"black\",\"black\",\"black\",\"black\",\"black\",\"black\",\"black\",\"black\",\"black\",\"black\",\"black\",\"black\",\"black\",\"black\",\"black\",\"black\",\"black\",\"black\",\"black\",\"black\",\"black\",\"black\",\"black\",\"black\",\"black\",\"black\",\"black\",\"black\",\"black\",\"black\",\"black\",\"black\",\"black\",\"black\",\"black\",\"black\",\"black\",\"black\",\"black\",\"black\",\"black\",\"black\",\"black\",\"black\",\"black\",\"black\",\"black\",\"black\",\"black\",\"black\",\"black\",\"black\",\"black\",\"black\",\"black\",\"black\",\"black\",\"black\",\"black\",\"black\",\"black\",\"black\",\"black\",\"black\",\"black\",\"black\",\"black\",\"black\",\"black\",\"black\",\"black\",\"black\",\"black\",\"black\",\"black\",\"black\",\"black\",\"black\",\"black\",\"black\",\"black\",\"black\",\"black\",\"black\",\"black\",\"black\",\"black\",\"black\",\"black\",\"black\",\"black\",\"black\",\"black\",\"black\",\"black\",\"black\",\"black\",\"black\",\"black\",\"black\",\"black\",\"black\",\"black\",\"black\",\"black\",\"black\",\"black\",\"black\",\"black\",\"black\",\"black\",\"black\",\"black\",\"black\",\"black\",\"black\",\"black\",\"black\",\"black\",\"black\",\"black\",\"black\",\"black\",\"black\",\"black\",\"black\",\"black\",\"black\",\"black\",\"black\",\"black\",\"black\",\"black\",\"black\",\"black\",\"black\",\"black\",\"black\",\"black\",\"black\",\"black\",\"black\",\"black\",\"black\",\"black\",\"black\",\"black\",\"black\",\"black\",\"black\",\"black\",\"black\",\"black\",\"black\",\"black\",\"black\",\"black\",\"black\",\"black\",\"black\",\"black\",\"black\",\"black\",\"black\",\"black\",\"black\",\"black\",\"black\",\"black\",\"black\",\"black\",\"black\",\"black\",\"black\",\"black\",\"black\",\"black\",\"black\",\"black\",\"black\",\"black\",\"black\",\"black\",\"black\",\"black\",\"black\",\"black\",\"black\",\"black\",\"black\",\"black\",\"black\",\"black\",\"black\",\"black\",\"black\",\"black\",\"black\",\"black\",\"black\",\"black\",\"black\",\"black\",\"black\",\"black\",\"black\",\"black\",\"black\",\"black\",\"black\",\"black\",\"black\",\"black\",\"black\",\"black\",\"black\",\"black\",\"black\",\"black\",\"black\",\"black\",\"black\",\"black\",\"black\",\"black\",\"black\",\"black\",\"black\",\"black\",\"black\",\"black\",\"black\",\"black\",\"black\",\"black\",\"black\",\"black\",\"black\",\"black\",\"black\",\"black\",\"black\",\"black\",\"black\",\"black\",\"black\",\"black\",\"black\",\"black\",\"black\",\"black\",\"black\",\"black\",\"black\",\"black\",\"black\",\"black\",\"black\",\"black\",\"black\",\"black\",\"black\",\"black\",\"black\",\"black\",\"black\",\"black\",\"black\",\"black\",\"black\",\"black\",\"black\",\"black\",\"black\",\"black\",\"black\",\"black\",\"black\",\"black\",\"black\",\"black\",\"black\",\"black\",\"black\",\"black\",\"black\",\"black\",\"black\",\"black\",\"black\",\"black\",\"black\",\"black\",\"black\",\"black\",\"black\",\"black\",\"black\",\"black\",\"black\",\"black\",\"black\",\"black\",\"black\",\"black\",\"black\",\"black\",\"black\",\"black\",\"black\",\"black\",\"black\",\"black\",\"black\",\"black\",\"black\",\"black\",\"black\",\"black\",\"black\",\"black\",\"black\",\"black\",\"black\",\"black\",\"black\",\"black\",\"black\",\"black\",\"black\",\"black\",\"black\",\"black\",\"black\",\"black\",\"black\",\"black\",\"black\",\"black\",\"black\",\"black\",\"black\",\"black\",\"black\",\"black\",\"black\",\"black\",\"black\",\"black\",\"black\",\"black\",\"black\",\"black\",\"black\",\"black\",\"black\",\"black\",\"black\",\"black\",\"black\",\"black\",\"black\",\"black\",\"black\",\"black\",\"black\",\"black\",\"black\",\"black\",\"black\",\"black\",\"black\",\"black\",\"black\",\"black\",\"black\",\"black\",\"black\",\"black\",\"black\",\"black\",\"black\",\"black\",\"black\",\"black\",\"black\",\"black\",\"black\",\"black\",\"black\",\"black\",\"black\",\"black\",\"black\",\"black\",\"black\",\"black\",\"black\",\"black\",\"black\",\"black\",\"black\",\"black\",\"black\",\"black\",\"black\",\"black\",\"black\",\"black\",\"black\",\"black\",\"black\",\"black\",\"black\",\"black\",\"black\",\"black\",\"black\",\"black\",\"black\",\"black\",\"black\",\"black\",\"black\",\"black\",\"black\",\"black\",\"black\",\"black\",\"black\",\"black\",\"black\",\"black\",\"black\",\"black\",\"black\",\"black\",\"black\",\"black\",\"black\",\"black\",\"black\",\"black\",\"black\",\"black\",\"black\",\"black\",\"black\",\"black\",\"black\",\"black\",\"black\",\"black\",\"black\",\"black\",\"black\",\"black\",\"black\",\"black\",\"black\",\"black\",\"black\",\"black\",\"black\",\"black\",\"black\",\"black\",\"black\",\"black\",\"black\",\"black\",\"black\",\"black\",\"black\",\"black\",\"black\",\"black\",\"black\",\"black\",\"black\",\"black\",\"black\",\"black\",\"black\",\"black\",\"black\",\"black\",\"black\",\"black\",\"black\",\"black\",\"black\",\"black\",\"black\",\"black\",\"black\",\"black\",\"black\",\"black\",\"black\",\"black\",\"black\",\"black\",\"black\",\"black\"],\"xs\":[[135758231,135758231],[135758520,135758520],[135766072,135766072],[135773420,135773420],[135773446,135773446],[135773617,135773617],[135773692,135773692],[135774681,135774681],[135775049,135775049],[135776430,135776430],[135778656,135778656],[135780168,135780168],[135780587,135780587],[135781301,135781301],[135781522,135781522],[135781635,135781635],[135782456,135782456],[135783157,135783157],[135783366,135783366],[135783367,135783367],[135784227,135784227],[135784733,135784733],[135785066,135785066],[135785068,135785068],[135785149,135785149],[135787148,135787148],[135787642,135787642],[135789405,135789405],[135789472,135789472],[135789682,135789682],[135789784,135789784],[135792338,135792338],[135792528,135792528],[135793565,135793565],[135793684,135793684],[135793845,135793845],[135794367,135794367],[135794986,135794986],[135795040,135795040],[135795095,135795095],[135795150,135795150],[135795385,135795385],[135795396,135795396],[135795443,135795443],[135795595,135795595],[135796000,135796000],[135796155,135796155],[135796410,135796410],[135796965,135796965],[135797223,135797223],[135797747,135797747],[135798082,135798082],[135798758,135798758],[135799082,135799082],[135800085,135800085],[135800601,135800601],[135800757,135800757],[135801228,135801228],[135801956,135801956],[135802020,135802020],[135802028,135802028],[135802050,135802050],[135802148,135802148],[135803766,135803766],[135809241,135809241],[135812969,135812969],[135814716,135814716],[135818907,135818907],[135829432,135829432],[135832131,135832131],[135849613,135849613],[135853807,135853807],[135859923,135859923],[135860305,135860305],[135861497,135861497],[135863143,135863143],[135864294,135864294],[135871624,135871624],[135872646,135872646],[135874038,135874038],[135874622,135874622],[135878814,135878814],[135880013,135880013],[135884487,135884487],[135885357,135885357],[135893853,135893853],[135895809,135895809],[135895879,135895879],[135899069,135899069],[135909462,135909462],[135912977,135912977],[135914038,135914038],[135921839,135921839],[135925002,135925002],[135928312,135928312],[135935049,135935049],[135962711,135962711],[135984172,135984172],[135994753,135994753],[135994754,135994754],[136016079,136016079],[136027264,136027264],[136052004,136052004],[136100473,136100473],[136110129,136110129],[136166536,136166536],[136169799,136169799],[136191314,136191314],[136228887,136228887],[136238453,136238453],[136288273,136288273],[136292425,136292425],[136321951,136321951],[136324564,136324564],[136327299,136327299],[136327302,136327302],[136376515,136376515],[135759095,135759095],[135767882,135767882],[135772049,135772049],[135773449,135773449],[135775786,135775786],[135776584,135776584],[135778239,135778239],[135781035,135781035],[135796302,135796302],[135803806,135803806],[135809572,135809572],[135812974,135812974],[135823042,135823042],[135825074,135825074],[135833521,135833521],[135851941,135851941],[135853900,135853900],[135854901,135854901],[135861310,135861310],[135866182,135866182],[135876308,135876308],[135887893,135887893],[135890608,135890608],[135899021,135899021],[135900539,135900539],[135912255,135912255],[135915414,135915414],[135918681,135918681],[135938999,135938999],[135946762,135946762],[135949064,135949064],[135949065,135949065],[135950240,135950240],[135954501,135954501],[135958940,135958940],[135960011,135960011],[135964572,135964572],[135971806,135971806],[135975598,135975598],[135978637,135978637],[135978792,135978792],[135980802,135980802],[135981130,135981130],[135984068,135984068],[135986636,135986636],[135987163,135987163],[135988186,135988186],[135992038,135992038],[135995885,135995885],[135996353,135996353],[135997275,135997275],[135998352,135998352],[135999189,135999189],[135999758,135999758],[136003597,136003597],[136007338,136007338],[136007529,136007529],[136009326,136009326],[136012313,136012313],[136019560,136019560],[136021007,136021007],[136027748,136027748],[136027809,136027809],[136031318,136031318],[136031551,136031551],[136034837,136034837],[136035510,136035510],[136042064,136042064],[136043293,136043293],[136045826,136045826],[136049992,136049992],[136052318,136052318],[136052770,136052770],[136053195,136053195],[136053599,136053599],[136055139,136055139],[136057643,136057643],[136060102,136060102],[136062586,136062586],[136062749,136062749],[136069870,136069870],[136070441,136070441],[136072754,136072754],[136074672,136074672],[136076275,136076275],[136081038,136081038],[136084661,136084661],[136085367,136085367],[136086897,136086897],[136088431,136088431],[136092485,136092485],[136093253,136093253],[136094478,136094478],[136102064,136102064],[136105186,136105186],[136108385,136108385],[136109851,136109851],[136112697,136112697],[136114228,136114228],[136119133,136119133],[136120174,136120174],[136127216,136127216],[136128254,136128254],[136131744,136131744],[136133109,136133109],[136136279,136136279],[136142490,136142490],[136145192,136145192],[136146053,136146053],[136146369,136146369],[136149565,136149565],[136149927,136149927],[136151774,136151774],[136154364,136154364],[136157752,136157752],[136158243,136158243],[136158644,136158644],[136158946,136158946],[136159843,136159843],[136160751,136160751],[136163870,136163870],[136168686,136168686],[136171386,136171386],[136172024,136172024],[136172820,136172820],[136172853,136172853],[136175034,136175034],[136176104,136176104],[136178761,136178761],[136180917,136180917],[136182160,136182160],[136182355,136182355],[136185950,136185950],[136188300,136188300],[136188480,136188480],[136188575,136188575],[136191286,136191286],[136191661,136191661],[136193839,136193839],[136197756,136197756],[136198645,136198645],[136201320,136201320],[136202976,136202976],[136203038,136203038],[136208730,136208730],[136211792,136211792],[136213050,136213050],[136213287,136213287],[136222634,136222634],[136225101,136225101],[136227710,136227710],[136228150,136228150],[136229697,136229697],[136232100,136232100],[136237994,136237994],[136249777,136249777],[136253514,136253514],[136254660,136254660],[136258254,136258254],[136262412,136262412],[136263071,136263071],[136263450,136263450],[136266335,136266335],[136268788,136268788],[136274236,136274236],[136276238,136276238],[136277664,136277664],[136283916,136283916],[136284779,136284779],[136287555,136287555],[136298035,136298035],[136300554,136300554],[136308555,136308555],[136309552,136309552],[136309779,136309779],[136310924,136310924],[136311867,136311867],[136312909,136312909],[136315932,136315932],[136321197,136321197],[136331435,136331435],[136337874,136337874],[136339552,136339552],[136340725,136340725],[136345038,136345038],[136349891,136349891],[136356227,136356227],[136366433,136366433],[136380723,136380723],[136382681,136382681],[136385683,136385683],[136386726,136386726],[136387299,136387299],[135766890,135766890],[135778708,135778708],[135779588,135779588],[135805941,135805941],[135805943,135805943],[135932720,135932720],[135933317,135933317],[135934842,135934842],[135952376,135952376],[135958853,135958853],[135962864,135962864],[135963304,135963304],[135965376,135965376],[135980201,135980201],[135981554,135981554],[135988127,135988127],[135988416,135988416],[135991470,135991470],[136000500,136000500],[136001215,136001215],[136001295,136001295],[136016514,136016514],[136017388,136017388],[136041102,136041102],[136041662,136041662],[136047387,136047387],[136052936,136052936],[136055275,136055275],[136063118,136063118],[136066802,136066802],[136068890,136068890],[136069577,136069577],[136081193,136081193],[136105193,136105193],[136107839,136107839],[136110835,136110835],[136138026,136138026],[136142092,136142092],[136146499,136146499],[136147607,136147607],[136148401,136148401],[136150512,136150512],[136154734,136154734],[136155805,136155805],[136163001,136163001],[136163266,136163266],[136163568,136163568],[136163821,136163821],[136165965,136165965],[136183312,136183312],[136185945,136185945],[136191729,136191729],[136204827,136204827],[136208747,136208747],[136217980,136217980],[136229438,136229438],[136232572,136232572],[136240942,136240942],[136251329,136251329],[136265187,136265187],[136265188,136265188],[136275985,136275985],[135933921,135933921],[135939824,135939824],[135941503,135941503],[135943900,135943900],[135945474,135945474],[135949715,135949715],[135956745,135956745],[135958693,135958693],[135967778,135967778],[135972093,135972093],[135973768,135973768],[135976498,135976498],[135978428,135978428],[135990031,135990031],[135992481,135992481],[135993925,135993925],[135994838,135994838],[136000253,136000253],[136003567,136003567],[136005477,136005477],[136005971,136005971],[136020977,136020977],[136027535,136027535],[136031588,136031588],[136032905,136032905],[136042480,136042480],[136043885,136043885],[136050471,136050471],[136052898,136052898],[136054815,136054815],[136056285,136056285],[136061560,136061560],[136063685,136063685],[136069060,136069060],[136072179,136072179],[136074233,136074233],[136080721,136080721],[136080822,136080822],[136088440,136088440],[136088643,136088643],[136092416,136092416],[136092869,136092869],[136094615,136094615],[136095505,136095505],[136095604,136095604],[136096766,136096766],[136097091,136097091],[136097394,136097394],[136100243,136100243],[136101823,136101823],[136106561,136106561],[136115501,136115501],[136122622,136122622],[136123014,136123014],[136123848,136123848],[136127100,136127100],[136127950,136127950],[136128630,136128630],[136129630,136129630],[136129791,136129791],[136131324,136131324],[136135383,136135383],[136135994,136135994],[136136224,136136224],[136136366,136136366],[136136440,136136440],[136138145,136138145],[136140568,136140568],[136145882,136145882],[136147948,136147948],[136148630,136148630],[136151485,136151485],[136152802,136152802],[136156753,136156753],[136157913,136157913],[136160902,136160902],[136165765,136165765],[136171649,136171649],[136173220,136173220],[136173735,136173735],[136174552,136174552],[136175692,136175692],[136176805,136176805],[136182484,136182484],[136183188,136183188],[136187252,136187252],[136187345,136187345],[136189475,136189475],[136197702,136197702],[136198435,136198435],[136202937,136202937],[136219999,136219999],[136221500,136221500],[136226626,136226626],[136228929,136228929],[136229598,136229598],[136238270,136238270],[136238346,136238346],[136240769,136240769],[136244171,136244171],[136249245,136249245],[136250285,136250285],[136254419,136254419],[136266241,136266241],[136267808,136267808],[136272074,136272074],[136277304,136277304],[136290607,136290607],[136290663,136290663],[136291310,136291310],[136296051,136296051],[136305392,136305392],[136306890,136306890],[136310803,136310803],[136324225,136324225],[136324465,136324465],[136327305,136327305],[136329618,136329618],[136333300,136333300],[136350089,136350089],[136354204,136354204],[136360455,136360455],[136368563,136368563],[135964764,135964764],[135964765,135964765],[136099127,136099127],[136099650,136099650],[136100705,136100705],[136101132,136101132],[136393658,136393658],[136396300,136396300],[136401843,136401843],[136407445,136407445],[136411879,136411879],[136412270,136412270],[136413244,136413244],[136413847,136413847],[136415217,136415217],[136416533,136416533],[136420726,136420726],[136429857,136429857],[136433740,136433740],[136436317,136436317],[136437615,136437615],[136438517,136438517],[136440300,136440300],[136443900,136443900],[136444185,136444185],[136444338,136444338],[136449254,136449254],[136451676,136451676],[136459227,136459227],[136463117,136463117],[136463454,136463454],[136467119,136467119],[136468238,136468238],[136470219,136470219],[136483355,136483355],[136485276,136485276],[136486340,136486340],[136486342,136486342],[136588031,136588031],[136589278,136589278],[136589379,136589379],[136589741,136589741],[136590746,136590746],[136593553,136593553],[136593678,136593678],[136652491,136652491],[136652524,136652524],[136661150,136661150],[136669264,136669264],[136726567,136726567],[136732772,136732772],[136652953,136652953],[136655582,136655582],[136674028,136674028],[136684940,136684940],[136761175,136761175],[136653925,136653925],[136654833,136654833],[136656534,136656534],[136656536,136656536],[136657252,136657252],[136667301,136667301],[136667487,136667487],[136672775,136672775],[136680534,136680534],[136686393,136686393],[136688749,136688749],[136692553,136692553],[136697371,136697371],[136708787,136708787],[136710372,136710372],[136711064,136711064],[136715324,136715324],[136723504,136723504],[136737460,136737460],[136743143,136743143],[136746224,136746224],[136751842,136751842],[136759379,136759379],[136761853,136761853]],\"ys\":[[450,496],[450,496],[450,496],[450,496],[450,496],[450,496],[450,496],[450,496],[450,496],[450,496],[450,496],[450,496],[450,496],[450,496],[450,496],[450,496],[450,496],[450,496],[450,496],[450,496],[450,496],[450,496],[450,496],[450,496],[450,496],[450,496],[450,496],[450,496],[450,496],[450,496],[450,496],[450,496],[450,496],[450,496],[450,496],[450,496],[450,496],[450,496],[450,496],[450,496],[450,496],[450,496],[450,496],[450,496],[450,496],[450,496],[450,496],[450,496],[450,496],[450,496],[450,496],[450,496],[450,496],[450,496],[450,496],[450,496],[450,496],[450,496],[450,496],[450,496],[450,496],[450,496],[450,496],[450,496],[450,496],[450,496],[450,496],[450,496],[450,496],[450,496],[450,496],[450,496],[450,496],[450,496],[450,496],[450,496],[450,496],[450,496],[450,496],[450,496],[450,496],[450,496],[450,496],[450,496],[450,496],[450,496],[450,496],[450,496],[450,496],[450,496],[450,496],[450,496],[450,496],[450,496],[450,496],[450,496],[450,496],[450,496],[450,496],[450,496],[450,496],[450,496],[450,496],[450,496],[450,496],[450,496],[450,496],[450,496],[450,496],[450,496],[450,496],[450,496],[450,496],[450,496],[450,496],[450,496],[450,496],[50,90],[50,90],[50,90],[50,90],[50,90],[50,90],[50,90],[50,90],[50,90],[50,90],[50,90],[50,90],[50,90],[50,90],[50,90],[50,90],[50,90],[50,90],[50,90],[50,90],[50,90],[50,90],[50,90],[50,90],[50,90],[50,90],[50,90],[50,90],[50,90],[50,90],[50,90],[50,90],[50,90],[50,90],[50,90],[50,90],[50,90],[50,90],[50,90],[50,90],[50,90],[50,90],[50,90],[50,90],[50,90],[50,90],[50,90],[50,90],[50,90],[50,90],[50,90],[50,90],[50,90],[50,90],[50,90],[50,90],[50,90],[50,90],[50,90],[50,90],[50,90],[50,90],[50,90],[50,90],[50,90],[50,90],[50,90],[50,90],[50,90],[50,90],[50,90],[50,90],[50,90],[50,90],[50,90],[50,90],[50,90],[50,90],[50,90],[50,90],[50,90],[50,90],[50,90],[50,90],[50,90],[50,90],[50,90],[50,90],[50,90],[50,90],[50,90],[50,90],[50,90],[50,90],[50,90],[50,90],[50,90],[50,90],[50,90],[50,90],[50,90],[50,90],[50,90],[50,90],[50,90],[50,90],[50,90],[50,90],[50,90],[50,90],[50,90],[50,90],[50,90],[50,90],[50,90],[50,90],[50,90],[50,90],[50,90],[50,90],[50,90],[50,90],[50,90],[50,90],[50,90],[50,90],[50,90],[50,90],[50,90],[50,90],[50,90],[50,90],[50,90],[50,90],[50,90],[50,90],[50,90],[50,90],[50,90],[50,90],[50,90],[50,90],[50,90],[50,90],[50,90],[50,90],[50,90],[50,90],[50,90],[50,90],[50,90],[50,90],[50,90],[50,90],[50,90],[50,90],[50,90],[50,90],[50,90],[50,90],[50,90],[50,90],[50,90],[50,90],[50,90],[50,90],[50,90],[50,90],[50,90],[50,90],[50,90],[50,90],[50,90],[50,90],[50,90],[50,90],[50,90],[50,90],[50,90],[50,90],[50,90],[50,90],[50,90],[50,90],[50,90],[50,90],[50,90],[50,90],[50,90],[50,90],[50,90],[50,90],[50,90],[250,293],[250,293],[250,293],[250,293],[250,293],[250,293],[250,293],[250,293],[250,293],[250,293],[250,293],[250,293],[250,293],[250,293],[250,293],[250,293],[250,293],[250,293],[250,293],[250,293],[250,293],[250,293],[250,293],[250,293],[250,293],[250,293],[250,293],[250,293],[250,293],[250,293],[250,293],[250,293],[250,293],[250,293],[250,293],[250,293],[250,293],[250,293],[250,293],[250,293],[250,293],[250,293],[250,293],[250,293],[250,293],[250,293],[250,293],[250,293],[250,293],[250,293],[250,293],[250,293],[250,293],[250,293],[250,293],[250,293],[250,293],[250,293],[250,293],[250,293],[250,293],[250,293],[350,395],[350,395],[350,395],[350,395],[350,395],[350,395],[350,395],[350,395],[350,395],[350,395],[350,395],[350,395],[350,395],[350,395],[350,395],[350,395],[350,395],[350,395],[350,395],[350,395],[350,395],[350,395],[350,395],[350,395],[350,395],[350,395],[350,395],[350,395],[350,395],[350,395],[350,395],[350,395],[350,395],[350,395],[350,395],[350,395],[350,395],[350,395],[350,395],[350,395],[350,395],[350,395],[350,395],[350,395],[350,395],[350,395],[350,395],[350,395],[350,395],[350,395],[350,395],[350,395],[350,395],[350,395],[350,395],[350,395],[350,395],[350,395],[350,395],[350,395],[350,395],[350,395],[350,395],[350,395],[350,395],[350,395],[350,395],[350,395],[350,395],[350,395],[350,395],[350,395],[350,395],[350,395],[350,395],[350,395],[350,395],[350,395],[350,395],[350,395],[350,395],[350,395],[350,395],[350,395],[350,395],[350,395],[350,395],[350,395],[350,395],[350,395],[350,395],[350,395],[350,395],[350,395],[350,395],[350,395],[350,395],[350,395],[350,395],[350,395],[350,395],[350,395],[350,395],[350,395],[350,395],[350,395],[350,395],[350,395],[350,395],[350,395],[350,395],[350,395],[350,395],[350,395],[350,395],[350,395],[350,395],[350,395],[350,395],[350,395],[350,395],[350,395],[350,395],[150,191],[150,191],[150,191],[150,191],[150,191],[150,191],[350,394],[350,394],[350,394],[350,394],[350,394],[350,394],[350,394],[350,394],[350,394],[350,394],[350,394],[350,394],[350,394],[350,394],[350,394],[350,394],[350,394],[350,394],[350,394],[350,394],[350,394],[350,394],[350,394],[350,394],[350,394],[350,394],[350,394],[350,394],[350,394],[350,394],[350,394],[350,394],[450,496],[450,496],[450,496],[450,496],[450,496],[450,496],[450,496],[150,192],[150,192],[150,192],[150,192],[150,192],[150,192],[250,294],[250,294],[250,294],[250,294],[250,294],[350,395],[350,395],[350,395],[350,395],[350,395],[350,395],[350,395],[350,395],[350,395],[350,395],[350,395],[350,395],[350,395],[350,395],[350,395],[350,395],[350,395],[350,395],[350,395],[350,395],[350,395],[350,395],[350,395],[350,395]]}},\"id\":\"ae29b25d-a9a0-4266-b18a-9e9a0f35d43a\",\"type\":\"ColumnDataSource\"}],\"root_ids\":[\"e8a21d66-5124-40e1-b390-772eb8ab827e\"]},\"title\":\"Bokeh Application\",\"version\":\"0.12.0\"}};\n",
       "            var render_items = [{\"docid\":\"2930ae0b-4bfa-40b6-bd4a-1fadc28f1bd9\",\"elementid\":\"2bdeba16-72ba-4e8e-9ab4-00d035b73e81\",\"modelid\":\"e8a21d66-5124-40e1-b390-772eb8ab827e\",\"notebook_comms_target\":\"702e55a0-f984-4053-be80-5177930a5115\"}];\n",
       "            \n",
       "            Bokeh.embed.embed_items(docs_json, render_items);\n",
       "        });\n",
       "      },\n",
       "      function(Bokeh) {\n",
       "      }\n",
       "    ];\n",
       "  \n",
       "    function run_inline_js() {\n",
       "      for (var i = 0; i < inline_js.length; i++) {\n",
       "        inline_js[i](window.Bokeh);\n",
       "      }\n",
       "    }\n",
       "  \n",
       "    if (window._bokeh_is_loading === 0) {\n",
       "      console.log(\"Bokeh: BokehJS loaded, going straight to plotting\");\n",
       "      run_inline_js();\n",
       "    } else {\n",
       "      load_libs(js_urls, function() {\n",
       "        console.log(\"Bokeh: BokehJS plotting callback run at\", now());\n",
       "        run_inline_js();\n",
       "      });\n",
       "    }\n",
       "  }(this));\n",
       "</script>"
      ]
     },
     "metadata": {},
     "output_type": "display_data"
    },
    {
     "data": {
      "text/html": [
       "<p><code>&lt;Bokeh Notebook handle for <strong>In[15]</strong>&gt;</code></p>"
      ],
      "text/plain": [
       "<bokeh.io._CommsHandle at 0x7fa618a9a310>"
      ]
     },
     "execution_count": 15,
     "metadata": {},
     "output_type": "execute_result"
    }
   ],
   "source": [
    "plt_obj = dm.superset_allele_mask(am_3_not_5_1460, min_match=0.5)\n",
    "plt = plt_obj.do_plot()\n",
    "am = plt_obj.plot_context.yes_allele_mask\n",
    "show(plt)"
   ]
  },
  {
   "cell_type": "code",
   "execution_count": 16,
   "metadata": {
    "collapsed": false
   },
   "outputs": [
    {
     "data": {
      "text/html": [
       "<table>\n",
       "<thead><tr><th style=\"text-align:center\">index</th><th style=\"text-align:center\">first</th><th style=\"text-align:center\">length</th><th style=\"text-align:center\">snps</th><th style=\"text-align:center\" colspan=2>alleles</th><th style=\"text-align:center\" colspan=2>matches</th><th style=\"text-align:center\" colspan=2>afr</th><th style=\"text-align:center\" colspan=2>afx</th><th style=\"text-align:center\" colspan=2>amr</th><th style=\"text-align:center\" colspan=2>eas</th><th style=\"text-align:center\" colspan=2>eur</th><th style=\"text-align:center\" colspan=2>sas</th><th style=\"text-align:center\" colspan=2>sax</th></tr></thead>\n",
       "<tr class=\"even\"><td style=\"text-align: right;\">354033</td><td style=\"text-align: right;\">136,588,031</td><td style=\"text-align: right;\">5,647</td><td style=\"text-align: right;\">7</td><td style=\"text-align: right;\">1760</td><td style=\"text-align: right;\">0.01</td><td style=\"text-align: right;\">22</td><td style=\"text-align: right;\">0.55</td><td style=\"text-align: right;\">4</td><td style=\"text-align: right;\">0.90</td><td style=\"text-align: right;\">2</td><td style=\"text-align: right;\">1.45</td><td style=\"text-align: right;\">7</td><td style=\"text-align: right;\">2.30</td><td style=\"text-align: right;\">4</td><td style=\"text-align: right;\">0.90</td><td style=\"text-align: right;\">2</td><td style=\"text-align: right;\">0.45</td><td style=\"text-align: right;\">1</td><td style=\"text-align: right;\">0.63</td><td style=\"text-align: right;\">2</td><td style=\"text-align: right;\">0.74</td></tr>\n",
       "<tr><td style=\"text-align: right;\">353244</td><td style=\"text-align: right;\">135,758,231</td><td style=\"text-align: right;\">618,284</td><td style=\"text-align: right;\">117</td><td style=\"text-align: right;\">1685</td><td style=\"text-align: right;\">0.02</td><td style=\"text-align: right;\">27</td><td style=\"text-align: right;\">0.68</td><td style=\"text-align: right;\">4</td><td style=\"text-align: right;\">0.74</td><td style=\"text-align: right;\">2</td><td style=\"text-align: right;\">1.18</td><td style=\"text-align: right;\">5</td><td style=\"text-align: right;\">1.34</td><td style=\"text-align: right;\">3</td><td style=\"text-align: right;\">0.55</td><td style=\"text-align: right;\">0</td><td style=\"text-align: right;\">0.00</td><td style=\"text-align: right;\">6</td><td style=\"text-align: right;\">3.06</td><td style=\"text-align: right;\">7</td><td style=\"text-align: right;\">2.11</td></tr>\n",
       "<tr class=\"even\"><td style=\"text-align: right;\">353478</td><td style=\"text-align: right;\">135,933,921</td><td style=\"text-align: right;\">434,642</td><td style=\"text-align: right;\">123</td><td style=\"text-align: right;\">1561</td><td style=\"text-align: right;\">0.01</td><td style=\"text-align: right;\">20</td><td style=\"text-align: right;\">0.50</td><td style=\"text-align: right;\">0</td><td style=\"text-align: right;\">0.00</td><td style=\"text-align: right;\">0</td><td style=\"text-align: right;\">0.00</td><td style=\"text-align: right;\">5</td><td style=\"text-align: right;\">1.80</td><td style=\"text-align: right;\">3</td><td style=\"text-align: right;\">0.75</td><td style=\"text-align: right;\">0</td><td style=\"text-align: right;\">0.00</td><td style=\"text-align: right;\">6</td><td style=\"text-align: right;\">4.13</td><td style=\"text-align: right;\">6</td><td style=\"text-align: right;\">2.45</td></tr>\n",
       "<tr><td style=\"text-align: right;\">354130</td><td style=\"text-align: right;\">136,653,925</td><td style=\"text-align: right;\">107,928</td><td style=\"text-align: right;\">24</td><td style=\"text-align: right;\">1504</td><td style=\"text-align: right;\">0.01</td><td style=\"text-align: right;\">20</td><td style=\"text-align: right;\">0.50</td><td style=\"text-align: right;\">1</td><td style=\"text-align: right;\">0.25</td><td style=\"text-align: right;\">0</td><td style=\"text-align: right;\">0.00</td><td style=\"text-align: right;\">5</td><td style=\"text-align: right;\">1.80</td><td style=\"text-align: right;\">4</td><td style=\"text-align: right;\">0.99</td><td style=\"text-align: right;\">1</td><td style=\"text-align: right;\">0.25</td><td style=\"text-align: right;\">2</td><td style=\"text-align: right;\">1.38</td><td style=\"text-align: right;\">7</td><td style=\"text-align: right;\">2.85</td></tr>\n",
       "<tr class=\"even\"><td style=\"text-align: right;\">353791</td><td style=\"text-align: right;\">136,393,658</td><td style=\"text-align: right;\">92,684</td><td style=\"text-align: right;\">32</td><td style=\"text-align: right;\">1361</td><td style=\"text-align: right;\">0.03</td><td style=\"text-align: right;\">39</td><td style=\"text-align: right;\">0.98</td><td style=\"text-align: right;\">4</td><td style=\"text-align: right;\">0.51</td><td style=\"text-align: right;\">2</td><td style=\"text-align: right;\">0.82</td><td style=\"text-align: right;\">7</td><td style=\"text-align: right;\">1.30</td><td style=\"text-align: right;\">12</td><td style=\"text-align: right;\">1.53</td><td style=\"text-align: right;\">2</td><td style=\"text-align: right;\">0.26</td><td style=\"text-align: right;\">5</td><td style=\"text-align: right;\">1.76</td><td style=\"text-align: right;\">7</td><td style=\"text-align: right;\">1.46</td></tr>\n",
       "<tr><td style=\"text-align: right;\">354129</td><td style=\"text-align: right;\">136,652,953</td><td style=\"text-align: right;\">108,222</td><td style=\"text-align: right;\">5</td><td style=\"text-align: right;\">1296</td><td style=\"text-align: right;\">0.02</td><td style=\"text-align: right;\">20</td><td style=\"text-align: right;\">0.50</td><td style=\"text-align: right;\">1</td><td style=\"text-align: right;\">0.25</td><td style=\"text-align: right;\">0</td><td style=\"text-align: right;\">0.00</td><td style=\"text-align: right;\">5</td><td style=\"text-align: right;\">1.80</td><td style=\"text-align: right;\">4</td><td style=\"text-align: right;\">0.99</td><td style=\"text-align: right;\">1</td><td style=\"text-align: right;\">0.25</td><td style=\"text-align: right;\">2</td><td style=\"text-align: right;\">1.38</td><td style=\"text-align: right;\">7</td><td style=\"text-align: right;\">2.85</td></tr>\n",
       "<tr class=\"even\"><td style=\"text-align: right;\">353269</td><td style=\"text-align: right;\">135,766,890</td><td style=\"text-align: right;\">509,095</td><td style=\"text-align: right;\">62</td><td style=\"text-align: right;\">1265</td><td style=\"text-align: right;\">0.02</td><td style=\"text-align: right;\">20</td><td style=\"text-align: right;\">0.50</td><td style=\"text-align: right;\">0</td><td style=\"text-align: right;\">0.00</td><td style=\"text-align: right;\">0</td><td style=\"text-align: right;\">0.00</td><td style=\"text-align: right;\">5</td><td style=\"text-align: right;\">1.80</td><td style=\"text-align: right;\">3</td><td style=\"text-align: right;\">0.75</td><td style=\"text-align: right;\">0</td><td style=\"text-align: right;\">0.00</td><td style=\"text-align: right;\">6</td><td style=\"text-align: right;\">4.13</td><td style=\"text-align: right;\">6</td><td style=\"text-align: right;\">2.45</td></tr>\n",
       "<tr><td style=\"text-align: right;\">354127</td><td style=\"text-align: right;\">136,652,491</td><td style=\"text-align: right;\">80,281</td><td style=\"text-align: right;\">6</td><td style=\"text-align: right;\">1114</td><td style=\"text-align: right;\">0.02</td><td style=\"text-align: right;\">20</td><td style=\"text-align: right;\">0.50</td><td style=\"text-align: right;\">1</td><td style=\"text-align: right;\">0.25</td><td style=\"text-align: right;\">0</td><td style=\"text-align: right;\">0.00</td><td style=\"text-align: right;\">5</td><td style=\"text-align: right;\">1.80</td><td style=\"text-align: right;\">4</td><td style=\"text-align: right;\">0.99</td><td style=\"text-align: right;\">1</td><td style=\"text-align: right;\">0.25</td><td style=\"text-align: right;\">2</td><td style=\"text-align: right;\">1.38</td><td style=\"text-align: right;\">7</td><td style=\"text-align: right;\">2.85</td></tr>\n",
       "<tr class=\"even\"><td style=\"text-align: right;\">353504</td><td style=\"text-align: right;\">135,964,764</td><td style=\"text-align: right;\">136,368</td><td style=\"text-align: right;\">6</td><td style=\"text-align: right;\">946</td><td style=\"text-align: right;\">0.02</td><td style=\"text-align: right;\">21</td><td style=\"text-align: right;\">0.52</td><td style=\"text-align: right;\">1</td><td style=\"text-align: right;\">0.24</td><td style=\"text-align: right;\">0</td><td style=\"text-align: right;\">0.00</td><td style=\"text-align: right;\">5</td><td style=\"text-align: right;\">1.72</td><td style=\"text-align: right;\">3</td><td style=\"text-align: right;\">0.71</td><td style=\"text-align: right;\">0</td><td style=\"text-align: right;\">0.00</td><td style=\"text-align: right;\">6</td><td style=\"text-align: right;\">3.93</td><td style=\"text-align: right;\">6</td><td style=\"text-align: right;\">2.33</td></tr>\n",
       "<tr><td style=\"text-align: right;\">353248</td><td style=\"text-align: right;\">135,759,095</td><td style=\"text-align: right;\">628,204</td><td style=\"text-align: right;\">193</td><td style=\"text-align: right;\">843</td><td style=\"text-align: right;\">0.02</td><td style=\"text-align: right;\">20</td><td style=\"text-align: right;\">0.50</td><td style=\"text-align: right;\">0</td><td style=\"text-align: right;\">0.00</td><td style=\"text-align: right;\">0</td><td style=\"text-align: right;\">0.00</td><td style=\"text-align: right;\">5</td><td style=\"text-align: right;\">1.80</td><td style=\"text-align: right;\">3</td><td style=\"text-align: right;\">0.75</td><td style=\"text-align: right;\">0</td><td style=\"text-align: right;\">0.00</td><td style=\"text-align: right;\">6</td><td style=\"text-align: right;\">4.13</td><td style=\"text-align: right;\">6</td><td style=\"text-align: right;\">2.45</td></tr>\n",
       "</table>"
      ],
      "text/plain": [
       "<IPython.core.display.HTML object>"
      ]
     },
     "execution_count": 16,
     "metadata": {},
     "output_type": "execute_result"
    }
   ],
   "source": [
    "HTML(plt_obj.get_html())"
   ]
  },
  {
   "cell_type": "code",
   "execution_count": 17,
   "metadata": {
    "collapsed": false
   },
   "outputs": [
    {
     "data": {
      "text/plain": [
       "array([ 0,  0,  0,  0,  0,  5, 40, 40, 35])"
      ]
     },
     "execution_count": 17,
     "metadata": {},
     "output_type": "execute_result"
    }
   ],
   "source": [
    "sa_9_944.alleles_per_snp(am)"
   ]
  },
  {
   "cell_type": "code",
   "execution_count": 18,
   "metadata": {
    "collapsed": false
   },
   "outputs": [
    {
     "data": {
      "text/plain": [
       "array([ 6,  2,  6,  4,  3, 49, 46, 46, 46])"
      ]
     },
     "execution_count": 18,
     "metadata": {},
     "output_type": "execute_result"
    }
   ],
   "source": [
    "aps_4, am_4 = sa_9_944.snps_from_aps_value(4)\n",
    "aps_4"
   ]
  },
  {
   "cell_type": "code",
   "execution_count": 19,
   "metadata": {
    "collapsed": false
   },
   "outputs": [
    {
     "data": {
      "text/html": [
       "\n",
       "\n",
       "    <div class=\"bk-root\">\n",
       "        <div class=\"plotdiv\" id=\"85fec176-a2ce-44c6-be51-e3908a7e95de\"></div>\n",
       "    </div>\n",
       "<script type=\"text/javascript\">\n",
       "  \n",
       "  (function(global) {\n",
       "    function now() {\n",
       "      return new Date();\n",
       "    }\n",
       "  \n",
       "    if (typeof (window._bokeh_onload_callbacks) === \"undefined\") {\n",
       "      window._bokeh_onload_callbacks = [];\n",
       "    }\n",
       "  \n",
       "    function run_callbacks() {\n",
       "      window._bokeh_onload_callbacks.forEach(function(callback) { callback() });\n",
       "      delete window._bokeh_onload_callbacks\n",
       "      console.info(\"Bokeh: all callbacks have finished\");\n",
       "    }\n",
       "  \n",
       "    function load_libs(js_urls, callback) {\n",
       "      window._bokeh_onload_callbacks.push(callback);\n",
       "      if (window._bokeh_is_loading > 0) {\n",
       "        console.log(\"Bokeh: BokehJS is being loaded, scheduling callback at\", now());\n",
       "        return null;\n",
       "      }\n",
       "      if (js_urls == null || js_urls.length === 0) {\n",
       "        run_callbacks();\n",
       "        return null;\n",
       "      }\n",
       "      console.log(\"Bokeh: BokehJS not loaded, scheduling load and callback at\", now());\n",
       "      window._bokeh_is_loading = js_urls.length;\n",
       "      for (var i = 0; i < js_urls.length; i++) {\n",
       "        var url = js_urls[i];\n",
       "        var s = document.createElement('script');\n",
       "        s.src = url;\n",
       "        s.async = false;\n",
       "        s.onreadystatechange = s.onload = function() {\n",
       "          window._bokeh_is_loading--;\n",
       "          if (window._bokeh_is_loading === 0) {\n",
       "            console.log(\"Bokeh: all BokehJS libraries loaded\");\n",
       "            run_callbacks()\n",
       "          }\n",
       "        };\n",
       "        s.onerror = function() {\n",
       "          console.warn(\"failed to load library \" + url);\n",
       "        };\n",
       "        console.log(\"Bokeh: injecting script tag for BokehJS library: \", url);\n",
       "        document.getElementsByTagName(\"head\")[0].appendChild(s);\n",
       "      }\n",
       "    };var element = document.getElementById(\"85fec176-a2ce-44c6-be51-e3908a7e95de\");\n",
       "    if (element == null) {\n",
       "      console.log(\"Bokeh: ERROR: autoload.js configured with elementid '85fec176-a2ce-44c6-be51-e3908a7e95de' but no matching script tag was found. \")\n",
       "      return false;\n",
       "    }\n",
       "  \n",
       "    var js_urls = [];\n",
       "  \n",
       "    var inline_js = [\n",
       "      function(Bokeh) {\n",
       "        Bokeh.$(function() {\n",
       "            var docs_json = {\"83e09da3-ea52-4b60-81cb-9f84f9837589\":{\"roots\":{\"references\":[{\"attributes\":{\"overlay\":{\"id\":\"4f69071e-fbe6-437c-b109-0ff258fc3230\",\"type\":\"BoxAnnotation\"},\"plot\":{\"id\":\"7c5a9dac-9505-4ede-a87f-7d59cfc88a1f\",\"subtype\":\"Figure\",\"type\":\"Plot\"}},\"id\":\"384ce957-6dd3-471c-9eae-7cbdbf947ccb\",\"type\":\"BoxZoomTool\"},{\"attributes\":{\"data_source\":{\"id\":\"53366443-be07-4d8c-8302-6ea834757b78\",\"type\":\"ColumnDataSource\"},\"glyph\":{\"id\":\"f4910ee9-092d-48a2-9971-ef0492bebb9a\",\"type\":\"MultiLine\"},\"hover_glyph\":null,\"nonselection_glyph\":{\"id\":\"9aba0141-fc1e-4ce1-a6d4-aec567839534\",\"type\":\"MultiLine\"},\"selection_glyph\":null},\"id\":\"6853e8e8-3a5b-499d-b5dd-582d49f96f4f\",\"type\":\"GlyphRenderer\"},{\"attributes\":{},\"id\":\"d44cff85-27c3-4b8c-ab69-183326eb87e0\",\"type\":\"BasicTicker\"},{\"attributes\":{},\"id\":\"8f5d81e9-b705-49fe-953d-efdab9bdbe65\",\"type\":\"BasicTickFormatter\"},{\"attributes\":{\"bottom_units\":\"screen\",\"fill_alpha\":{\"value\":0.5},\"fill_color\":{\"value\":\"lightgrey\"},\"left_units\":\"screen\",\"level\":\"overlay\",\"line_alpha\":{\"value\":1.0},\"line_color\":{\"value\":\"black\"},\"line_dash\":[4,4],\"line_width\":{\"value\":2},\"plot\":null,\"render_mode\":\"css\",\"right_units\":\"screen\",\"top_units\":\"screen\"},\"id\":\"4f69071e-fbe6-437c-b109-0ff258fc3230\",\"type\":\"BoxAnnotation\"},{\"attributes\":{\"callback\":null,\"column_names\":[\"y\",\"x\",\"vals\"],\"data\":{\"vals\":[\"RAB3GAP1\",\"ZRANB3\",\"R3HDM1\",\"UBXN4\",\"LCT\",\"MCM6\",\"DARS\"],\"x\":[135869057.0,136122878.0,136385961.0,136520911.0,136570082.5,136615621.5,136703738.0],\"y\":[860.0,860.0,860.0,860.0,860.0,860.0,860.0]}},\"id\":\"5ed0f1a9-1a65-420a-b89b-195db58d253d\",\"type\":\"ColumnDataSource\"},{\"attributes\":{\"callback\":null,\"end\":136786630,\"start\":135757320},\"id\":\"94e3387b-9733-4a45-9709-b37aceee816e\",\"type\":\"Range1d\"},{\"attributes\":{},\"id\":\"00ddcf8d-de21-458f-ad49-0f06b6dd27a6\",\"type\":\"BasicTickFormatter\"},{\"attributes\":{\"callback\":null,\"end\":900},\"id\":\"6e6de449-e5d6-4564-be77-a8273fa0d9eb\",\"type\":\"Range1d\"},{\"attributes\":{\"bottom\":{\"field\":\"bottom\"},\"fill_color\":{\"field\":\"fill_color\"},\"left\":{\"field\":\"left\"},\"line_color\":{\"value\":null},\"right\":{\"field\":\"right\"},\"top\":{\"field\":\"top\"}},\"id\":\"6d75a742-bf18-4197-b689-e7e9b89eb5fb\",\"type\":\"Quad\"},{\"attributes\":{\"plot\":{\"id\":\"7c5a9dac-9505-4ede-a87f-7d59cfc88a1f\",\"subtype\":\"Figure\",\"type\":\"Plot\"}},\"id\":\"4ba54d5a-9131-4c40-b512-cef7eb47edf4\",\"type\":\"HelpTool\"},{\"attributes\":{},\"id\":\"600160a6-a813-4b45-86cf-31a4c88a7037\",\"type\":\"ToolEvents\"},{\"attributes\":{\"callback\":null,\"column_names\":[\"right\",\"bottom\",\"top\",\"left\",\"fill_color\"],\"data\":{\"bottom\":[750,450,150,250,350,250,50,650,350,450,650,550,750,450,550,750],\"fill_color\":[\"#808080\",\"#808080\",\"#c461c4\",\"#61c4c4\",\"#61c4c4\",\"#61c4c4\",\"#00ff00\",\"#c4c461\",\"#808080\",\"#808080\",\"#808080\",\"#808080\",\"#c46161\",\"#808080\",\"#808080\",\"#808080\"],\"left\":[135758231,135766890,135818487,135839805,135964764,135989333,136028572,136393658,136494985,136500475,136506375,136535876,136588031,136652491,136652953,136653925],\"right\":[136376515,136275985,136289565,135924467,136101132,136264631,136438465,136486342,136773638,136542560,136538939,136554890,136593678,136732772,136761175,136761853],\"top\":[796,493,180,290,391,288,63,694,390,493,694,594,796,492,594,795]}},\"id\":\"fd08fc6f-d735-4332-8949-3bc4cd2156c8\",\"type\":\"ColumnDataSource\"},{\"attributes\":{\"plot\":{\"id\":\"7c5a9dac-9505-4ede-a87f-7d59cfc88a1f\",\"subtype\":\"Figure\",\"type\":\"Plot\"}},\"id\":\"68d37ad8-9275-4065-ab8f-4cb854172f0b\",\"type\":\"SaveTool\"},{\"attributes\":{\"data_source\":{\"id\":\"f5661a74-522e-44cd-942d-3f4b7700a771\",\"type\":\"ColumnDataSource\"},\"glyph\":{\"id\":\"17e9f019-a8b9-47ab-8e25-3acc5288d795\",\"type\":\"Quad\"},\"hover_glyph\":null,\"nonselection_glyph\":{\"id\":\"a80ad923-eaad-4b3b-a3a3-451d4b07cf8e\",\"type\":\"Quad\"},\"selection_glyph\":null},\"id\":\"06a574af-b981-470f-9ebd-81e8213066ee\",\"type\":\"GlyphRenderer\"},{\"attributes\":{\"level\":\"glyph\",\"plot\":{\"id\":\"7c5a9dac-9505-4ede-a87f-7d59cfc88a1f\",\"subtype\":\"Figure\",\"type\":\"Plot\"},\"source\":{\"id\":\"7c71026e-e0e2-4e49-95c9-357e4881ca30\",\"type\":\"ColumnDataSource\"},\"text\":{\"field\":\"vals\"},\"text_font_size\":{\"value\":\"9pt\"},\"text_font_style\":\"bold\",\"x\":{\"field\":\"x\"},\"y\":{\"field\":\"y\"}},\"id\":\"4c524eb7-5a1f-49d0-861d-44602e478c73\",\"type\":\"LabelSet\"},{\"attributes\":{\"bottom\":{\"field\":\"bottom\"},\"fill_alpha\":{\"value\":0.1},\"fill_color\":{\"value\":\"#1f77b4\"},\"left\":{\"field\":\"left\"},\"line_alpha\":{\"value\":0.1},\"line_color\":{\"value\":\"#1f77b4\"},\"right\":{\"field\":\"right\"},\"top\":{\"field\":\"top\"}},\"id\":\"a80ad923-eaad-4b3b-a3a3-451d4b07cf8e\",\"type\":\"Quad\"},{\"attributes\":{\"active_drag\":\"auto\",\"active_scroll\":\"auto\",\"active_tap\":\"auto\",\"tools\":[{\"id\":\"6dc00e47-79fe-440e-8cf8-8eccfec8fb91\",\"type\":\"PanTool\"},{\"id\":\"ca6a7db6-6620-4369-90b9-4ac0ad2214b0\",\"type\":\"WheelZoomTool\"},{\"id\":\"384ce957-6dd3-471c-9eae-7cbdbf947ccb\",\"type\":\"BoxZoomTool\"},{\"id\":\"68d37ad8-9275-4065-ab8f-4cb854172f0b\",\"type\":\"SaveTool\"},{\"id\":\"cc868323-6b01-496b-94ea-99add47971ce\",\"type\":\"ResetTool\"},{\"id\":\"4ba54d5a-9131-4c40-b512-cef7eb47edf4\",\"type\":\"HelpTool\"}]},\"id\":\"1d2fd03c-c843-44e2-ac29-9afa1ba205ff\",\"type\":\"Toolbar\"},{\"attributes\":{\"callback\":null,\"column_names\":[\"xs\",\"ys\",\"line_color\"],\"data\":{\"line_color\":[\"black\",\"black\",\"black\",\"black\",\"black\",\"black\",\"black\",\"black\",\"black\",\"black\",\"black\",\"black\",\"black\",\"black\",\"black\",\"black\",\"black\",\"black\",\"black\",\"black\",\"black\",\"black\",\"black\",\"black\",\"black\",\"black\",\"black\",\"black\",\"black\",\"black\",\"black\",\"black\",\"black\",\"black\",\"black\",\"black\",\"black\",\"black\",\"black\",\"black\",\"black\",\"black\",\"black\",\"black\",\"black\",\"black\",\"black\",\"black\",\"black\",\"black\",\"black\",\"black\",\"black\",\"black\",\"black\",\"black\",\"black\",\"black\",\"black\",\"black\",\"black\",\"black\",\"black\",\"black\",\"black\",\"black\",\"black\",\"black\",\"black\",\"black\",\"black\",\"black\",\"black\",\"black\",\"black\",\"black\",\"black\",\"black\",\"black\",\"black\",\"black\",\"black\",\"black\",\"black\",\"black\",\"black\",\"black\",\"black\",\"black\",\"black\",\"black\",\"black\",\"black\",\"black\",\"black\",\"black\",\"black\",\"black\",\"black\",\"black\",\"black\",\"black\",\"black\",\"black\",\"black\",\"black\",\"black\",\"black\",\"black\",\"black\",\"black\",\"black\",\"black\",\"black\",\"black\",\"black\",\"black\",\"black\",\"black\",\"black\",\"black\",\"black\",\"black\",\"black\",\"black\",\"black\",\"black\",\"black\",\"black\",\"black\",\"black\",\"black\",\"black\",\"black\",\"black\",\"black\",\"black\",\"black\",\"black\",\"black\",\"black\",\"black\",\"black\",\"black\",\"black\",\"black\",\"black\",\"black\",\"black\",\"black\",\"black\",\"black\",\"black\",\"black\",\"black\",\"black\",\"black\",\"black\",\"black\",\"black\",\"black\",\"black\",\"black\",\"black\",\"black\",\"black\",\"black\",\"black\",\"black\",\"black\",\"black\",\"black\",\"black\",\"black\",\"black\",\"black\",\"black\",\"black\",\"black\",\"black\",\"black\",\"black\",\"black\",\"black\",\"black\",\"black\",\"black\",\"black\",\"black\",\"black\",\"black\",\"black\",\"black\",\"black\",\"black\",\"black\",\"black\",\"black\",\"black\",\"black\",\"black\",\"black\",\"black\",\"black\",\"black\",\"black\",\"black\",\"black\",\"black\",\"black\",\"black\",\"black\",\"black\",\"black\",\"black\",\"black\",\"black\",\"black\",\"black\",\"black\",\"black\",\"black\",\"black\",\"black\",\"black\",\"black\",\"black\",\"black\",\"black\",\"black\",\"black\",\"black\",\"black\",\"black\",\"black\",\"black\",\"black\",\"black\",\"black\",\"black\",\"black\",\"black\",\"black\",\"black\",\"black\",\"black\",\"black\",\"black\",\"black\",\"black\",\"black\",\"black\",\"black\",\"black\",\"black\",\"black\",\"black\",\"black\",\"black\",\"black\",\"black\",\"black\",\"black\",\"black\",\"black\",\"black\",\"black\",\"black\",\"black\",\"black\",\"black\",\"black\",\"black\",\"black\",\"black\",\"black\",\"black\",\"black\",\"black\",\"black\",\"black\",\"black\",\"black\",\"black\",\"black\",\"black\",\"black\",\"black\",\"black\",\"black\",\"black\",\"black\",\"black\",\"black\",\"black\",\"black\",\"black\",\"black\",\"black\",\"black\",\"black\",\"black\",\"black\",\"black\",\"black\",\"black\",\"black\",\"black\",\"black\",\"black\",\"black\",\"black\",\"black\",\"black\",\"black\",\"black\",\"black\",\"black\",\"black\",\"black\",\"black\",\"black\",\"black\",\"black\",\"black\",\"black\",\"black\",\"black\",\"black\",\"black\",\"black\",\"black\",\"black\",\"black\",\"black\",\"black\",\"black\",\"black\",\"black\",\"black\",\"black\",\"black\",\"black\",\"black\",\"black\",\"black\",\"black\",\"black\",\"black\",\"black\",\"black\",\"black\",\"black\",\"black\",\"black\",\"black\",\"black\",\"black\",\"black\",\"black\",\"black\",\"black\",\"black\",\"black\",\"black\",\"black\",\"black\",\"black\",\"black\",\"black\",\"black\",\"black\",\"black\",\"black\",\"black\",\"black\",\"black\",\"black\",\"black\",\"black\",\"black\",\"black\",\"black\",\"black\",\"black\",\"black\",\"black\",\"black\",\"black\",\"black\",\"black\"],\"xs\":[[135758231,135758231],[135758520,135758520],[135766072,135766072],[135773420,135773420],[135773446,135773446],[135773617,135773617],[135773692,135773692],[135774681,135774681],[135775049,135775049],[135776430,135776430],[135778656,135778656],[135780168,135780168],[135780587,135780587],[135781301,135781301],[135781522,135781522],[135781635,135781635],[135782456,135782456],[135783157,135783157],[135783366,135783366],[135783367,135783367],[135784227,135784227],[135784733,135784733],[135785066,135785066],[135785068,135785068],[135785149,135785149],[135787148,135787148],[135787642,135787642],[135789405,135789405],[135789472,135789472],[135789682,135789682],[135789784,135789784],[135792338,135792338],[135792528,135792528],[135793565,135793565],[135793684,135793684],[135793845,135793845],[135794367,135794367],[135794986,135794986],[135795040,135795040],[135795095,135795095],[135795150,135795150],[135795385,135795385],[135795396,135795396],[135795443,135795443],[135795595,135795595],[135796000,135796000],[135796155,135796155],[135796410,135796410],[135796965,135796965],[135797223,135797223],[135797747,135797747],[135798082,135798082],[135798758,135798758],[135799082,135799082],[135800085,135800085],[135800601,135800601],[135800757,135800757],[135801228,135801228],[135801956,135801956],[135802020,135802020],[135802028,135802028],[135802050,135802050],[135802148,135802148],[135803766,135803766],[135809241,135809241],[135812969,135812969],[135814716,135814716],[135818907,135818907],[135829432,135829432],[135832131,135832131],[135849613,135849613],[135853807,135853807],[135859923,135859923],[135860305,135860305],[135861497,135861497],[135863143,135863143],[135864294,135864294],[135871624,135871624],[135872646,135872646],[135874038,135874038],[135874622,135874622],[135878814,135878814],[135880013,135880013],[135884487,135884487],[135885357,135885357],[135893853,135893853],[135895809,135895809],[135895879,135895879],[135899069,135899069],[135909462,135909462],[135912977,135912977],[135914038,135914038],[135921839,135921839],[135925002,135925002],[135928312,135928312],[135935049,135935049],[135962711,135962711],[135984172,135984172],[135994753,135994753],[135994754,135994754],[136016079,136016079],[136027264,136027264],[136052004,136052004],[136100473,136100473],[136110129,136110129],[136166536,136166536],[136169799,136169799],[136191314,136191314],[136228887,136228887],[136238453,136238453],[136288273,136288273],[136292425,136292425],[136321951,136321951],[136324564,136324564],[136327299,136327299],[136327302,136327302],[136376515,136376515],[135766890,135766890],[135778708,135778708],[135779588,135779588],[135805941,135805941],[135805943,135805943],[135932720,135932720],[135933317,135933317],[135934842,135934842],[135952376,135952376],[135958853,135958853],[135962864,135962864],[135963304,135963304],[135965376,135965376],[135980201,135980201],[135981554,135981554],[135988127,135988127],[135988416,135988416],[135991470,135991470],[136000500,136000500],[136001215,136001215],[136001295,136001295],[136016514,136016514],[136017388,136017388],[136041102,136041102],[136041662,136041662],[136047387,136047387],[136052936,136052936],[136055275,136055275],[136063118,136063118],[136066802,136066802],[136068890,136068890],[136069577,136069577],[136081193,136081193],[136105193,136105193],[136107839,136107839],[136110835,136110835],[136138026,136138026],[136142092,136142092],[136146499,136146499],[136147607,136147607],[136148401,136148401],[136150512,136150512],[136154734,136154734],[136155805,136155805],[136163001,136163001],[136163266,136163266],[136163568,136163568],[136163821,136163821],[136165965,136165965],[136183312,136183312],[136185945,136185945],[136191729,136191729],[136204827,136204827],[136208747,136208747],[136217980,136217980],[136229438,136229438],[136232572,136232572],[136240942,136240942],[136251329,136251329],[136265187,136265187],[136265188,136265188],[136275985,136275985],[135818487,135818487],[136048649,136048649],[136107286,136107286],[136127914,136127914],[136130497,136130497],[136268096,136268096],[136281880,136281880],[136289565,136289565],[135839805,135839805],[135866750,135866750],[135886744,135886744],[135924467,135924467],[135964764,135964764],[135964765,135964765],[136099127,136099127],[136099650,136099650],[136100705,136100705],[136101132,136101132],[135989333,135989333],[136000304,136000304],[136030519,136030519],[136034836,136034836],[136125165,136125165],[136264631,136264631],[136028572,136028572],[136141525,136141525],[136174478,136174478],[136211744,136211744],[136240608,136240608],[136320031,136320031],[136320040,136320040],[136368926,136368926],[136438465,136438465],[136393658,136393658],[136396300,136396300],[136401843,136401843],[136407445,136407445],[136411879,136411879],[136412270,136412270],[136413244,136413244],[136413847,136413847],[136415217,136415217],[136416533,136416533],[136420726,136420726],[136429857,136429857],[136433740,136433740],[136436317,136436317],[136437615,136437615],[136438517,136438517],[136440300,136440300],[136443900,136443900],[136444185,136444185],[136444338,136444338],[136449254,136449254],[136451676,136451676],[136459227,136459227],[136463117,136463117],[136463454,136463454],[136467119,136467119],[136468238,136468238],[136470219,136470219],[136483355,136483355],[136485276,136485276],[136486340,136486340],[136486342,136486342],[136494985,136494985],[136497199,136497199],[136511817,136511817],[136513670,136513670],[136515458,136515458],[136516970,136516970],[136525309,136525309],[136528034,136528034],[136532225,136532225],[136535235,136535235],[136536095,136536095],[136544423,136544423],[136546927,136546927],[136552188,136552188],[136552517,136552517],[136555525,136555525],[136556480,136556480],[136560464,136560464],[136572285,136572285],[136582694,136582694],[136582809,136582809],[136584538,136584538],[136585323,136585323],[136586825,136586825],[136600662,136600662],[136612036,136612036],[136618178,136618178],[136618507,136618507],[136622543,136622543],[136624947,136624947],[136625113,136625113],[136626078,136626078],[136628121,136628121],[136632300,136632300],[136633962,136633962],[136635343,136635343],[136638113,136638113],[136640101,136640101],[136641593,136641593],[136646582,136646582],[136648077,136648077],[136648883,136648883],[136652045,136652045],[136653848,136653848],[136656094,136656094],[136661110,136661110],[136663110,136663110],[136663605,136663605],[136665162,136665162],[136665711,136665711],[136668123,136668123],[136670419,136670419],[136672680,136672680],[136673546,136673546],[136684632,136684632],[136686114,136686114],[136690425,136690425],[136690783,136690783],[136692893,136692893],[136694905,136694905],[136695694,136695694],[136695705,136695705],[136696608,136696608],[136697372,136697372],[136697468,136697468],[136700024,136700024],[136701539,136701539],[136702118,136702118],[136707480,136707480],[136710554,136710554],[136714178,136714178],[136719173,136719173],[136725459,136725459],[136734569,136734569],[136744678,136744678],[136748779,136748779],[136751488,136751488],[136754183,136754183],[136763242,136763242],[136765074,136765074],[136773638,136773638],[136500475,136500475],[136501509,136501509],[136504101,136504101],[136509868,136509868],[136520043,136520043],[136527120,136527120],[136530379,136530379],[136530443,136530443],[136539330,136539330],[136539670,136539670],[136540083,136540083],[136542559,136542559],[136542560,136542560],[136506375,136506375],[136506927,136506927],[136510012,136510012],[136538939,136538939],[136535876,136535876],[136544651,136544651],[136545844,136545844],[136552526,136552526],[136553022,136553022],[136554797,136554797],[136554890,136554890],[136588031,136588031],[136589278,136589278],[136589379,136589379],[136589741,136589741],[136590746,136590746],[136593553,136593553],[136593678,136593678],[136652491,136652491],[136652524,136652524],[136661150,136661150],[136669264,136669264],[136726567,136726567],[136732772,136732772],[136652953,136652953],[136655582,136655582],[136674028,136674028],[136684940,136684940],[136761175,136761175],[136653925,136653925],[136654833,136654833],[136656534,136656534],[136656536,136656536],[136657252,136657252],[136667301,136667301],[136667487,136667487],[136672775,136672775],[136680534,136680534],[136686393,136686393],[136688749,136688749],[136692553,136692553],[136697371,136697371],[136708787,136708787],[136710372,136710372],[136711064,136711064],[136715324,136715324],[136723504,136723504],[136737460,136737460],[136743143,136743143],[136746224,136746224],[136751842,136751842],[136759379,136759379],[136761853,136761853]],\"ys\":[[750,796],[750,796],[750,796],[750,796],[750,796],[750,796],[750,796],[750,796],[750,796],[750,796],[750,796],[750,796],[750,796],[750,796],[750,796],[750,796],[750,796],[750,796],[750,796],[750,796],[750,796],[750,796],[750,796],[750,796],[750,796],[750,796],[750,796],[750,796],[750,796],[750,796],[750,796],[750,796],[750,796],[750,796],[750,796],[750,796],[750,796],[750,796],[750,796],[750,796],[750,796],[750,796],[750,796],[750,796],[750,796],[750,796],[750,796],[750,796],[750,796],[750,796],[750,796],[750,796],[750,796],[750,796],[750,796],[750,796],[750,796],[750,796],[750,796],[750,796],[750,796],[750,796],[750,796],[750,796],[750,796],[750,796],[750,796],[750,796],[750,796],[750,796],[750,796],[750,796],[750,796],[750,796],[750,796],[750,796],[750,796],[750,796],[750,796],[750,796],[750,796],[750,796],[750,796],[750,796],[750,796],[750,796],[750,796],[750,796],[750,796],[750,796],[750,796],[750,796],[750,796],[750,796],[750,796],[750,796],[750,796],[750,796],[750,796],[750,796],[750,796],[750,796],[750,796],[750,796],[750,796],[750,796],[750,796],[750,796],[750,796],[750,796],[750,796],[750,796],[750,796],[750,796],[750,796],[750,796],[750,796],[450,493],[450,493],[450,493],[450,493],[450,493],[450,493],[450,493],[450,493],[450,493],[450,493],[450,493],[450,493],[450,493],[450,493],[450,493],[450,493],[450,493],[450,493],[450,493],[450,493],[450,493],[450,493],[450,493],[450,493],[450,493],[450,493],[450,493],[450,493],[450,493],[450,493],[450,493],[450,493],[450,493],[450,493],[450,493],[450,493],[450,493],[450,493],[450,493],[450,493],[450,493],[450,493],[450,493],[450,493],[450,493],[450,493],[450,493],[450,493],[450,493],[450,493],[450,493],[450,493],[450,493],[450,493],[450,493],[450,493],[450,493],[450,493],[450,493],[450,493],[450,493],[450,493],[150,180],[150,180],[150,180],[150,180],[150,180],[150,180],[150,180],[150,180],[250,290],[250,290],[250,290],[250,290],[350,391],[350,391],[350,391],[350,391],[350,391],[350,391],[250,288],[250,288],[250,288],[250,288],[250,288],[250,288],[50,63],[50,63],[50,63],[50,63],[50,63],[50,63],[50,63],[50,63],[50,63],[650,694],[650,694],[650,694],[650,694],[650,694],[650,694],[650,694],[650,694],[650,694],[650,694],[650,694],[650,694],[650,694],[650,694],[650,694],[650,694],[650,694],[650,694],[650,694],[650,694],[650,694],[650,694],[650,694],[650,694],[650,694],[650,694],[650,694],[650,694],[650,694],[650,694],[650,694],[650,694],[350,390],[350,390],[350,390],[350,390],[350,390],[350,390],[350,390],[350,390],[350,390],[350,390],[350,390],[350,390],[350,390],[350,390],[350,390],[350,390],[350,390],[350,390],[350,390],[350,390],[350,390],[350,390],[350,390],[350,390],[350,390],[350,390],[350,390],[350,390],[350,390],[350,390],[350,390],[350,390],[350,390],[350,390],[350,390],[350,390],[350,390],[350,390],[350,390],[350,390],[350,390],[350,390],[350,390],[350,390],[350,390],[350,390],[350,390],[350,390],[350,390],[350,390],[350,390],[350,390],[350,390],[350,390],[350,390],[350,390],[350,390],[350,390],[350,390],[350,390],[350,390],[350,390],[350,390],[350,390],[350,390],[350,390],[350,390],[350,390],[350,390],[350,390],[350,390],[350,390],[350,390],[350,390],[350,390],[350,390],[350,390],[350,390],[350,390],[350,390],[350,390],[450,493],[450,493],[450,493],[450,493],[450,493],[450,493],[450,493],[450,493],[450,493],[450,493],[450,493],[450,493],[450,493],[650,694],[650,694],[650,694],[650,694],[550,594],[550,594],[550,594],[550,594],[550,594],[550,594],[550,594],[750,796],[750,796],[750,796],[750,796],[750,796],[750,796],[750,796],[450,492],[450,492],[450,492],[450,492],[450,492],[450,492],[550,594],[550,594],[550,594],[550,594],[550,594],[750,795],[750,795],[750,795],[750,795],[750,795],[750,795],[750,795],[750,795],[750,795],[750,795],[750,795],[750,795],[750,795],[750,795],[750,795],[750,795],[750,795],[750,795],[750,795],[750,795],[750,795],[750,795],[750,795],[750,795]]}},\"id\":\"53366443-be07-4d8c-8302-6ea834757b78\",\"type\":\"ColumnDataSource\"},{\"attributes\":{\"bottom\":{\"field\":\"bottom\"},\"fill_alpha\":{\"value\":0.1},\"fill_color\":{\"value\":\"#1f77b4\"},\"left\":{\"field\":\"left\"},\"line_alpha\":{\"value\":0.1},\"line_color\":{\"value\":\"#1f77b4\"},\"right\":{\"field\":\"right\"},\"top\":{\"field\":\"top\"}},\"id\":\"5d949980-d419-488d-b89b-d71994270e02\",\"type\":\"Quad\"},{\"attributes\":{\"callback\":null,\"column_names\":[\"right\",\"bottom\",\"top\",\"left\"],\"data\":{\"bottom\":[845,845,845,845,845,845,845],\"left\":[135809835,135957574,136289083,136499189,136545415,136597196,136664254],\"right\":[135928279,136288182,136482839,136542633,136594750,136634047,136743222],\"top\":[875,875,875,875,875,875,875]}},\"id\":\"f5661a74-522e-44cd-942d-3f4b7700a771\",\"type\":\"ColumnDataSource\"},{\"attributes\":{\"plot\":null,\"text\":null},\"id\":\"5de8f1c9-56b8-4a7a-afa5-b30effdde742\",\"type\":\"Title\"},{\"attributes\":{\"data_source\":{\"id\":\"fd08fc6f-d735-4332-8949-3bc4cd2156c8\",\"type\":\"ColumnDataSource\"},\"glyph\":{\"id\":\"6d75a742-bf18-4197-b689-e7e9b89eb5fb\",\"type\":\"Quad\"},\"hover_glyph\":null,\"nonselection_glyph\":{\"id\":\"5d949980-d419-488d-b89b-d71994270e02\",\"type\":\"Quad\"},\"selection_glyph\":null},\"id\":\"9a34af36-e663-4985-bb94-b8be25b5a98e\",\"type\":\"GlyphRenderer\"},{\"attributes\":{\"formatter\":{\"id\":\"8f5d81e9-b705-49fe-953d-efdab9bdbe65\",\"type\":\"BasicTickFormatter\"},\"plot\":{\"id\":\"7c5a9dac-9505-4ede-a87f-7d59cfc88a1f\",\"subtype\":\"Figure\",\"type\":\"Plot\"},\"ticker\":{\"id\":\"d44cff85-27c3-4b8c-ab69-183326eb87e0\",\"type\":\"BasicTicker\"}},\"id\":\"bc1b279f-552d-4edf-a08a-d66f2d80daf0\",\"type\":\"LinearAxis\"},{\"attributes\":{\"plot\":{\"id\":\"7c5a9dac-9505-4ede-a87f-7d59cfc88a1f\",\"subtype\":\"Figure\",\"type\":\"Plot\"}},\"id\":\"cc868323-6b01-496b-94ea-99add47971ce\",\"type\":\"ResetTool\"},{\"attributes\":{\"dimension\":1,\"plot\":{\"id\":\"7c5a9dac-9505-4ede-a87f-7d59cfc88a1f\",\"subtype\":\"Figure\",\"type\":\"Plot\"},\"ticker\":{\"id\":\"dd2afe79-8b83-43cc-9de5-3714f2db8295\",\"type\":\"BasicTicker\"}},\"id\":\"559e20ea-9a2c-48f9-b189-16213aac91cb\",\"type\":\"Grid\"},{\"attributes\":{},\"id\":\"dd2afe79-8b83-43cc-9de5-3714f2db8295\",\"type\":\"BasicTicker\"},{\"attributes\":{\"callback\":null,\"column_names\":[\"y\",\"x\",\"vals\"],\"data\":{\"vals\":[\"117_1685\",\"62_1265\",\"8_267\",\"4_815\",\"6_946\",\"6_713\",\"9_39\",\"32_1361\",\"81_857\",\"13_1227\",\"4_1442\",\"7_1303\",\"7_1760\",\"6_1114\",\"5_1296\",\"24_1504\"],\"x\":[135758231,135766890,135818487,135839805,135964764,135989333,136028572,136393658,136494985,136500475,136506375,136535876,136588031,136652491,136652953,136653925],\"y\":[801.0,498.0,185.0,295.0,396.0,293.0,68.0,699.0,395.0,498.0,699.0,599.0,801.0,497.0,599.0,800.0]}},\"id\":\"7c71026e-e0e2-4e49-95c9-357e4881ca30\",\"type\":\"ColumnDataSource\"},{\"attributes\":{\"line_color\":{\"field\":\"line_color\"},\"xs\":{\"field\":\"xs\"},\"ys\":{\"field\":\"ys\"}},\"id\":\"f4910ee9-092d-48a2-9971-ef0492bebb9a\",\"type\":\"MultiLine\"},{\"attributes\":{\"bottom\":{\"field\":\"bottom\"},\"fill_color\":{\"value\":\"white\"},\"left\":{\"field\":\"left\"},\"right\":{\"field\":\"right\"},\"top\":{\"field\":\"top\"}},\"id\":\"17e9f019-a8b9-47ab-8e25-3acc5288d795\",\"type\":\"Quad\"},{\"attributes\":{\"level\":\"glyph\",\"plot\":{\"id\":\"7c5a9dac-9505-4ede-a87f-7d59cfc88a1f\",\"subtype\":\"Figure\",\"type\":\"Plot\"},\"source\":{\"id\":\"5ed0f1a9-1a65-420a-b89b-195db58d253d\",\"type\":\"ColumnDataSource\"},\"text\":{\"field\":\"vals\"},\"text_align\":\"center\",\"text_baseline\":\"middle\",\"text_font_size\":{\"value\":\"8pt\"},\"x\":{\"field\":\"x\"},\"y\":{\"field\":\"y\"}},\"id\":\"c40cb197-a1c4-4dca-8d1b-a4f82ac47de0\",\"type\":\"LabelSet\"},{\"attributes\":{\"line_alpha\":{\"value\":0.1},\"line_color\":{\"value\":\"#1f77b4\"},\"xs\":{\"field\":\"xs\"},\"ys\":{\"field\":\"ys\"}},\"id\":\"9aba0141-fc1e-4ce1-a6d4-aec567839534\",\"type\":\"MultiLine\"},{\"attributes\":{\"plot\":{\"id\":\"7c5a9dac-9505-4ede-a87f-7d59cfc88a1f\",\"subtype\":\"Figure\",\"type\":\"Plot\"}},\"id\":\"ca6a7db6-6620-4369-90b9-4ac0ad2214b0\",\"type\":\"WheelZoomTool\"},{\"attributes\":{\"below\":[{\"id\":\"bc1b279f-552d-4edf-a08a-d66f2d80daf0\",\"type\":\"LinearAxis\"}],\"left\":[{\"id\":\"76fe18a1-61f3-4593-a495-b34fcffa53f3\",\"type\":\"LinearAxis\"}],\"plot_height\":900,\"plot_width\":900,\"renderers\":[{\"id\":\"bc1b279f-552d-4edf-a08a-d66f2d80daf0\",\"type\":\"LinearAxis\"},{\"id\":\"dfa27af5-4bae-45c0-a82d-f7f19cf37129\",\"type\":\"Grid\"},{\"id\":\"76fe18a1-61f3-4593-a495-b34fcffa53f3\",\"type\":\"LinearAxis\"},{\"id\":\"559e20ea-9a2c-48f9-b189-16213aac91cb\",\"type\":\"Grid\"},{\"id\":\"4f69071e-fbe6-437c-b109-0ff258fc3230\",\"type\":\"BoxAnnotation\"},{\"id\":\"9a34af36-e663-4985-bb94-b8be25b5a98e\",\"type\":\"GlyphRenderer\"},{\"id\":\"6853e8e8-3a5b-499d-b5dd-582d49f96f4f\",\"type\":\"GlyphRenderer\"},{\"id\":\"4c524eb7-5a1f-49d0-861d-44602e478c73\",\"type\":\"LabelSet\"},{\"id\":\"06a574af-b981-470f-9ebd-81e8213066ee\",\"type\":\"GlyphRenderer\"},{\"id\":\"c40cb197-a1c4-4dca-8d1b-a4f82ac47de0\",\"type\":\"LabelSet\"}],\"title\":{\"id\":\"5de8f1c9-56b8-4a7a-afa5-b30effdde742\",\"type\":\"Title\"},\"tool_events\":{\"id\":\"600160a6-a813-4b45-86cf-31a4c88a7037\",\"type\":\"ToolEvents\"},\"toolbar\":{\"id\":\"1d2fd03c-c843-44e2-ac29-9afa1ba205ff\",\"type\":\"Toolbar\"},\"toolbar_location\":null,\"x_range\":{\"id\":\"94e3387b-9733-4a45-9709-b37aceee816e\",\"type\":\"Range1d\"},\"y_range\":{\"id\":\"6e6de449-e5d6-4564-be77-a8273fa0d9eb\",\"type\":\"Range1d\"}},\"id\":\"7c5a9dac-9505-4ede-a87f-7d59cfc88a1f\",\"subtype\":\"Figure\",\"type\":\"Plot\"},{\"attributes\":{\"plot\":{\"id\":\"7c5a9dac-9505-4ede-a87f-7d59cfc88a1f\",\"subtype\":\"Figure\",\"type\":\"Plot\"},\"ticker\":{\"id\":\"d44cff85-27c3-4b8c-ab69-183326eb87e0\",\"type\":\"BasicTicker\"}},\"id\":\"dfa27af5-4bae-45c0-a82d-f7f19cf37129\",\"type\":\"Grid\"},{\"attributes\":{\"plot\":{\"id\":\"7c5a9dac-9505-4ede-a87f-7d59cfc88a1f\",\"subtype\":\"Figure\",\"type\":\"Plot\"}},\"id\":\"6dc00e47-79fe-440e-8cf8-8eccfec8fb91\",\"type\":\"PanTool\"},{\"attributes\":{\"formatter\":{\"id\":\"00ddcf8d-de21-458f-ad49-0f06b6dd27a6\",\"type\":\"BasicTickFormatter\"},\"plot\":{\"id\":\"7c5a9dac-9505-4ede-a87f-7d59cfc88a1f\",\"subtype\":\"Figure\",\"type\":\"Plot\"},\"ticker\":{\"id\":\"dd2afe79-8b83-43cc-9de5-3714f2db8295\",\"type\":\"BasicTicker\"},\"visible\":null},\"id\":\"76fe18a1-61f3-4593-a495-b34fcffa53f3\",\"type\":\"LinearAxis\"}],\"root_ids\":[\"7c5a9dac-9505-4ede-a87f-7d59cfc88a1f\"]},\"title\":\"Bokeh Application\",\"version\":\"0.12.0\"}};\n",
       "            var render_items = [{\"docid\":\"83e09da3-ea52-4b60-81cb-9f84f9837589\",\"elementid\":\"85fec176-a2ce-44c6-be51-e3908a7e95de\",\"modelid\":\"7c5a9dac-9505-4ede-a87f-7d59cfc88a1f\",\"notebook_comms_target\":\"2158a7ed-64ac-4327-9af4-49947207e526\"}];\n",
       "            \n",
       "            Bokeh.embed.embed_items(docs_json, render_items);\n",
       "        });\n",
       "      },\n",
       "      function(Bokeh) {\n",
       "      }\n",
       "    ];\n",
       "  \n",
       "    function run_inline_js() {\n",
       "      for (var i = 0; i < inline_js.length; i++) {\n",
       "        inline_js[i](window.Bokeh);\n",
       "      }\n",
       "    }\n",
       "  \n",
       "    if (window._bokeh_is_loading === 0) {\n",
       "      console.log(\"Bokeh: BokehJS loaded, going straight to plotting\");\n",
       "      run_inline_js();\n",
       "    } else {\n",
       "      load_libs(js_urls, function() {\n",
       "        console.log(\"Bokeh: BokehJS plotting callback run at\", now());\n",
       "        run_inline_js();\n",
       "      });\n",
       "    }\n",
       "  }(this));\n",
       "</script>"
      ]
     },
     "metadata": {},
     "output_type": "display_data"
    },
    {
     "data": {
      "text/html": [
       "<p><code>&lt;Bokeh Notebook handle for <strong>In[19]</strong>&gt;</code></p>"
      ],
      "text/plain": [
       "<bokeh.io._CommsHandle at 0x7fa61a8f9110>"
      ]
     },
     "execution_count": 19,
     "metadata": {},
     "output_type": "execute_result"
    }
   ],
   "source": [
    "plt_obj = dm.superset_allele_mask(am_4, [dm.di_9_39], min_match=0.5)\n",
    "plt = plt_obj.do_plot()\n",
    "am = plt_obj.plot_context.yes_allele_mask\n",
    "show(plt)"
   ]
  },
  {
   "cell_type": "code",
   "execution_count": 20,
   "metadata": {
    "collapsed": false
   },
   "outputs": [
    {
     "data": {
      "text/html": [
       "<table>\n",
       "<thead><tr><th style=\"text-align:center\">index</th><th style=\"text-align:center\">first</th><th style=\"text-align:center\">length</th><th style=\"text-align:center\">snps</th><th style=\"text-align:center\" colspan=2>alleles</th><th style=\"text-align:center\" colspan=2>matches</th><th style=\"text-align:center\" colspan=2>afr</th><th style=\"text-align:center\" colspan=2>afx</th><th style=\"text-align:center\" colspan=2>amr</th><th style=\"text-align:center\" colspan=2>eas</th><th style=\"text-align:center\" colspan=2>eur</th><th style=\"text-align:center\" colspan=2>sas</th><th style=\"text-align:center\" colspan=2>sax</th></tr></thead>\n",
       "<tr class=\"even\"><td style=\"text-align: right;\">354033</td><td style=\"text-align: right;\">136,588,031</td><td style=\"text-align: right;\">5,647</td><td style=\"text-align: right;\">7</td><td style=\"text-align: right;\">1760</td><td style=\"text-align: right;\">0.02</td><td style=\"text-align: right;\">32</td><td style=\"text-align: right;\">0.82</td><td style=\"text-align: right;\">1</td><td style=\"text-align: right;\">0.16</td><td style=\"text-align: right;\">0</td><td style=\"text-align: right;\">0.00</td><td style=\"text-align: right;\">9</td><td style=\"text-align: right;\">2.03</td><td style=\"text-align: right;\">0</td><td style=\"text-align: right;\">0.00</td><td style=\"text-align: right;\">19</td><td style=\"text-align: right;\">2.96</td><td style=\"text-align: right;\">0</td><td style=\"text-align: right;\">0.00</td><td style=\"text-align: right;\">3</td><td style=\"text-align: right;\">0.76</td></tr>\n",
       "<tr><td style=\"text-align: right;\">353244</td><td style=\"text-align: right;\">135,758,231</td><td style=\"text-align: right;\">618,284</td><td style=\"text-align: right;\">117</td><td style=\"text-align: right;\">1685</td><td style=\"text-align: right;\">0.02</td><td style=\"text-align: right;\">39</td><td style=\"text-align: right;\">1.00</td><td style=\"text-align: right;\">1</td><td style=\"text-align: right;\">0.13</td><td style=\"text-align: right;\">0</td><td style=\"text-align: right;\">0.00</td><td style=\"text-align: right;\">13</td><td style=\"text-align: right;\">2.41</td><td style=\"text-align: right;\">0</td><td style=\"text-align: right;\">0.00</td><td style=\"text-align: right;\">22</td><td style=\"text-align: right;\">2.81</td><td style=\"text-align: right;\">0</td><td style=\"text-align: right;\">0.00</td><td style=\"text-align: right;\">3</td><td style=\"text-align: right;\">0.63</td></tr>\n",
       "<tr class=\"even\"><td style=\"text-align: right;\">354130</td><td style=\"text-align: right;\">136,653,925</td><td style=\"text-align: right;\">107,928</td><td style=\"text-align: right;\">24</td><td style=\"text-align: right;\">1504</td><td style=\"text-align: right;\">0.02</td><td style=\"text-align: right;\">29</td><td style=\"text-align: right;\">0.74</td><td style=\"text-align: right;\">1</td><td style=\"text-align: right;\">0.17</td><td style=\"text-align: right;\">0</td><td style=\"text-align: right;\">0.00</td><td style=\"text-align: right;\">9</td><td style=\"text-align: right;\">2.24</td><td style=\"text-align: right;\">0</td><td style=\"text-align: right;\">0.00</td><td style=\"text-align: right;\">16</td><td style=\"text-align: right;\">2.75</td><td style=\"text-align: right;\">0</td><td style=\"text-align: right;\">0.00</td><td style=\"text-align: right;\">3</td><td style=\"text-align: right;\">0.84</td></tr>\n",
       "<tr><td style=\"text-align: right;\">353925</td><td style=\"text-align: right;\">136,506,375</td><td style=\"text-align: right;\">32,564</td><td style=\"text-align: right;\">4</td><td style=\"text-align: right;\">1442</td><td style=\"text-align: right;\">0.02</td><td style=\"text-align: right;\">32</td><td style=\"text-align: right;\">0.82</td><td style=\"text-align: right;\">1</td><td style=\"text-align: right;\">0.16</td><td style=\"text-align: right;\">0</td><td style=\"text-align: right;\">0.00</td><td style=\"text-align: right;\">9</td><td style=\"text-align: right;\">2.03</td><td style=\"text-align: right;\">0</td><td style=\"text-align: right;\">0.00</td><td style=\"text-align: right;\">19</td><td style=\"text-align: right;\">2.96</td><td style=\"text-align: right;\">0</td><td style=\"text-align: right;\">0.00</td><td style=\"text-align: right;\">3</td><td style=\"text-align: right;\">0.76</td></tr>\n",
       "<tr class=\"even\"><td style=\"text-align: right;\">353791</td><td style=\"text-align: right;\">136,393,658</td><td style=\"text-align: right;\">92,684</td><td style=\"text-align: right;\">32</td><td style=\"text-align: right;\">1361</td><td style=\"text-align: right;\">0.03</td><td style=\"text-align: right;\">39</td><td style=\"text-align: right;\">1.00</td><td style=\"text-align: right;\">1</td><td style=\"text-align: right;\">0.13</td><td style=\"text-align: right;\">0</td><td style=\"text-align: right;\">0.00</td><td style=\"text-align: right;\">13</td><td style=\"text-align: right;\">2.41</td><td style=\"text-align: right;\">0</td><td style=\"text-align: right;\">0.00</td><td style=\"text-align: right;\">22</td><td style=\"text-align: right;\">2.81</td><td style=\"text-align: right;\">0</td><td style=\"text-align: right;\">0.00</td><td style=\"text-align: right;\">3</td><td style=\"text-align: right;\">0.63</td></tr>\n",
       "<tr><td style=\"text-align: right;\">353958</td><td style=\"text-align: right;\">136,535,876</td><td style=\"text-align: right;\">19,014</td><td style=\"text-align: right;\">7</td><td style=\"text-align: right;\">1303</td><td style=\"text-align: right;\">0.02</td><td style=\"text-align: right;\">32</td><td style=\"text-align: right;\">0.82</td><td style=\"text-align: right;\">1</td><td style=\"text-align: right;\">0.16</td><td style=\"text-align: right;\">0</td><td style=\"text-align: right;\">0.00</td><td style=\"text-align: right;\">9</td><td style=\"text-align: right;\">2.03</td><td style=\"text-align: right;\">0</td><td style=\"text-align: right;\">0.00</td><td style=\"text-align: right;\">19</td><td style=\"text-align: right;\">2.96</td><td style=\"text-align: right;\">0</td><td style=\"text-align: right;\">0.00</td><td style=\"text-align: right;\">3</td><td style=\"text-align: right;\">0.76</td></tr>\n",
       "<tr class=\"even\"><td style=\"text-align: right;\">354129</td><td style=\"text-align: right;\">136,652,953</td><td style=\"text-align: right;\">108,222</td><td style=\"text-align: right;\">5</td><td style=\"text-align: right;\">1296</td><td style=\"text-align: right;\">0.02</td><td style=\"text-align: right;\">29</td><td style=\"text-align: right;\">0.74</td><td style=\"text-align: right;\">1</td><td style=\"text-align: right;\">0.17</td><td style=\"text-align: right;\">0</td><td style=\"text-align: right;\">0.00</td><td style=\"text-align: right;\">9</td><td style=\"text-align: right;\">2.24</td><td style=\"text-align: right;\">0</td><td style=\"text-align: right;\">0.00</td><td style=\"text-align: right;\">16</td><td style=\"text-align: right;\">2.75</td><td style=\"text-align: right;\">0</td><td style=\"text-align: right;\">0.00</td><td style=\"text-align: right;\">3</td><td style=\"text-align: right;\">0.84</td></tr>\n",
       "<tr><td style=\"text-align: right;\">353269</td><td style=\"text-align: right;\">135,766,890</td><td style=\"text-align: right;\">509,095</td><td style=\"text-align: right;\">62</td><td style=\"text-align: right;\">1265</td><td style=\"text-align: right;\">0.03</td><td style=\"text-align: right;\">39</td><td style=\"text-align: right;\">1.00</td><td style=\"text-align: right;\">1</td><td style=\"text-align: right;\">0.13</td><td style=\"text-align: right;\">0</td><td style=\"text-align: right;\">0.00</td><td style=\"text-align: right;\">13</td><td style=\"text-align: right;\">2.41</td><td style=\"text-align: right;\">0</td><td style=\"text-align: right;\">0.00</td><td style=\"text-align: right;\">22</td><td style=\"text-align: right;\">2.81</td><td style=\"text-align: right;\">0</td><td style=\"text-align: right;\">0.00</td><td style=\"text-align: right;\">3</td><td style=\"text-align: right;\">0.63</td></tr>\n",
       "<tr class=\"even\"><td style=\"text-align: right;\">353919</td><td style=\"text-align: right;\">136,500,475</td><td style=\"text-align: right;\">42,085</td><td style=\"text-align: right;\">13</td><td style=\"text-align: right;\">1227</td><td style=\"text-align: right;\">0.03</td><td style=\"text-align: right;\">32</td><td style=\"text-align: right;\">0.82</td><td style=\"text-align: right;\">1</td><td style=\"text-align: right;\">0.16</td><td style=\"text-align: right;\">0</td><td style=\"text-align: right;\">0.00</td><td style=\"text-align: right;\">9</td><td style=\"text-align: right;\">2.03</td><td style=\"text-align: right;\">0</td><td style=\"text-align: right;\">0.00</td><td style=\"text-align: right;\">19</td><td style=\"text-align: right;\">2.96</td><td style=\"text-align: right;\">0</td><td style=\"text-align: right;\">0.00</td><td style=\"text-align: right;\">3</td><td style=\"text-align: right;\">0.76</td></tr>\n",
       "<tr><td style=\"text-align: right;\">354127</td><td style=\"text-align: right;\">136,652,491</td><td style=\"text-align: right;\">80,281</td><td style=\"text-align: right;\">6</td><td style=\"text-align: right;\">1114</td><td style=\"text-align: right;\">0.03</td><td style=\"text-align: right;\">29</td><td style=\"text-align: right;\">0.74</td><td style=\"text-align: right;\">1</td><td style=\"text-align: right;\">0.17</td><td style=\"text-align: right;\">0</td><td style=\"text-align: right;\">0.00</td><td style=\"text-align: right;\">9</td><td style=\"text-align: right;\">2.24</td><td style=\"text-align: right;\">0</td><td style=\"text-align: right;\">0.00</td><td style=\"text-align: right;\">16</td><td style=\"text-align: right;\">2.75</td><td style=\"text-align: right;\">0</td><td style=\"text-align: right;\">0.00</td><td style=\"text-align: right;\">3</td><td style=\"text-align: right;\">0.84</td></tr>\n",
       "<tr class=\"even\"><td style=\"text-align: right;\">353504</td><td style=\"text-align: right;\">135,964,764</td><td style=\"text-align: right;\">136,368</td><td style=\"text-align: right;\">6</td><td style=\"text-align: right;\">946</td><td style=\"text-align: right;\">0.04</td><td style=\"text-align: right;\">39</td><td style=\"text-align: right;\">1.00</td><td style=\"text-align: right;\">1</td><td style=\"text-align: right;\">0.13</td><td style=\"text-align: right;\">0</td><td style=\"text-align: right;\">0.00</td><td style=\"text-align: right;\">13</td><td style=\"text-align: right;\">2.41</td><td style=\"text-align: right;\">0</td><td style=\"text-align: right;\">0.00</td><td style=\"text-align: right;\">22</td><td style=\"text-align: right;\">2.81</td><td style=\"text-align: right;\">0</td><td style=\"text-align: right;\">0.00</td><td style=\"text-align: right;\">3</td><td style=\"text-align: right;\">0.63</td></tr>\n",
       "<tr><td style=\"text-align: right;\">353902</td><td style=\"text-align: right;\">136,494,985</td><td style=\"text-align: right;\">278,653</td><td style=\"text-align: right;\">81</td><td style=\"text-align: right;\">857</td><td style=\"text-align: right;\">0.03</td><td style=\"text-align: right;\">29</td><td style=\"text-align: right;\">0.74</td><td style=\"text-align: right;\">1</td><td style=\"text-align: right;\">0.17</td><td style=\"text-align: right;\">0</td><td style=\"text-align: right;\">0.00</td><td style=\"text-align: right;\">9</td><td style=\"text-align: right;\">2.24</td><td style=\"text-align: right;\">0</td><td style=\"text-align: right;\">0.00</td><td style=\"text-align: right;\">16</td><td style=\"text-align: right;\">2.75</td><td style=\"text-align: right;\">0</td><td style=\"text-align: right;\">0.00</td><td style=\"text-align: right;\">3</td><td style=\"text-align: right;\">0.84</td></tr>\n",
       "<tr class=\"even\"><td style=\"text-align: right;\">353384</td><td style=\"text-align: right;\">135,839,805</td><td style=\"text-align: right;\">84,662</td><td style=\"text-align: right;\">4</td><td style=\"text-align: right;\">815</td><td style=\"text-align: right;\">0.05</td><td style=\"text-align: right;\">39</td><td style=\"text-align: right;\">1.00</td><td style=\"text-align: right;\">1</td><td style=\"text-align: right;\">0.13</td><td style=\"text-align: right;\">0</td><td style=\"text-align: right;\">0.00</td><td style=\"text-align: right;\">13</td><td style=\"text-align: right;\">2.41</td><td style=\"text-align: right;\">0</td><td style=\"text-align: right;\">0.00</td><td style=\"text-align: right;\">22</td><td style=\"text-align: right;\">2.81</td><td style=\"text-align: right;\">0</td><td style=\"text-align: right;\">0.00</td><td style=\"text-align: right;\">3</td><td style=\"text-align: right;\">0.63</td></tr>\n",
       "<tr><td style=\"text-align: right;\">353521</td><td style=\"text-align: right;\">135,989,333</td><td style=\"text-align: right;\">275,298</td><td style=\"text-align: right;\">6</td><td style=\"text-align: right;\">713</td><td style=\"text-align: right;\">0.05</td><td style=\"text-align: right;\">39</td><td style=\"text-align: right;\">1.00</td><td style=\"text-align: right;\">1</td><td style=\"text-align: right;\">0.13</td><td style=\"text-align: right;\">0</td><td style=\"text-align: right;\">0.00</td><td style=\"text-align: right;\">13</td><td style=\"text-align: right;\">2.41</td><td style=\"text-align: right;\">0</td><td style=\"text-align: right;\">0.00</td><td style=\"text-align: right;\">22</td><td style=\"text-align: right;\">2.81</td><td style=\"text-align: right;\">0</td><td style=\"text-align: right;\">0.00</td><td style=\"text-align: right;\">3</td><td style=\"text-align: right;\">0.63</td></tr>\n",
       "<tr class=\"even\"><td style=\"text-align: right;\">353358</td><td style=\"text-align: right;\">135,818,487</td><td style=\"text-align: right;\">471,078</td><td style=\"text-align: right;\">8</td><td style=\"text-align: right;\">267</td><td style=\"text-align: right;\">0.15</td><td style=\"text-align: right;\">39</td><td style=\"text-align: right;\">1.00</td><td style=\"text-align: right;\">1</td><td style=\"text-align: right;\">0.13</td><td style=\"text-align: right;\">0</td><td style=\"text-align: right;\">0.00</td><td style=\"text-align: right;\">13</td><td style=\"text-align: right;\">2.41</td><td style=\"text-align: right;\">0</td><td style=\"text-align: right;\">0.00</td><td style=\"text-align: right;\">22</td><td style=\"text-align: right;\">2.81</td><td style=\"text-align: right;\">0</td><td style=\"text-align: right;\">0.00</td><td style=\"text-align: right;\">3</td><td style=\"text-align: right;\">0.63</td></tr>\n",
       "<tr><td style=\"text-align: right;\">353559</td><td style=\"text-align: right;\">136,028,572</td><td style=\"text-align: right;\">409,893</td><td style=\"text-align: right;\">9</td><td style=\"text-align: right;\">39</td><td style=\"text-align: right;\">1.00</td><td style=\"text-align: right;\">39</td><td style=\"text-align: right;\">1.00</td><td style=\"text-align: right;\">1</td><td style=\"text-align: right;\">0.13</td><td style=\"text-align: right;\">0</td><td style=\"text-align: right;\">0.00</td><td style=\"text-align: right;\">13</td><td style=\"text-align: right;\">2.41</td><td style=\"text-align: right;\">0</td><td style=\"text-align: right;\">0.00</td><td style=\"text-align: right;\">22</td><td style=\"text-align: right;\">2.81</td><td style=\"text-align: right;\">0</td><td style=\"text-align: right;\">0.00</td><td style=\"text-align: right;\">3</td><td style=\"text-align: right;\">0.63</td></tr>\n",
       "</table>"
      ],
      "text/plain": [
       "<IPython.core.display.HTML object>"
      ]
     },
     "execution_count": 20,
     "metadata": {},
     "output_type": "execute_result"
    }
   ],
   "source": [
    "HTML(plt_obj.get_html())"
   ]
  },
  {
   "cell_type": "code",
   "execution_count": 21,
   "metadata": {
    "collapsed": false
   },
   "outputs": [
    {
     "data": {
      "text/plain": [
       "array([ 0,  0,  0,  0,  0, 39, 39, 39, 39])"
      ]
     },
     "execution_count": 21,
     "metadata": {},
     "output_type": "execute_result"
    }
   ],
   "source": [
    "sa_9_944.alleles_per_snp(am)"
   ]
  },
  {
   "cell_type": "code",
   "execution_count": 22,
   "metadata": {
    "collapsed": false
   },
   "outputs": [
    {
     "data": {
      "text/plain": [
       "array([ 97,  95,  97, 102, 100, 103,   9,   9,   6])"
      ]
     },
     "execution_count": 22,
     "metadata": {},
     "output_type": "execute_result"
    }
   ],
   "source": [
    "aps_6, am_6 = sa_9_944.snps_from_aps_value(6)\n",
    "aps_6"
   ]
  },
  {
   "cell_type": "code",
   "execution_count": 23,
   "metadata": {
    "collapsed": false
   },
   "outputs": [
    {
     "data": {
      "text/html": [
       "\n",
       "\n",
       "    <div class=\"bk-root\">\n",
       "        <div class=\"plotdiv\" id=\"83172e01-3e40-44d2-b073-9394570cc51b\"></div>\n",
       "    </div>\n",
       "<script type=\"text/javascript\">\n",
       "  \n",
       "  (function(global) {\n",
       "    function now() {\n",
       "      return new Date();\n",
       "    }\n",
       "  \n",
       "    if (typeof (window._bokeh_onload_callbacks) === \"undefined\") {\n",
       "      window._bokeh_onload_callbacks = [];\n",
       "    }\n",
       "  \n",
       "    function run_callbacks() {\n",
       "      window._bokeh_onload_callbacks.forEach(function(callback) { callback() });\n",
       "      delete window._bokeh_onload_callbacks\n",
       "      console.info(\"Bokeh: all callbacks have finished\");\n",
       "    }\n",
       "  \n",
       "    function load_libs(js_urls, callback) {\n",
       "      window._bokeh_onload_callbacks.push(callback);\n",
       "      if (window._bokeh_is_loading > 0) {\n",
       "        console.log(\"Bokeh: BokehJS is being loaded, scheduling callback at\", now());\n",
       "        return null;\n",
       "      }\n",
       "      if (js_urls == null || js_urls.length === 0) {\n",
       "        run_callbacks();\n",
       "        return null;\n",
       "      }\n",
       "      console.log(\"Bokeh: BokehJS not loaded, scheduling load and callback at\", now());\n",
       "      window._bokeh_is_loading = js_urls.length;\n",
       "      for (var i = 0; i < js_urls.length; i++) {\n",
       "        var url = js_urls[i];\n",
       "        var s = document.createElement('script');\n",
       "        s.src = url;\n",
       "        s.async = false;\n",
       "        s.onreadystatechange = s.onload = function() {\n",
       "          window._bokeh_is_loading--;\n",
       "          if (window._bokeh_is_loading === 0) {\n",
       "            console.log(\"Bokeh: all BokehJS libraries loaded\");\n",
       "            run_callbacks()\n",
       "          }\n",
       "        };\n",
       "        s.onerror = function() {\n",
       "          console.warn(\"failed to load library \" + url);\n",
       "        };\n",
       "        console.log(\"Bokeh: injecting script tag for BokehJS library: \", url);\n",
       "        document.getElementsByTagName(\"head\")[0].appendChild(s);\n",
       "      }\n",
       "    };var element = document.getElementById(\"83172e01-3e40-44d2-b073-9394570cc51b\");\n",
       "    if (element == null) {\n",
       "      console.log(\"Bokeh: ERROR: autoload.js configured with elementid '83172e01-3e40-44d2-b073-9394570cc51b' but no matching script tag was found. \")\n",
       "      return false;\n",
       "    }\n",
       "  \n",
       "    var js_urls = [];\n",
       "  \n",
       "    var inline_js = [\n",
       "      function(Bokeh) {\n",
       "        Bokeh.$(function() {\n",
       "            var docs_json = {\"9a93c911-b949-4cd9-af6b-38c224d45c92\":{\"roots\":{\"references\":[{\"attributes\":{\"callback\":null,\"column_names\":[\"right\",\"bottom\",\"top\",\"left\"],\"data\":{\"bottom\":[645,645,645,645,645,645,645],\"left\":[135809835,135957574,136289083,136499189,136545415,136597196,136664254],\"right\":[135928279,136288182,136482839,136542633,136594750,136634047,136743222],\"top\":[675,675,675,675,675,675,675]}},\"id\":\"fccf1d09-ac5c-4c09-8b50-8d9bc5e743c0\",\"type\":\"ColumnDataSource\"},{\"attributes\":{\"plot\":{\"id\":\"bbed07b9-2738-4cef-9831-d18fda51ebe0\",\"subtype\":\"Figure\",\"type\":\"Plot\"}},\"id\":\"8504985e-8c16-4ae0-b0f7-335f9390be27\",\"type\":\"PanTool\"},{\"attributes\":{\"plot\":{\"id\":\"bbed07b9-2738-4cef-9831-d18fda51ebe0\",\"subtype\":\"Figure\",\"type\":\"Plot\"}},\"id\":\"86dd5e03-bce9-478f-885d-e4db4aa1eae1\",\"type\":\"ResetTool\"},{\"attributes\":{\"below\":[{\"id\":\"dafd94ea-3014-4120-a357-81597f13eda9\",\"type\":\"LinearAxis\"}],\"left\":[{\"id\":\"77cdaa8c-1a7d-4444-a0d3-53ebf6f750bf\",\"type\":\"LinearAxis\"}],\"plot_height\":700,\"plot_width\":900,\"renderers\":[{\"id\":\"dafd94ea-3014-4120-a357-81597f13eda9\",\"type\":\"LinearAxis\"},{\"id\":\"2ccce5a7-ae90-4077-a7a8-fa0a4d4298d8\",\"type\":\"Grid\"},{\"id\":\"77cdaa8c-1a7d-4444-a0d3-53ebf6f750bf\",\"type\":\"LinearAxis\"},{\"id\":\"2be8be0b-542f-45db-a434-894467890ed1\",\"type\":\"Grid\"},{\"id\":\"d5438d04-5f34-41a2-8c33-f17eb0513c1a\",\"type\":\"BoxAnnotation\"},{\"id\":\"d25e6cbe-13d1-4b14-8928-9686845930cd\",\"type\":\"GlyphRenderer\"},{\"id\":\"f4001db1-7fdc-4ec6-a1db-02138b29cfca\",\"type\":\"GlyphRenderer\"},{\"id\":\"937b64c8-1a9e-43f8-bccd-2c6a17c96f2c\",\"type\":\"LabelSet\"},{\"id\":\"d04b9016-b865-486b-bcf2-10114b5bf470\",\"type\":\"GlyphRenderer\"},{\"id\":\"75a5ffaf-54f0-4d7f-8a38-691f28321408\",\"type\":\"LabelSet\"}],\"title\":{\"id\":\"190ac85a-b541-4f50-8c4b-7232238cb1b4\",\"type\":\"Title\"},\"tool_events\":{\"id\":\"03e30e10-a11d-4529-adee-93decfa00d55\",\"type\":\"ToolEvents\"},\"toolbar\":{\"id\":\"588258e7-343f-4bc5-8d2a-b88a6289b4e5\",\"type\":\"Toolbar\"},\"toolbar_location\":null,\"x_range\":{\"id\":\"43cb229e-f7c8-4629-8cfd-f459b08e4a91\",\"type\":\"Range1d\"},\"y_range\":{\"id\":\"5ff2c294-60e1-4560-98aa-d99120c1a356\",\"type\":\"Range1d\"}},\"id\":\"bbed07b9-2738-4cef-9831-d18fda51ebe0\",\"subtype\":\"Figure\",\"type\":\"Plot\"},{\"attributes\":{},\"id\":\"03e30e10-a11d-4529-adee-93decfa00d55\",\"type\":\"ToolEvents\"},{\"attributes\":{\"data_source\":{\"id\":\"fccf1d09-ac5c-4c09-8b50-8d9bc5e743c0\",\"type\":\"ColumnDataSource\"},\"glyph\":{\"id\":\"67f003c9-0df2-42ba-9bf2-0e1ef8a4bef3\",\"type\":\"Quad\"},\"hover_glyph\":null,\"nonselection_glyph\":{\"id\":\"08bb82e7-b177-4a05-905d-5011384b43e3\",\"type\":\"Quad\"},\"selection_glyph\":null},\"id\":\"d04b9016-b865-486b-bcf2-10114b5bf470\",\"type\":\"GlyphRenderer\"},{\"attributes\":{\"level\":\"glyph\",\"plot\":{\"id\":\"bbed07b9-2738-4cef-9831-d18fda51ebe0\",\"subtype\":\"Figure\",\"type\":\"Plot\"},\"source\":{\"id\":\"ace455c2-a332-42e8-b50d-219fe2fd5f5c\",\"type\":\"ColumnDataSource\"},\"text\":{\"field\":\"vals\"},\"text_font_size\":{\"value\":\"9pt\"},\"text_font_style\":\"bold\",\"x\":{\"field\":\"x\"},\"y\":{\"field\":\"y\"}},\"id\":\"937b64c8-1a9e-43f8-bccd-2c6a17c96f2c\",\"type\":\"LabelSet\"},{\"attributes\":{\"callback\":null,\"column_names\":[\"right\",\"bottom\",\"top\",\"left\",\"fill_color\"],\"data\":{\"bottom\":[550,450,150,550,350,450,250,150,50,250],\"fill_color\":[\"#808080\",\"#808080\",\"#61c4c4\",\"#808080\",\"#61c4c4\",\"#808080\",\"#61c4c4\",\"#808080\",\"#61c4c4\",\"#808080\"],\"left\":[135757320,136393157,136403994,136406646,136447707,136496493,136496805,136511874,136514709,136556805],\"right\":[135777504,136441410,136485096,136438078,136490266,136553925,136552629,136533195,136543147,136747085],\"top\":[596,493,190,595,392,493,291,191,90,291]}},\"id\":\"97f2c83c-c6e2-47af-a744-7c4656224104\",\"type\":\"ColumnDataSource\"},{\"attributes\":{\"formatter\":{\"id\":\"9d12393e-88bb-460b-ab3f-21923d85d2d2\",\"type\":\"BasicTickFormatter\"},\"plot\":{\"id\":\"bbed07b9-2738-4cef-9831-d18fda51ebe0\",\"subtype\":\"Figure\",\"type\":\"Plot\"},\"ticker\":{\"id\":\"7d231da6-059f-4e6e-a4e9-ac1de3f81399\",\"type\":\"BasicTicker\"},\"visible\":null},\"id\":\"77cdaa8c-1a7d-4444-a0d3-53ebf6f750bf\",\"type\":\"LinearAxis\"},{\"attributes\":{\"callback\":null,\"column_names\":[\"y\",\"x\",\"vals\"],\"data\":{\"vals\":[\"13_1696\",\"10_1218\",\"13_911\",\"5_1460\",\"4_1149\",\"9_1170\",\"9_1023\",\"5_976\",\"6_820\",\"39_1014\"],\"x\":[135757320,136393157,136403994,136406646,136447707,136496493,136496805,136511874,136514709,136556805],\"y\":[601.0,498.0,195.0,600.0,397.0,498.0,296.0,196.0,95.0,296.0]}},\"id\":\"ace455c2-a332-42e8-b50d-219fe2fd5f5c\",\"type\":\"ColumnDataSource\"},{\"attributes\":{\"callback\":null,\"end\":136786630,\"start\":135757320},\"id\":\"43cb229e-f7c8-4629-8cfd-f459b08e4a91\",\"type\":\"Range1d\"},{\"attributes\":{},\"id\":\"89f23586-1dde-4983-9480-4dc2437ba336\",\"type\":\"BasicTickFormatter\"},{\"attributes\":{},\"id\":\"a8826caf-0595-4659-91b6-cee6224896e4\",\"type\":\"BasicTicker\"},{\"attributes\":{\"data_source\":{\"id\":\"97f2c83c-c6e2-47af-a744-7c4656224104\",\"type\":\"ColumnDataSource\"},\"glyph\":{\"id\":\"3e1d7919-1832-4f4f-aff3-a980f43d0505\",\"type\":\"Quad\"},\"hover_glyph\":null,\"nonselection_glyph\":{\"id\":\"2de007a7-7b89-4d8b-bd8d-8bdcbd6de5a6\",\"type\":\"Quad\"},\"selection_glyph\":null},\"id\":\"d25e6cbe-13d1-4b14-8928-9686845930cd\",\"type\":\"GlyphRenderer\"},{\"attributes\":{\"plot\":{\"id\":\"bbed07b9-2738-4cef-9831-d18fda51ebe0\",\"subtype\":\"Figure\",\"type\":\"Plot\"},\"ticker\":{\"id\":\"a8826caf-0595-4659-91b6-cee6224896e4\",\"type\":\"BasicTicker\"}},\"id\":\"2ccce5a7-ae90-4077-a7a8-fa0a4d4298d8\",\"type\":\"Grid\"},{\"attributes\":{\"bottom\":{\"field\":\"bottom\"},\"fill_alpha\":{\"value\":0.1},\"fill_color\":{\"value\":\"#1f77b4\"},\"left\":{\"field\":\"left\"},\"line_alpha\":{\"value\":0.1},\"line_color\":{\"value\":\"#1f77b4\"},\"right\":{\"field\":\"right\"},\"top\":{\"field\":\"top\"}},\"id\":\"2de007a7-7b89-4d8b-bd8d-8bdcbd6de5a6\",\"type\":\"Quad\"},{\"attributes\":{\"dimension\":1,\"plot\":{\"id\":\"bbed07b9-2738-4cef-9831-d18fda51ebe0\",\"subtype\":\"Figure\",\"type\":\"Plot\"},\"ticker\":{\"id\":\"7d231da6-059f-4e6e-a4e9-ac1de3f81399\",\"type\":\"BasicTicker\"}},\"id\":\"2be8be0b-542f-45db-a434-894467890ed1\",\"type\":\"Grid\"},{\"attributes\":{},\"id\":\"9d12393e-88bb-460b-ab3f-21923d85d2d2\",\"type\":\"BasicTickFormatter\"},{\"attributes\":{\"overlay\":{\"id\":\"d5438d04-5f34-41a2-8c33-f17eb0513c1a\",\"type\":\"BoxAnnotation\"},\"plot\":{\"id\":\"bbed07b9-2738-4cef-9831-d18fda51ebe0\",\"subtype\":\"Figure\",\"type\":\"Plot\"}},\"id\":\"11aea02d-3c78-4733-9d24-5769cadf23c8\",\"type\":\"BoxZoomTool\"},{\"attributes\":{\"line_color\":{\"field\":\"line_color\"},\"xs\":{\"field\":\"xs\"},\"ys\":{\"field\":\"ys\"}},\"id\":\"d880d799-f0c7-441c-8025-8a7b7ff5cc8f\",\"type\":\"MultiLine\"},{\"attributes\":{\"plot\":{\"id\":\"bbed07b9-2738-4cef-9831-d18fda51ebe0\",\"subtype\":\"Figure\",\"type\":\"Plot\"}},\"id\":\"54b1100d-0ec2-41e7-b4af-4bdc173a068e\",\"type\":\"WheelZoomTool\"},{\"attributes\":{\"bottom\":{\"field\":\"bottom\"},\"fill_alpha\":{\"value\":0.1},\"fill_color\":{\"value\":\"#1f77b4\"},\"left\":{\"field\":\"left\"},\"line_alpha\":{\"value\":0.1},\"line_color\":{\"value\":\"#1f77b4\"},\"right\":{\"field\":\"right\"},\"top\":{\"field\":\"top\"}},\"id\":\"08bb82e7-b177-4a05-905d-5011384b43e3\",\"type\":\"Quad\"},{\"attributes\":{\"plot\":{\"id\":\"bbed07b9-2738-4cef-9831-d18fda51ebe0\",\"subtype\":\"Figure\",\"type\":\"Plot\"}},\"id\":\"f99bd690-8cf8-4c44-beda-68549a04b838\",\"type\":\"HelpTool\"},{\"attributes\":{\"callback\":null,\"column_names\":[\"xs\",\"ys\",\"line_color\"],\"data\":{\"line_color\":[\"black\",\"black\",\"black\",\"black\",\"black\",\"black\",\"black\",\"black\",\"black\",\"black\",\"black\",\"black\",\"black\",\"black\",\"black\",\"black\",\"black\",\"black\",\"black\",\"black\",\"black\",\"black\",\"black\",\"black\",\"black\",\"black\",\"black\",\"black\",\"black\",\"black\",\"black\",\"black\",\"black\",\"black\",\"black\",\"black\",\"black\",\"black\",\"black\",\"black\",\"black\",\"black\",\"black\",\"black\",\"black\",\"black\",\"black\",\"black\",\"black\",\"black\",\"black\",\"black\",\"black\",\"black\",\"black\",\"black\",\"black\",\"black\",\"black\",\"black\",\"black\",\"black\",\"black\",\"black\",\"black\",\"black\",\"black\",\"black\",\"black\",\"black\",\"black\",\"black\",\"black\",\"black\",\"black\",\"black\",\"black\",\"black\",\"black\",\"black\",\"black\",\"black\",\"black\",\"black\",\"black\",\"black\",\"black\",\"black\",\"black\",\"black\",\"black\",\"black\",\"black\",\"black\",\"black\",\"black\",\"black\",\"black\",\"black\",\"black\",\"black\",\"black\",\"black\",\"black\",\"black\",\"black\",\"black\",\"black\",\"black\",\"black\",\"black\",\"black\",\"black\"],\"xs\":[[135757320,135757320],[135761078,135761078],[135761271,135761271],[135762344,135762344],[135762980,135762980],[135763280,135763280],[135768815,135768815],[135769093,135769093],[135769127,135769127],[135770940,135770940],[135770951,135770951],[135776728,135776728],[135777504,135777504],[136393157,136393157],[136397433,136397433],[136402116,136402116],[136408291,136408291],[136421548,136421548],[136422784,136422784],[136427745,136427745],[136438950,136438950],[136439805,136439805],[136441410,136441410],[136403994,136403994],[136405878,136405878],[136409574,136409574],[136413225,136413225],[136418741,136418741],[136429088,136429088],[136432121,136432121],[136449305,136449305],[136451432,136451432],[136470978,136470978],[136472107,136472107],[136477100,136477100],[136485096,136485096],[136406646,136406646],[136408821,136408821],[136412472,136412472],[136416959,136416959],[136438078,136438078],[136447707,136447707],[136460324,136460324],[136472357,136472357],[136490266,136490266],[136496493,136496493],[136496639,136496639],[136496928,136496928],[136509573,136509573],[136511951,136511951],[136537057,136537057],[136546635,136546635],[136553438,136553438],[136553925,136553925],[136496805,136496805],[136496910,136496910],[136515859,136515859],[136515924,136515924],[136520186,136520186],[136524766,136524766],[136535364,136535364],[136536113,136536113],[136552629,136552629],[136511874,136511874],[136530248,136530248],[136530556,136530556],[136531252,136531252],[136533195,136533195],[136514709,136514709],[136516308,136516308],[136520100,136520100],[136521595,136521595],[136523045,136523045],[136543147,136543147],[136556805,136556805],[136560003,136560003],[136562472,136562472],[136563248,136563248],[136565328,136565328],[136570613,136570613],[136571982,136571982],[136574305,136574305],[136578040,136578040],[136578194,136578194],[136580398,136580398],[136586828,136586828],[136590558,136590558],[136592309,136592309],[136593541,136593541],[136593694,136593694],[136595426,136595426],[136615222,136615222],[136624919,136624919],[136626004,136626004],[136628380,136628380],[136636909,136636909],[136637350,136637350],[136637622,136637622],[136639487,136639487],[136646900,136646900],[136652093,136652093],[136652859,136652859],[136655620,136655620],[136667896,136667896],[136671801,136671801],[136677192,136677192],[136683293,136683293],[136704414,136704414],[136720344,136720344],[136731066,136731066],[136733897,136733897],[136743490,136743490],[136747085,136747085]],\"ys\":[[550,596],[550,596],[550,596],[550,596],[550,596],[550,596],[550,596],[550,596],[550,596],[550,596],[550,596],[550,596],[550,596],[450,493],[450,493],[450,493],[450,493],[450,493],[450,493],[450,493],[450,493],[450,493],[450,493],[150,190],[150,190],[150,190],[150,190],[150,190],[150,190],[150,190],[150,190],[150,190],[150,190],[150,190],[150,190],[150,190],[550,595],[550,595],[550,595],[550,595],[550,595],[350,392],[350,392],[350,392],[350,392],[450,493],[450,493],[450,493],[450,493],[450,493],[450,493],[450,493],[450,493],[450,493],[250,291],[250,291],[250,291],[250,291],[250,291],[250,291],[250,291],[250,291],[250,291],[150,191],[150,191],[150,191],[150,191],[150,191],[50,90],[50,90],[50,90],[50,90],[50,90],[50,90],[250,291],[250,291],[250,291],[250,291],[250,291],[250,291],[250,291],[250,291],[250,291],[250,291],[250,291],[250,291],[250,291],[250,291],[250,291],[250,291],[250,291],[250,291],[250,291],[250,291],[250,291],[250,291],[250,291],[250,291],[250,291],[250,291],[250,291],[250,291],[250,291],[250,291],[250,291],[250,291],[250,291],[250,291],[250,291],[250,291],[250,291],[250,291],[250,291]]}},\"id\":\"db7e1996-4d54-45de-a0c1-01021134f72e\",\"type\":\"ColumnDataSource\"},{\"attributes\":{\"bottom\":{\"field\":\"bottom\"},\"fill_color\":{\"field\":\"fill_color\"},\"left\":{\"field\":\"left\"},\"line_color\":{\"value\":null},\"right\":{\"field\":\"right\"},\"top\":{\"field\":\"top\"}},\"id\":\"3e1d7919-1832-4f4f-aff3-a980f43d0505\",\"type\":\"Quad\"},{\"attributes\":{\"callback\":null,\"end\":700},\"id\":\"5ff2c294-60e1-4560-98aa-d99120c1a356\",\"type\":\"Range1d\"},{\"attributes\":{},\"id\":\"7d231da6-059f-4e6e-a4e9-ac1de3f81399\",\"type\":\"BasicTicker\"},{\"attributes\":{\"active_drag\":\"auto\",\"active_scroll\":\"auto\",\"active_tap\":\"auto\",\"tools\":[{\"id\":\"8504985e-8c16-4ae0-b0f7-335f9390be27\",\"type\":\"PanTool\"},{\"id\":\"54b1100d-0ec2-41e7-b4af-4bdc173a068e\",\"type\":\"WheelZoomTool\"},{\"id\":\"11aea02d-3c78-4733-9d24-5769cadf23c8\",\"type\":\"BoxZoomTool\"},{\"id\":\"85b99a98-a28b-47b0-9a14-c9d3ff68e06c\",\"type\":\"SaveTool\"},{\"id\":\"86dd5e03-bce9-478f-885d-e4db4aa1eae1\",\"type\":\"ResetTool\"},{\"id\":\"f99bd690-8cf8-4c44-beda-68549a04b838\",\"type\":\"HelpTool\"}]},\"id\":\"588258e7-343f-4bc5-8d2a-b88a6289b4e5\",\"type\":\"Toolbar\"},{\"attributes\":{\"plot\":{\"id\":\"bbed07b9-2738-4cef-9831-d18fda51ebe0\",\"subtype\":\"Figure\",\"type\":\"Plot\"}},\"id\":\"85b99a98-a28b-47b0-9a14-c9d3ff68e06c\",\"type\":\"SaveTool\"},{\"attributes\":{\"callback\":null,\"column_names\":[\"y\",\"x\",\"vals\"],\"data\":{\"vals\":[\"RAB3GAP1\",\"ZRANB3\",\"R3HDM1\",\"UBXN4\",\"LCT\",\"MCM6\",\"DARS\"],\"x\":[135869057.0,136122878.0,136385961.0,136520911.0,136570082.5,136615621.5,136703738.0],\"y\":[660.0,660.0,660.0,660.0,660.0,660.0,660.0]}},\"id\":\"f69c86e6-cfe1-408f-91c2-3a4908b8817c\",\"type\":\"ColumnDataSource\"},{\"attributes\":{\"data_source\":{\"id\":\"db7e1996-4d54-45de-a0c1-01021134f72e\",\"type\":\"ColumnDataSource\"},\"glyph\":{\"id\":\"d880d799-f0c7-441c-8025-8a7b7ff5cc8f\",\"type\":\"MultiLine\"},\"hover_glyph\":null,\"nonselection_glyph\":{\"id\":\"c84f5751-de39-457c-a9ec-730dcf3396ca\",\"type\":\"MultiLine\"},\"selection_glyph\":null},\"id\":\"f4001db1-7fdc-4ec6-a1db-02138b29cfca\",\"type\":\"GlyphRenderer\"},{\"attributes\":{\"bottom_units\":\"screen\",\"fill_alpha\":{\"value\":0.5},\"fill_color\":{\"value\":\"lightgrey\"},\"left_units\":\"screen\",\"level\":\"overlay\",\"line_alpha\":{\"value\":1.0},\"line_color\":{\"value\":\"black\"},\"line_dash\":[4,4],\"line_width\":{\"value\":2},\"plot\":null,\"render_mode\":\"css\",\"right_units\":\"screen\",\"top_units\":\"screen\"},\"id\":\"d5438d04-5f34-41a2-8c33-f17eb0513c1a\",\"type\":\"BoxAnnotation\"},{\"attributes\":{\"line_alpha\":{\"value\":0.1},\"line_color\":{\"value\":\"#1f77b4\"},\"xs\":{\"field\":\"xs\"},\"ys\":{\"field\":\"ys\"}},\"id\":\"c84f5751-de39-457c-a9ec-730dcf3396ca\",\"type\":\"MultiLine\"},{\"attributes\":{\"bottom\":{\"field\":\"bottom\"},\"fill_color\":{\"value\":\"white\"},\"left\":{\"field\":\"left\"},\"right\":{\"field\":\"right\"},\"top\":{\"field\":\"top\"}},\"id\":\"67f003c9-0df2-42ba-9bf2-0e1ef8a4bef3\",\"type\":\"Quad\"},{\"attributes\":{\"formatter\":{\"id\":\"89f23586-1dde-4983-9480-4dc2437ba336\",\"type\":\"BasicTickFormatter\"},\"plot\":{\"id\":\"bbed07b9-2738-4cef-9831-d18fda51ebe0\",\"subtype\":\"Figure\",\"type\":\"Plot\"},\"ticker\":{\"id\":\"a8826caf-0595-4659-91b6-cee6224896e4\",\"type\":\"BasicTicker\"}},\"id\":\"dafd94ea-3014-4120-a357-81597f13eda9\",\"type\":\"LinearAxis\"},{\"attributes\":{\"plot\":null,\"text\":null},\"id\":\"190ac85a-b541-4f50-8c4b-7232238cb1b4\",\"type\":\"Title\"},{\"attributes\":{\"level\":\"glyph\",\"plot\":{\"id\":\"bbed07b9-2738-4cef-9831-d18fda51ebe0\",\"subtype\":\"Figure\",\"type\":\"Plot\"},\"source\":{\"id\":\"f69c86e6-cfe1-408f-91c2-3a4908b8817c\",\"type\":\"ColumnDataSource\"},\"text\":{\"field\":\"vals\"},\"text_align\":\"center\",\"text_baseline\":\"middle\",\"text_font_size\":{\"value\":\"8pt\"},\"x\":{\"field\":\"x\"},\"y\":{\"field\":\"y\"}},\"id\":\"75a5ffaf-54f0-4d7f-8a38-691f28321408\",\"type\":\"LabelSet\"}],\"root_ids\":[\"bbed07b9-2738-4cef-9831-d18fda51ebe0\"]},\"title\":\"Bokeh Application\",\"version\":\"0.12.0\"}};\n",
       "            var render_items = [{\"docid\":\"9a93c911-b949-4cd9-af6b-38c224d45c92\",\"elementid\":\"83172e01-3e40-44d2-b073-9394570cc51b\",\"modelid\":\"bbed07b9-2738-4cef-9831-d18fda51ebe0\",\"notebook_comms_target\":\"e661e8ba-4b0f-49bb-b50b-2e5164a0fec9\"}];\n",
       "            \n",
       "            Bokeh.embed.embed_items(docs_json, render_items);\n",
       "        });\n",
       "      },\n",
       "      function(Bokeh) {\n",
       "      }\n",
       "    ];\n",
       "  \n",
       "    function run_inline_js() {\n",
       "      for (var i = 0; i < inline_js.length; i++) {\n",
       "        inline_js[i](window.Bokeh);\n",
       "      }\n",
       "    }\n",
       "  \n",
       "    if (window._bokeh_is_loading === 0) {\n",
       "      console.log(\"Bokeh: BokehJS loaded, going straight to plotting\");\n",
       "      run_inline_js();\n",
       "    } else {\n",
       "      load_libs(js_urls, function() {\n",
       "        console.log(\"Bokeh: BokehJS plotting callback run at\", now());\n",
       "        run_inline_js();\n",
       "      });\n",
       "    }\n",
       "  }(this));\n",
       "</script>"
      ]
     },
     "metadata": {},
     "output_type": "display_data"
    },
    {
     "data": {
      "text/html": [
       "<p><code>&lt;Bokeh Notebook handle for <strong>In[23]</strong>&gt;</code></p>"
      ],
      "text/plain": [
       "<bokeh.io._CommsHandle at 0x7fa618a550d0>"
      ]
     },
     "execution_count": 23,
     "metadata": {},
     "output_type": "execute_result"
    }
   ],
   "source": [
    "plt_obj = dm.superset_allele_mask(am_6, [dm.di_5_1460], min_match=0.5)\n",
    "plt = plt_obj.do_plot()\n",
    "am = plt_obj.plot_context.yes_allele_mask\n",
    "show(plt)"
   ]
  },
  {
   "cell_type": "code",
   "execution_count": 24,
   "metadata": {
    "collapsed": false
   },
   "outputs": [
    {
     "data": {
      "text/html": [
       "<table>\n",
       "<thead><tr><th style=\"text-align:center\">index</th><th style=\"text-align:center\">first</th><th style=\"text-align:center\">length</th><th style=\"text-align:center\">snps</th><th style=\"text-align:center\" colspan=2>alleles</th><th style=\"text-align:center\" colspan=2>matches</th><th style=\"text-align:center\" colspan=2>afr</th><th style=\"text-align:center\" colspan=2>afx</th><th style=\"text-align:center\" colspan=2>amr</th><th style=\"text-align:center\" colspan=2>eas</th><th style=\"text-align:center\" colspan=2>eur</th><th style=\"text-align:center\" colspan=2>sas</th><th style=\"text-align:center\" colspan=2>sax</th></tr></thead>\n",
       "<tr class=\"even\"><td style=\"text-align: right;\">353240</td><td style=\"text-align: right;\">135,757,320</td><td style=\"text-align: right;\">20,184</td><td style=\"text-align: right;\">13</td><td style=\"text-align: right;\">1696</td><td style=\"text-align: right;\">0.04</td><td style=\"text-align: right;\">76</td><td style=\"text-align: right;\">0.99</td><td style=\"text-align: right;\">1</td><td style=\"text-align: right;\">0.07</td><td style=\"text-align: right;\">0</td><td style=\"text-align: right;\">0.00</td><td style=\"text-align: right;\">7</td><td style=\"text-align: right;\">0.66</td><td style=\"text-align: right;\">8</td><td style=\"text-align: right;\">0.52</td><td style=\"text-align: right;\">18</td><td style=\"text-align: right;\">1.18</td><td style=\"text-align: right;\">13</td><td style=\"text-align: right;\">2.35</td><td style=\"text-align: right;\">29</td><td style=\"text-align: right;\">3.11</td></tr>\n",
       "<tr><td style=\"text-align: right;\">353814</td><td style=\"text-align: right;\">136,406,646</td><td style=\"text-align: right;\">31,432</td><td style=\"text-align: right;\">5</td><td style=\"text-align: right;\">1460</td><td style=\"text-align: right;\">0.05</td><td style=\"text-align: right;\">77</td><td style=\"text-align: right;\">1.00</td><td style=\"text-align: right;\">1</td><td style=\"text-align: right;\">0.06</td><td style=\"text-align: right;\">0</td><td style=\"text-align: right;\">0.00</td><td style=\"text-align: right;\">8</td><td style=\"text-align: right;\">0.75</td><td style=\"text-align: right;\">8</td><td style=\"text-align: right;\">0.52</td><td style=\"text-align: right;\">18</td><td style=\"text-align: right;\">1.16</td><td style=\"text-align: right;\">13</td><td style=\"text-align: right;\">2.32</td><td style=\"text-align: right;\">29</td><td style=\"text-align: right;\">3.07</td></tr>\n",
       "<tr class=\"even\"><td style=\"text-align: right;\">353790</td><td style=\"text-align: right;\">136,393,157</td><td style=\"text-align: right;\">48,253</td><td style=\"text-align: right;\">10</td><td style=\"text-align: right;\">1218</td><td style=\"text-align: right;\">0.05</td><td style=\"text-align: right;\">66</td><td style=\"text-align: right;\">0.86</td><td style=\"text-align: right;\">1</td><td style=\"text-align: right;\">0.08</td><td style=\"text-align: right;\">0</td><td style=\"text-align: right;\">0.00</td><td style=\"text-align: right;\">7</td><td style=\"text-align: right;\">0.77</td><td style=\"text-align: right;\">8</td><td style=\"text-align: right;\">0.60</td><td style=\"text-align: right;\">13</td><td style=\"text-align: right;\">0.98</td><td style=\"text-align: right;\">10</td><td style=\"text-align: right;\">2.08</td><td style=\"text-align: right;\">27</td><td style=\"text-align: right;\">3.34</td></tr>\n",
       "<tr><td style=\"text-align: right;\">353906</td><td style=\"text-align: right;\">136,496,493</td><td style=\"text-align: right;\">57,432</td><td style=\"text-align: right;\">9</td><td style=\"text-align: right;\">1170</td><td style=\"text-align: right;\">0.05</td><td style=\"text-align: right;\">61</td><td style=\"text-align: right;\">0.79</td><td style=\"text-align: right;\">1</td><td style=\"text-align: right;\">0.08</td><td style=\"text-align: right;\">0</td><td style=\"text-align: right;\">0.00</td><td style=\"text-align: right;\">7</td><td style=\"text-align: right;\">0.83</td><td style=\"text-align: right;\">7</td><td style=\"text-align: right;\">0.57</td><td style=\"text-align: right;\">12</td><td style=\"text-align: right;\">0.98</td><td style=\"text-align: right;\">8</td><td style=\"text-align: right;\">1.80</td><td style=\"text-align: right;\">26</td><td style=\"text-align: right;\">3.48</td></tr>\n",
       "<tr class=\"even\"><td style=\"text-align: right;\">353849</td><td style=\"text-align: right;\">136,447,707</td><td style=\"text-align: right;\">42,559</td><td style=\"text-align: right;\">4</td><td style=\"text-align: right;\">1149</td><td style=\"text-align: right;\">0.06</td><td style=\"text-align: right;\">65</td><td style=\"text-align: right;\">0.84</td><td style=\"text-align: right;\">1</td><td style=\"text-align: right;\">0.08</td><td style=\"text-align: right;\">0</td><td style=\"text-align: right;\">0.00</td><td style=\"text-align: right;\">7</td><td style=\"text-align: right;\">0.78</td><td style=\"text-align: right;\">8</td><td style=\"text-align: right;\">0.61</td><td style=\"text-align: right;\">12</td><td style=\"text-align: right;\">0.92</td><td style=\"text-align: right;\">10</td><td style=\"text-align: right;\">2.12</td><td style=\"text-align: right;\">27</td><td style=\"text-align: right;\">3.39</td></tr>\n",
       "<tr><td style=\"text-align: right;\">353907</td><td style=\"text-align: right;\">136,496,805</td><td style=\"text-align: right;\">55,824</td><td style=\"text-align: right;\">9</td><td style=\"text-align: right;\">1023</td><td style=\"text-align: right;\">0.06</td><td style=\"text-align: right;\">61</td><td style=\"text-align: right;\">0.79</td><td style=\"text-align: right;\">1</td><td style=\"text-align: right;\">0.08</td><td style=\"text-align: right;\">0</td><td style=\"text-align: right;\">0.00</td><td style=\"text-align: right;\">7</td><td style=\"text-align: right;\">0.83</td><td style=\"text-align: right;\">7</td><td style=\"text-align: right;\">0.57</td><td style=\"text-align: right;\">12</td><td style=\"text-align: right;\">0.98</td><td style=\"text-align: right;\">8</td><td style=\"text-align: right;\">1.80</td><td style=\"text-align: right;\">26</td><td style=\"text-align: right;\">3.48</td></tr>\n",
       "<tr class=\"even\"><td style=\"text-align: right;\">353984</td><td style=\"text-align: right;\">136,556,805</td><td style=\"text-align: right;\">190,280</td><td style=\"text-align: right;\">39</td><td style=\"text-align: right;\">1014</td><td style=\"text-align: right;\">0.06</td><td style=\"text-align: right;\">57</td><td style=\"text-align: right;\">0.74</td><td style=\"text-align: right;\">1</td><td style=\"text-align: right;\">0.09</td><td style=\"text-align: right;\">0</td><td style=\"text-align: right;\">0.00</td><td style=\"text-align: right;\">7</td><td style=\"text-align: right;\">0.89</td><td style=\"text-align: right;\">5</td><td style=\"text-align: right;\">0.44</td><td style=\"text-align: right;\">13</td><td style=\"text-align: right;\">1.14</td><td style=\"text-align: right;\">8</td><td style=\"text-align: right;\">1.93</td><td style=\"text-align: right;\">23</td><td style=\"text-align: right;\">3.29</td></tr>\n",
       "<tr><td style=\"text-align: right;\">353935</td><td style=\"text-align: right;\">136,511,874</td><td style=\"text-align: right;\">21,321</td><td style=\"text-align: right;\">5</td><td style=\"text-align: right;\">976</td><td style=\"text-align: right;\">0.05</td><td style=\"text-align: right;\">47</td><td style=\"text-align: right;\">0.61</td><td style=\"text-align: right;\">1</td><td style=\"text-align: right;\">0.11</td><td style=\"text-align: right;\">0</td><td style=\"text-align: right;\">0.00</td><td style=\"text-align: right;\">4</td><td style=\"text-align: right;\">0.61</td><td style=\"text-align: right;\">6</td><td style=\"text-align: right;\">0.63</td><td style=\"text-align: right;\">6</td><td style=\"text-align: right;\">0.64</td><td style=\"text-align: right;\">8</td><td style=\"text-align: right;\">2.34</td><td style=\"text-align: right;\">22</td><td style=\"text-align: right;\">3.82</td></tr>\n",
       "<tr class=\"even\"><td style=\"text-align: right;\">353807</td><td style=\"text-align: right;\">136,403,994</td><td style=\"text-align: right;\">81,102</td><td style=\"text-align: right;\">13</td><td style=\"text-align: right;\">911</td><td style=\"text-align: right;\">0.07</td><td style=\"text-align: right;\">64</td><td style=\"text-align: right;\">0.83</td><td style=\"text-align: right;\">1</td><td style=\"text-align: right;\">0.08</td><td style=\"text-align: right;\">0</td><td style=\"text-align: right;\">0.00</td><td style=\"text-align: right;\">7</td><td style=\"text-align: right;\">0.79</td><td style=\"text-align: right;\">7</td><td style=\"text-align: right;\">0.54</td><td style=\"text-align: right;\">12</td><td style=\"text-align: right;\">0.93</td><td style=\"text-align: right;\">10</td><td style=\"text-align: right;\">2.15</td><td style=\"text-align: right;\">27</td><td style=\"text-align: right;\">3.44</td></tr>\n",
       "<tr><td style=\"text-align: right;\">353938</td><td style=\"text-align: right;\">136,514,709</td><td style=\"text-align: right;\">28,438</td><td style=\"text-align: right;\">6</td><td style=\"text-align: right;\">820</td><td style=\"text-align: right;\">0.06</td><td style=\"text-align: right;\">47</td><td style=\"text-align: right;\">0.61</td><td style=\"text-align: right;\">1</td><td style=\"text-align: right;\">0.11</td><td style=\"text-align: right;\">0</td><td style=\"text-align: right;\">0.00</td><td style=\"text-align: right;\">4</td><td style=\"text-align: right;\">0.61</td><td style=\"text-align: right;\">6</td><td style=\"text-align: right;\">0.63</td><td style=\"text-align: right;\">6</td><td style=\"text-align: right;\">0.64</td><td style=\"text-align: right;\">8</td><td style=\"text-align: right;\">2.34</td><td style=\"text-align: right;\">22</td><td style=\"text-align: right;\">3.82</td></tr>\n",
       "</table>"
      ],
      "text/plain": [
       "<IPython.core.display.HTML object>"
      ]
     },
     "execution_count": 24,
     "metadata": {},
     "output_type": "execute_result"
    }
   ],
   "source": [
    "HTML(plt_obj.get_html())"
   ]
  },
  {
   "cell_type": "code",
   "execution_count": 25,
   "metadata": {
    "collapsed": false
   },
   "outputs": [
    {
     "data": {
      "text/plain": [
       "array([77, 77, 77, 77, 77, 77,  0,  0,  0])"
      ]
     },
     "execution_count": 25,
     "metadata": {},
     "output_type": "execute_result"
    }
   ],
   "source": [
    "sa_9_944.alleles_per_snp(am)"
   ]
  },
  {
   "cell_type": "code",
   "execution_count": 26,
   "metadata": {
    "collapsed": false
   },
   "outputs": [
    {
     "data": {
      "text/plain": [
       "array([ 37,  20, 118, 132, 132, 132, 135, 135, 104])"
      ]
     },
     "execution_count": 26,
     "metadata": {},
     "output_type": "execute_result"
    }
   ],
   "source": [
    "aps_7, am_7 = sa_9_944.snps_from_aps_value(7)\n",
    "aps_7"
   ]
  },
  {
   "cell_type": "code",
   "execution_count": 27,
   "metadata": {
    "collapsed": false
   },
   "outputs": [
    {
     "data": {
      "text/html": [
       "\n",
       "\n",
       "    <div class=\"bk-root\">\n",
       "        <div class=\"plotdiv\" id=\"31eb5780-aa35-4886-b473-7fc099a3702b\"></div>\n",
       "    </div>\n",
       "<script type=\"text/javascript\">\n",
       "  \n",
       "  (function(global) {\n",
       "    function now() {\n",
       "      return new Date();\n",
       "    }\n",
       "  \n",
       "    if (typeof (window._bokeh_onload_callbacks) === \"undefined\") {\n",
       "      window._bokeh_onload_callbacks = [];\n",
       "    }\n",
       "  \n",
       "    function run_callbacks() {\n",
       "      window._bokeh_onload_callbacks.forEach(function(callback) { callback() });\n",
       "      delete window._bokeh_onload_callbacks\n",
       "      console.info(\"Bokeh: all callbacks have finished\");\n",
       "    }\n",
       "  \n",
       "    function load_libs(js_urls, callback) {\n",
       "      window._bokeh_onload_callbacks.push(callback);\n",
       "      if (window._bokeh_is_loading > 0) {\n",
       "        console.log(\"Bokeh: BokehJS is being loaded, scheduling callback at\", now());\n",
       "        return null;\n",
       "      }\n",
       "      if (js_urls == null || js_urls.length === 0) {\n",
       "        run_callbacks();\n",
       "        return null;\n",
       "      }\n",
       "      console.log(\"Bokeh: BokehJS not loaded, scheduling load and callback at\", now());\n",
       "      window._bokeh_is_loading = js_urls.length;\n",
       "      for (var i = 0; i < js_urls.length; i++) {\n",
       "        var url = js_urls[i];\n",
       "        var s = document.createElement('script');\n",
       "        s.src = url;\n",
       "        s.async = false;\n",
       "        s.onreadystatechange = s.onload = function() {\n",
       "          window._bokeh_is_loading--;\n",
       "          if (window._bokeh_is_loading === 0) {\n",
       "            console.log(\"Bokeh: all BokehJS libraries loaded\");\n",
       "            run_callbacks()\n",
       "          }\n",
       "        };\n",
       "        s.onerror = function() {\n",
       "          console.warn(\"failed to load library \" + url);\n",
       "        };\n",
       "        console.log(\"Bokeh: injecting script tag for BokehJS library: \", url);\n",
       "        document.getElementsByTagName(\"head\")[0].appendChild(s);\n",
       "      }\n",
       "    };var element = document.getElementById(\"31eb5780-aa35-4886-b473-7fc099a3702b\");\n",
       "    if (element == null) {\n",
       "      console.log(\"Bokeh: ERROR: autoload.js configured with elementid '31eb5780-aa35-4886-b473-7fc099a3702b' but no matching script tag was found. \")\n",
       "      return false;\n",
       "    }\n",
       "  \n",
       "    var js_urls = [];\n",
       "  \n",
       "    var inline_js = [\n",
       "      function(Bokeh) {\n",
       "        Bokeh.$(function() {\n",
       "            var docs_json = {\"bc7e2ae8-eb55-4c84-aff5-a3a9d405e76f\":{\"roots\":{\"references\":[{\"attributes\":{\"callback\":null,\"column_names\":[\"right\",\"bottom\",\"top\",\"left\"],\"data\":{\"bottom\":[245,245,245,245,245,245,245],\"left\":[135809835,135957574,136289083,136499189,136545415,136597196,136664254],\"right\":[135928279,136288182,136482839,136542633,136594750,136634047,136743222],\"top\":[275,275,275,275,275,275,275]}},\"id\":\"d6177217-cd99-4b34-b009-158ea0e3eb12\",\"type\":\"ColumnDataSource\"},{\"attributes\":{\"active_drag\":\"auto\",\"active_scroll\":\"auto\",\"active_tap\":\"auto\",\"tools\":[{\"id\":\"05fb51c0-a558-48ef-a961-6e4d17a508d3\",\"type\":\"PanTool\"},{\"id\":\"19481f9a-41ae-4200-9237-b5e61dda19dc\",\"type\":\"WheelZoomTool\"},{\"id\":\"599ee856-e745-480c-bc4b-1c30b3286b4d\",\"type\":\"BoxZoomTool\"},{\"id\":\"fb18cb5a-05a3-4c0f-a82f-12f7cfc71a5a\",\"type\":\"SaveTool\"},{\"id\":\"fd8db57c-88bc-4b3c-b31d-dc1dbd386e91\",\"type\":\"ResetTool\"},{\"id\":\"9e8dc304-bc39-4aab-9d57-33dc5cab57a3\",\"type\":\"HelpTool\"}]},\"id\":\"3105404c-d8fe-43f2-a4fe-111f9aca61a4\",\"type\":\"Toolbar\"},{\"attributes\":{\"plot\":{\"id\":\"ac4dea32-1e82-4e6b-a3f2-76f090e331e2\",\"subtype\":\"Figure\",\"type\":\"Plot\"}},\"id\":\"05fb51c0-a558-48ef-a961-6e4d17a508d3\",\"type\":\"PanTool\"},{\"attributes\":{},\"id\":\"4c7874ff-da6f-4f8c-a702-b2609644ceb4\",\"type\":\"BasicTickFormatter\"},{\"attributes\":{\"bottom\":{\"field\":\"bottom\"},\"fill_color\":{\"field\":\"fill_color\"},\"left\":{\"field\":\"left\"},\"line_color\":{\"value\":null},\"right\":{\"field\":\"right\"},\"top\":{\"field\":\"top\"}},\"id\":\"515488e5-1ded-4f07-b529-5c76944e71e7\",\"type\":\"Quad\"},{\"attributes\":{\"overlay\":{\"id\":\"d62bb90e-63fe-404a-a3b3-93e1ac458568\",\"type\":\"BoxAnnotation\"},\"plot\":{\"id\":\"ac4dea32-1e82-4e6b-a3f2-76f090e331e2\",\"subtype\":\"Figure\",\"type\":\"Plot\"}},\"id\":\"599ee856-e745-480c-bc4b-1c30b3286b4d\",\"type\":\"BoxZoomTool\"},{\"attributes\":{\"callback\":null,\"column_names\":[\"y\",\"x\",\"vals\"],\"data\":{\"vals\":[\"4_815\",\"5_684\",\"32_1361\",\"64_1575\",\"10_2206\",\"7_1868\"],\"x\":[135839805,135959272,136393658,136494186,136501840,136682274],\"y\":[95.0,93.0,99.0,100.0,203.0,202.0]}},\"id\":\"c831534c-e97c-4b88-b690-879a0c710045\",\"type\":\"ColumnDataSource\"},{\"attributes\":{\"plot\":{\"id\":\"ac4dea32-1e82-4e6b-a3f2-76f090e331e2\",\"subtype\":\"Figure\",\"type\":\"Plot\"}},\"id\":\"9e8dc304-bc39-4aab-9d57-33dc5cab57a3\",\"type\":\"HelpTool\"},{\"attributes\":{\"bottom\":{\"field\":\"bottom\"},\"fill_alpha\":{\"value\":0.1},\"fill_color\":{\"value\":\"#1f77b4\"},\"left\":{\"field\":\"left\"},\"line_alpha\":{\"value\":0.1},\"line_color\":{\"value\":\"#1f77b4\"},\"right\":{\"field\":\"right\"},\"top\":{\"field\":\"top\"}},\"id\":\"af7369d1-bf65-463a-a4e8-41e5ddf76d42\",\"type\":\"Quad\"},{\"attributes\":{\"bottom\":{\"field\":\"bottom\"},\"fill_color\":{\"value\":\"white\"},\"left\":{\"field\":\"left\"},\"right\":{\"field\":\"right\"},\"top\":{\"field\":\"top\"}},\"id\":\"7fea6b06-f306-422c-b57e-97b4b37ba41c\",\"type\":\"Quad\"},{\"attributes\":{\"callback\":null,\"column_names\":[\"xs\",\"ys\",\"line_color\"],\"data\":{\"line_color\":[\"black\",\"black\",\"black\",\"black\",\"black\",\"black\",\"black\",\"black\",\"black\",\"black\",\"black\",\"black\",\"black\",\"black\",\"black\",\"black\",\"black\",\"black\",\"black\",\"black\",\"black\",\"black\",\"black\",\"black\",\"black\",\"black\",\"black\",\"black\",\"black\",\"black\",\"black\",\"black\",\"black\",\"black\",\"black\",\"black\",\"black\",\"black\",\"black\",\"black\",\"black\",\"black\",\"black\",\"black\",\"black\",\"black\",\"black\",\"black\",\"black\",\"black\",\"black\",\"black\",\"black\",\"black\",\"black\",\"black\",\"black\",\"black\",\"black\",\"black\",\"black\",\"black\",\"black\",\"black\",\"black\",\"black\",\"black\",\"black\",\"black\",\"black\",\"black\",\"black\",\"black\",\"black\",\"black\",\"black\",\"black\",\"black\",\"black\",\"black\",\"black\",\"black\",\"black\",\"black\",\"black\",\"black\",\"black\",\"black\",\"black\",\"black\",\"black\",\"black\",\"black\",\"black\",\"black\",\"black\",\"black\",\"black\",\"black\",\"black\",\"black\",\"black\",\"black\",\"black\",\"black\",\"black\",\"black\",\"black\",\"black\",\"black\",\"black\",\"black\",\"black\",\"black\",\"black\",\"black\",\"black\",\"black\",\"black\",\"black\",\"black\",\"black\"],\"xs\":[[135839805,135839805],[135866750,135866750],[135886744,135886744],[135924467,135924467],[135959272,135959272],[136149550,136149550],[136164840,136164840],[136313885,136313885],[136375855,136375855],[136393658,136393658],[136396300,136396300],[136401843,136401843],[136407445,136407445],[136411879,136411879],[136412270,136412270],[136413244,136413244],[136413847,136413847],[136415217,136415217],[136416533,136416533],[136420726,136420726],[136429857,136429857],[136433740,136433740],[136436317,136436317],[136437615,136437615],[136438517,136438517],[136440300,136440300],[136443900,136443900],[136444185,136444185],[136444338,136444338],[136449254,136449254],[136451676,136451676],[136459227,136459227],[136463117,136463117],[136463454,136463454],[136467119,136467119],[136468238,136468238],[136470219,136470219],[136483355,136483355],[136485276,136485276],[136486340,136486340],[136486342,136486342],[136494186,136494186],[136495300,136495300],[136495619,136495619],[136499166,136499166],[136502792,136502792],[136503157,136503157],[136507039,136507039],[136511575,136511575],[136518103,136518103],[136521514,136521514],[136522675,136522675],[136522941,136522941],[136526981,136526981],[136535410,136535410],[136539122,136539122],[136544197,136544197],[136550109,136550109],[136551694,136551694],[136553188,136553188],[136553639,136553639],[136554800,136554800],[136557319,136557319],[136558157,136558157],[136569848,136569848],[136575199,136575199],[136576577,136576577],[136578536,136578536],[136580287,136580287],[136583192,136583192],[136586958,136586958],[136588478,136588478],[136589612,136589612],[136591178,136591178],[136591859,136591859],[136593760,136593760],[136594158,136594158],[136603276,136603276],[136603366,136603366],[136608231,136608231],[136609975,136609975],[136610598,136610598],[136611624,136611624],[136613780,136613780],[136614255,136614255],[136614813,136614813],[136617524,136617524],[136622216,136622216],[136625602,136625602],[136629911,136629911],[136630757,136630757],[136630989,136630989],[136631031,136631031],[136633771,136633771],[136636324,136636324],[136638216,136638216],[136640233,136640233],[136641882,136641882],[136643555,136643555],[136658345,136658345],[136670298,136670298],[136685228,136685228],[136696138,136696138],[136740900,136740900],[136765951,136765951],[136501840,136501840],[136505546,136505546],[136516748,136516748],[136522710,136522710],[136528004,136528004],[136539513,136539513],[136544752,136544752],[136546110,136546110],[136553529,136553529],[136555659,136555659],[136682274,136682274],[136691825,136691825],[136698098,136698098],[136721603,136721603],[136721995,136721995],[136755684,136755684],[136775898,136775898]],\"ys\":[[50,90],[50,90],[50,90],[50,90],[50,88],[50,88],[50,88],[50,88],[50,88],[50,94],[50,94],[50,94],[50,94],[50,94],[50,94],[50,94],[50,94],[50,94],[50,94],[50,94],[50,94],[50,94],[50,94],[50,94],[50,94],[50,94],[50,94],[50,94],[50,94],[50,94],[50,94],[50,94],[50,94],[50,94],[50,94],[50,94],[50,94],[50,94],[50,94],[50,94],[50,94],[50,95],[50,95],[50,95],[50,95],[50,95],[50,95],[50,95],[50,95],[50,95],[50,95],[50,95],[50,95],[50,95],[50,95],[50,95],[50,95],[50,95],[50,95],[50,95],[50,95],[50,95],[50,95],[50,95],[50,95],[50,95],[50,95],[50,95],[50,95],[50,95],[50,95],[50,95],[50,95],[50,95],[50,95],[50,95],[50,95],[50,95],[50,95],[50,95],[50,95],[50,95],[50,95],[50,95],[50,95],[50,95],[50,95],[50,95],[50,95],[50,95],[50,95],[50,95],[50,95],[50,95],[50,95],[50,95],[50,95],[50,95],[50,95],[50,95],[50,95],[50,95],[50,95],[50,95],[50,95],[150,198],[150,198],[150,198],[150,198],[150,198],[150,198],[150,198],[150,198],[150,198],[150,198],[150,197],[150,197],[150,197],[150,197],[150,197],[150,197],[150,197]]}},\"id\":\"ed328473-f95e-4651-a8a0-d5ace5a26562\",\"type\":\"ColumnDataSource\"},{\"attributes\":{\"formatter\":{\"id\":\"46150923-25be-4ae5-8894-21c7a1616ebb\",\"type\":\"BasicTickFormatter\"},\"plot\":{\"id\":\"ac4dea32-1e82-4e6b-a3f2-76f090e331e2\",\"subtype\":\"Figure\",\"type\":\"Plot\"},\"ticker\":{\"id\":\"dab790bd-a586-4584-9cd5-bc241bf21536\",\"type\":\"BasicTicker\"},\"visible\":null},\"id\":\"dfa21810-01ea-4ced-9328-af51a2964964\",\"type\":\"LinearAxis\"},{\"attributes\":{\"line_color\":{\"field\":\"line_color\"},\"xs\":{\"field\":\"xs\"},\"ys\":{\"field\":\"ys\"}},\"id\":\"e8f7395f-f65b-4bfb-9fac-4f8a709f9e7b\",\"type\":\"MultiLine\"},{\"attributes\":{\"plot\":{\"id\":\"ac4dea32-1e82-4e6b-a3f2-76f090e331e2\",\"subtype\":\"Figure\",\"type\":\"Plot\"}},\"id\":\"19481f9a-41ae-4200-9237-b5e61dda19dc\",\"type\":\"WheelZoomTool\"},{\"attributes\":{\"plot\":{\"id\":\"ac4dea32-1e82-4e6b-a3f2-76f090e331e2\",\"subtype\":\"Figure\",\"type\":\"Plot\"}},\"id\":\"fb18cb5a-05a3-4c0f-a82f-12f7cfc71a5a\",\"type\":\"SaveTool\"},{\"attributes\":{\"data_source\":{\"id\":\"34bbe42c-a4cb-4f51-b8b9-cb88b307f057\",\"type\":\"ColumnDataSource\"},\"glyph\":{\"id\":\"515488e5-1ded-4f07-b529-5c76944e71e7\",\"type\":\"Quad\"},\"hover_glyph\":null,\"nonselection_glyph\":{\"id\":\"cfe16280-ca01-4b74-b2d3-f5d176b031d5\",\"type\":\"Quad\"},\"selection_glyph\":null},\"id\":\"bd8c211d-28c7-4e59-b62f-a3175d46bdf6\",\"type\":\"GlyphRenderer\"},{\"attributes\":{\"bottom_units\":\"screen\",\"fill_alpha\":{\"value\":0.5},\"fill_color\":{\"value\":\"lightgrey\"},\"left_units\":\"screen\",\"level\":\"overlay\",\"line_alpha\":{\"value\":1.0},\"line_color\":{\"value\":\"black\"},\"line_dash\":[4,4],\"line_width\":{\"value\":2},\"plot\":null,\"render_mode\":\"css\",\"right_units\":\"screen\",\"top_units\":\"screen\"},\"id\":\"d62bb90e-63fe-404a-a3b3-93e1ac458568\",\"type\":\"BoxAnnotation\"},{\"attributes\":{},\"id\":\"94d13e84-5915-4ad2-add4-f6b5d9cd17a5\",\"type\":\"ToolEvents\"},{\"attributes\":{\"level\":\"glyph\",\"plot\":{\"id\":\"ac4dea32-1e82-4e6b-a3f2-76f090e331e2\",\"subtype\":\"Figure\",\"type\":\"Plot\"},\"source\":{\"id\":\"18ae27b0-d6a2-40aa-a13f-06a9861876a5\",\"type\":\"ColumnDataSource\"},\"text\":{\"field\":\"vals\"},\"text_align\":\"center\",\"text_baseline\":\"middle\",\"text_font_size\":{\"value\":\"8pt\"},\"x\":{\"field\":\"x\"},\"y\":{\"field\":\"y\"}},\"id\":\"2a25a5b1-9446-4dd6-90a9-803e8f50032d\",\"type\":\"LabelSet\"},{\"attributes\":{\"callback\":null,\"end\":300},\"id\":\"3fbc411b-7378-44b4-82da-8821adccfc01\",\"type\":\"Range1d\"},{\"attributes\":{\"line_alpha\":{\"value\":0.1},\"line_color\":{\"value\":\"#1f77b4\"},\"xs\":{\"field\":\"xs\"},\"ys\":{\"field\":\"ys\"}},\"id\":\"d4226267-e93a-4757-88a5-cc76621e3eaa\",\"type\":\"MultiLine\"},{\"attributes\":{\"plot\":null,\"text\":null},\"id\":\"b08eabec-379b-4ebc-bf1e-49c91ca5cd34\",\"type\":\"Title\"},{\"attributes\":{\"data_source\":{\"id\":\"ed328473-f95e-4651-a8a0-d5ace5a26562\",\"type\":\"ColumnDataSource\"},\"glyph\":{\"id\":\"e8f7395f-f65b-4bfb-9fac-4f8a709f9e7b\",\"type\":\"MultiLine\"},\"hover_glyph\":null,\"nonselection_glyph\":{\"id\":\"d4226267-e93a-4757-88a5-cc76621e3eaa\",\"type\":\"MultiLine\"},\"selection_glyph\":null},\"id\":\"159029e7-d209-4ba2-8bee-e6a794e12254\",\"type\":\"GlyphRenderer\"},{\"attributes\":{\"plot\":{\"id\":\"ac4dea32-1e82-4e6b-a3f2-76f090e331e2\",\"subtype\":\"Figure\",\"type\":\"Plot\"}},\"id\":\"fd8db57c-88bc-4b3c-b31d-dc1dbd386e91\",\"type\":\"ResetTool\"},{\"attributes\":{\"dimension\":1,\"plot\":{\"id\":\"ac4dea32-1e82-4e6b-a3f2-76f090e331e2\",\"subtype\":\"Figure\",\"type\":\"Plot\"},\"ticker\":{\"id\":\"dab790bd-a586-4584-9cd5-bc241bf21536\",\"type\":\"BasicTicker\"}},\"id\":\"293380c0-0f57-4c08-a50f-1fe5227be0b4\",\"type\":\"Grid\"},{\"attributes\":{\"data_source\":{\"id\":\"d6177217-cd99-4b34-b009-158ea0e3eb12\",\"type\":\"ColumnDataSource\"},\"glyph\":{\"id\":\"7fea6b06-f306-422c-b57e-97b4b37ba41c\",\"type\":\"Quad\"},\"hover_glyph\":null,\"nonselection_glyph\":{\"id\":\"af7369d1-bf65-463a-a4e8-41e5ddf76d42\",\"type\":\"Quad\"},\"selection_glyph\":null},\"id\":\"13ade3fb-5ecb-4174-9f47-4d2a78eb41e5\",\"type\":\"GlyphRenderer\"},{\"attributes\":{\"callback\":null,\"column_names\":[\"y\",\"x\",\"vals\"],\"data\":{\"vals\":[\"RAB3GAP1\",\"ZRANB3\",\"R3HDM1\",\"UBXN4\",\"LCT\",\"MCM6\",\"DARS\"],\"x\":[135869057.0,136122878.0,136385961.0,136520911.0,136570082.5,136615621.5,136703738.0],\"y\":[260.0,260.0,260.0,260.0,260.0,260.0,260.0]}},\"id\":\"18ae27b0-d6a2-40aa-a13f-06a9861876a5\",\"type\":\"ColumnDataSource\"},{\"attributes\":{\"below\":[{\"id\":\"f627e804-36c7-4dde-82b9-eef5bcb07d2f\",\"type\":\"LinearAxis\"}],\"left\":[{\"id\":\"dfa21810-01ea-4ced-9328-af51a2964964\",\"type\":\"LinearAxis\"}],\"plot_height\":300,\"plot_width\":900,\"renderers\":[{\"id\":\"f627e804-36c7-4dde-82b9-eef5bcb07d2f\",\"type\":\"LinearAxis\"},{\"id\":\"11ec656f-6f6c-43e5-8292-8ae520a0cf4d\",\"type\":\"Grid\"},{\"id\":\"dfa21810-01ea-4ced-9328-af51a2964964\",\"type\":\"LinearAxis\"},{\"id\":\"293380c0-0f57-4c08-a50f-1fe5227be0b4\",\"type\":\"Grid\"},{\"id\":\"d62bb90e-63fe-404a-a3b3-93e1ac458568\",\"type\":\"BoxAnnotation\"},{\"id\":\"bd8c211d-28c7-4e59-b62f-a3175d46bdf6\",\"type\":\"GlyphRenderer\"},{\"id\":\"159029e7-d209-4ba2-8bee-e6a794e12254\",\"type\":\"GlyphRenderer\"},{\"id\":\"9169b555-15ec-4c3c-8af6-b1bc5e1f06c8\",\"type\":\"LabelSet\"},{\"id\":\"13ade3fb-5ecb-4174-9f47-4d2a78eb41e5\",\"type\":\"GlyphRenderer\"},{\"id\":\"2a25a5b1-9446-4dd6-90a9-803e8f50032d\",\"type\":\"LabelSet\"}],\"title\":{\"id\":\"b08eabec-379b-4ebc-bf1e-49c91ca5cd34\",\"type\":\"Title\"},\"tool_events\":{\"id\":\"94d13e84-5915-4ad2-add4-f6b5d9cd17a5\",\"type\":\"ToolEvents\"},\"toolbar\":{\"id\":\"3105404c-d8fe-43f2-a4fe-111f9aca61a4\",\"type\":\"Toolbar\"},\"toolbar_location\":null,\"x_range\":{\"id\":\"0d56468e-c109-4d1e-b655-41359a2835cc\",\"type\":\"Range1d\"},\"y_range\":{\"id\":\"3fbc411b-7378-44b4-82da-8821adccfc01\",\"type\":\"Range1d\"}},\"id\":\"ac4dea32-1e82-4e6b-a3f2-76f090e331e2\",\"subtype\":\"Figure\",\"type\":\"Plot\"},{\"attributes\":{\"formatter\":{\"id\":\"4c7874ff-da6f-4f8c-a702-b2609644ceb4\",\"type\":\"BasicTickFormatter\"},\"plot\":{\"id\":\"ac4dea32-1e82-4e6b-a3f2-76f090e331e2\",\"subtype\":\"Figure\",\"type\":\"Plot\"},\"ticker\":{\"id\":\"89978259-e18a-4ef0-8acb-339239e7bae2\",\"type\":\"BasicTicker\"}},\"id\":\"f627e804-36c7-4dde-82b9-eef5bcb07d2f\",\"type\":\"LinearAxis\"},{\"attributes\":{\"callback\":null,\"column_names\":[\"right\",\"bottom\",\"top\",\"left\",\"fill_color\"],\"data\":{\"bottom\":[50,50,50,50,150,150],\"fill_color\":[\"#61c4c4\",\"#ffff00\",\"#c4c461\",\"#61c461\",\"#808080\",\"#61c461\"],\"left\":[135839805,135959272,136393658,136494186,136501840,136682274],\"right\":[135924467,136375855,136486342,136765951,136555659,136775898],\"top\":[90,88,94,95,198,197]}},\"id\":\"34bbe42c-a4cb-4f51-b8b9-cb88b307f057\",\"type\":\"ColumnDataSource\"},{\"attributes\":{},\"id\":\"89978259-e18a-4ef0-8acb-339239e7bae2\",\"type\":\"BasicTicker\"},{\"attributes\":{\"bottom\":{\"field\":\"bottom\"},\"fill_alpha\":{\"value\":0.1},\"fill_color\":{\"value\":\"#1f77b4\"},\"left\":{\"field\":\"left\"},\"line_alpha\":{\"value\":0.1},\"line_color\":{\"value\":\"#1f77b4\"},\"right\":{\"field\":\"right\"},\"top\":{\"field\":\"top\"}},\"id\":\"cfe16280-ca01-4b74-b2d3-f5d176b031d5\",\"type\":\"Quad\"},{\"attributes\":{},\"id\":\"dab790bd-a586-4584-9cd5-bc241bf21536\",\"type\":\"BasicTicker\"},{\"attributes\":{\"callback\":null,\"end\":136786630,\"start\":135757320},\"id\":\"0d56468e-c109-4d1e-b655-41359a2835cc\",\"type\":\"Range1d\"},{\"attributes\":{\"level\":\"glyph\",\"plot\":{\"id\":\"ac4dea32-1e82-4e6b-a3f2-76f090e331e2\",\"subtype\":\"Figure\",\"type\":\"Plot\"},\"source\":{\"id\":\"c831534c-e97c-4b88-b690-879a0c710045\",\"type\":\"ColumnDataSource\"},\"text\":{\"field\":\"vals\"},\"text_font_size\":{\"value\":\"9pt\"},\"text_font_style\":\"bold\",\"x\":{\"field\":\"x\"},\"y\":{\"field\":\"y\"}},\"id\":\"9169b555-15ec-4c3c-8af6-b1bc5e1f06c8\",\"type\":\"LabelSet\"},{\"attributes\":{},\"id\":\"46150923-25be-4ae5-8894-21c7a1616ebb\",\"type\":\"BasicTickFormatter\"},{\"attributes\":{\"plot\":{\"id\":\"ac4dea32-1e82-4e6b-a3f2-76f090e331e2\",\"subtype\":\"Figure\",\"type\":\"Plot\"},\"ticker\":{\"id\":\"89978259-e18a-4ef0-8acb-339239e7bae2\",\"type\":\"BasicTicker\"}},\"id\":\"11ec656f-6f6c-43e5-8292-8ae520a0cf4d\",\"type\":\"Grid\"}],\"root_ids\":[\"ac4dea32-1e82-4e6b-a3f2-76f090e331e2\"]},\"title\":\"Bokeh Application\",\"version\":\"0.12.0\"}};\n",
       "            var render_items = [{\"docid\":\"bc7e2ae8-eb55-4c84-aff5-a3a9d405e76f\",\"elementid\":\"31eb5780-aa35-4886-b473-7fc099a3702b\",\"modelid\":\"ac4dea32-1e82-4e6b-a3f2-76f090e331e2\",\"notebook_comms_target\":\"d2da1c60-048b-4f41-b294-99c09b700f95\"}];\n",
       "            \n",
       "            Bokeh.embed.embed_items(docs_json, render_items);\n",
       "        });\n",
       "      },\n",
       "      function(Bokeh) {\n",
       "      }\n",
       "    ];\n",
       "  \n",
       "    function run_inline_js() {\n",
       "      for (var i = 0; i < inline_js.length; i++) {\n",
       "        inline_js[i](window.Bokeh);\n",
       "      }\n",
       "    }\n",
       "  \n",
       "    if (window._bokeh_is_loading === 0) {\n",
       "      console.log(\"Bokeh: BokehJS loaded, going straight to plotting\");\n",
       "      run_inline_js();\n",
       "    } else {\n",
       "      load_libs(js_urls, function() {\n",
       "        console.log(\"Bokeh: BokehJS plotting callback run at\", now());\n",
       "        run_inline_js();\n",
       "      });\n",
       "    }\n",
       "  }(this));\n",
       "</script>"
      ]
     },
     "metadata": {},
     "output_type": "display_data"
    },
    {
     "data": {
      "text/html": [
       "<p><code>&lt;Bokeh Notebook handle for <strong>In[27]</strong>&gt;</code></p>"
      ],
      "text/plain": [
       "<bokeh.io._CommsHandle at 0x7fa618a14890>"
      ]
     },
     "execution_count": 27,
     "metadata": {},
     "output_type": "execute_result"
    }
   ],
   "source": [
    "plt_obj = dm.superset_allele_mask(am_7, [dm.di_4_815], min_match=0.5)\n",
    "plt = plt_obj.do_plot()\n",
    "am = plt_obj.plot_context.yes_allele_mask\n",
    "show(plt)"
   ]
  },
  {
   "cell_type": "code",
   "execution_count": 28,
   "metadata": {
    "collapsed": false
   },
   "outputs": [
    {
     "data": {
      "text/html": [
       "<table>\n",
       "<thead><tr><th style=\"text-align:center\">index</th><th style=\"text-align:center\">first</th><th style=\"text-align:center\">length</th><th style=\"text-align:center\">snps</th><th style=\"text-align:center\" colspan=2>alleles</th><th style=\"text-align:center\" colspan=2>matches</th><th style=\"text-align:center\" colspan=2>afr</th><th style=\"text-align:center\" colspan=2>afx</th><th style=\"text-align:center\" colspan=2>amr</th><th style=\"text-align:center\" colspan=2>eas</th><th style=\"text-align:center\" colspan=2>eur</th><th style=\"text-align:center\" colspan=2>sas</th><th style=\"text-align:center\" colspan=2>sax</th></tr></thead>\n",
       "<tr class=\"even\"><td style=\"text-align: right;\">353921</td><td style=\"text-align: right;\">136,501,840</td><td style=\"text-align: right;\">53,819</td><td style=\"text-align: right;\">10</td><td style=\"text-align: right;\">2206</td><td style=\"text-align: right;\">0.03</td><td style=\"text-align: right;\">60</td><td style=\"text-align: right;\">0.73</td><td style=\"text-align: right;\">0</td><td style=\"text-align: right;\">0.00</td><td style=\"text-align: right;\">0</td><td style=\"text-align: right;\">0.00</td><td style=\"text-align: right;\">0</td><td style=\"text-align: right;\">0.00</td><td style=\"text-align: right;\">59</td><td style=\"text-align: right;\">4.89</td><td style=\"text-align: right;\">0</td><td style=\"text-align: right;\">0.00</td><td style=\"text-align: right;\">1</td><td style=\"text-align: right;\">0.23</td><td style=\"text-align: right;\">0</td><td style=\"text-align: right;\">0.00</td></tr>\n",
       "<tr><td style=\"text-align: right;\">354170</td><td style=\"text-align: right;\">136,682,274</td><td style=\"text-align: right;\">93,624</td><td style=\"text-align: right;\">7</td><td style=\"text-align: right;\">1868</td><td style=\"text-align: right;\">0.03</td><td style=\"text-align: right;\">61</td><td style=\"text-align: right;\">0.74</td><td style=\"text-align: right;\">0</td><td style=\"text-align: right;\">0.00</td><td style=\"text-align: right;\">0</td><td style=\"text-align: right;\">0.00</td><td style=\"text-align: right;\">0</td><td style=\"text-align: right;\">0.00</td><td style=\"text-align: right;\">59</td><td style=\"text-align: right;\">4.81</td><td style=\"text-align: right;\">1</td><td style=\"text-align: right;\">0.08</td><td style=\"text-align: right;\">1</td><td style=\"text-align: right;\">0.23</td><td style=\"text-align: right;\">0</td><td style=\"text-align: right;\">0.00</td></tr>\n",
       "<tr class=\"even\"><td style=\"text-align: right;\">353901</td><td style=\"text-align: right;\">136,494,186</td><td style=\"text-align: right;\">271,765</td><td style=\"text-align: right;\">64</td><td style=\"text-align: right;\">1575</td><td style=\"text-align: right;\">0.04</td><td style=\"text-align: right;\">60</td><td style=\"text-align: right;\">0.73</td><td style=\"text-align: right;\">0</td><td style=\"text-align: right;\">0.00</td><td style=\"text-align: right;\">0</td><td style=\"text-align: right;\">0.00</td><td style=\"text-align: right;\">0</td><td style=\"text-align: right;\">0.00</td><td style=\"text-align: right;\">59</td><td style=\"text-align: right;\">4.89</td><td style=\"text-align: right;\">0</td><td style=\"text-align: right;\">0.00</td><td style=\"text-align: right;\">1</td><td style=\"text-align: right;\">0.23</td><td style=\"text-align: right;\">0</td><td style=\"text-align: right;\">0.00</td></tr>\n",
       "<tr><td style=\"text-align: right;\">353791</td><td style=\"text-align: right;\">136,393,658</td><td style=\"text-align: right;\">92,684</td><td style=\"text-align: right;\">32</td><td style=\"text-align: right;\">1361</td><td style=\"text-align: right;\">0.06</td><td style=\"text-align: right;\">82</td><td style=\"text-align: right;\">1.00</td><td style=\"text-align: right;\">0</td><td style=\"text-align: right;\">0.00</td><td style=\"text-align: right;\">0</td><td style=\"text-align: right;\">0.00</td><td style=\"text-align: right;\">0</td><td style=\"text-align: right;\">0.00</td><td style=\"text-align: right;\">73</td><td style=\"text-align: right;\">4.42</td><td style=\"text-align: right;\">2</td><td style=\"text-align: right;\">0.12</td><td style=\"text-align: right;\">4</td><td style=\"text-align: right;\">0.67</td><td style=\"text-align: right;\">3</td><td style=\"text-align: right;\">0.30</td></tr>\n",
       "<tr class=\"even\"><td style=\"text-align: right;\">353384</td><td style=\"text-align: right;\">135,839,805</td><td style=\"text-align: right;\">84,662</td><td style=\"text-align: right;\">4</td><td style=\"text-align: right;\">815</td><td style=\"text-align: right;\">0.10</td><td style=\"text-align: right;\">82</td><td style=\"text-align: right;\">1.00</td><td style=\"text-align: right;\">0</td><td style=\"text-align: right;\">0.00</td><td style=\"text-align: right;\">0</td><td style=\"text-align: right;\">0.00</td><td style=\"text-align: right;\">0</td><td style=\"text-align: right;\">0.00</td><td style=\"text-align: right;\">73</td><td style=\"text-align: right;\">4.42</td><td style=\"text-align: right;\">2</td><td style=\"text-align: right;\">0.12</td><td style=\"text-align: right;\">4</td><td style=\"text-align: right;\">0.67</td><td style=\"text-align: right;\">3</td><td style=\"text-align: right;\">0.30</td></tr>\n",
       "<tr><td style=\"text-align: right;\">353498</td><td style=\"text-align: right;\">135,959,272</td><td style=\"text-align: right;\">416,583</td><td style=\"text-align: right;\">5</td><td style=\"text-align: right;\">684</td><td style=\"text-align: right;\">0.12</td><td style=\"text-align: right;\">79</td><td style=\"text-align: right;\">0.96</td><td style=\"text-align: right;\">0</td><td style=\"text-align: right;\">0.00</td><td style=\"text-align: right;\">0</td><td style=\"text-align: right;\">0.00</td><td style=\"text-align: right;\">0</td><td style=\"text-align: right;\">0.00</td><td style=\"text-align: right;\">73</td><td style=\"text-align: right;\">4.59</td><td style=\"text-align: right;\">0</td><td style=\"text-align: right;\">0.00</td><td style=\"text-align: right;\">4</td><td style=\"text-align: right;\">0.70</td><td style=\"text-align: right;\">2</td><td style=\"text-align: right;\">0.21</td></tr>\n",
       "</table>"
      ],
      "text/plain": [
       "<IPython.core.display.HTML object>"
      ]
     },
     "execution_count": 28,
     "metadata": {},
     "output_type": "execute_result"
    }
   ],
   "source": [
    "HTML(plt_obj.get_html())"
   ]
  },
  {
   "cell_type": "code",
   "execution_count": 29,
   "metadata": {
    "collapsed": false
   },
   "outputs": [
    {
     "data": {
      "text/plain": [
       "array([ 0,  0, 82, 82, 82, 82, 82, 82, 82])"
      ]
     },
     "execution_count": 29,
     "metadata": {},
     "output_type": "execute_result"
    }
   ],
   "source": [
    "sa_9_944.alleles_per_snp(am)"
   ]
  }
 ],
 "metadata": {
  "kernelspec": {
   "display_name": "Python [Root]",
   "language": "python",
   "name": "Python [Root]"
  },
  "language_info": {
   "codemirror_mode": {
    "name": "ipython",
    "version": 2
   },
   "file_extension": ".py",
   "mimetype": "text/x-python",
   "name": "python",
   "nbconvert_exporter": "python",
   "pygments_lexer": "ipython2",
   "version": "2.7.12"
  }
 },
 "nbformat": 4,
 "nbformat_minor": 0
}
