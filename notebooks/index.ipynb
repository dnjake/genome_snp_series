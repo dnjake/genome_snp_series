{
 "cells": [
  {
   "cell_type": "markdown",
   "metadata": {},
   "source": [
    " \n",
    "[chrom2_plots](chrom2_plots.ipynb)\n",
    "    \n",
    "    A notebook that provides SNP series statistics by autosomal chromosome\n",
    "    and by position for chromosome 2.\n",
    "\n",
    "[dense series roots](dense_series_roots.ipynb)\n",
    "\n",
    "    A notebook that provides a summary of the hierarchies rooted in different\n",
    "    combinations of the series 117_1685, 123_1561, and 62_1275.\n",
    "    \n",
    "[hierarchies](hierarchies.ipynb)\n",
    "\n",
    "    A notebook that provides a summary of the major hierarchies of the studied\n",
    "    region of chromosome 2.\n",
    "    \n",
    "[lactase persistence](lactase_persistence.ipynb)\n",
    "\n",
    "    A notebook that focuses on the series 11_765, the series associated with its\n",
    "    expression, and the population sources of the samples that express it.\n",
    "    \n",
    "[methods](methods.ipynb)\n",
    "\n",
    "    A notebook that describes the methods used for this study and that provides\n",
    "    examples of how they have been used.\n",
    "    \n",
    "[overview](overview.ipynb)\n",
    "\n",
    "    An overview of the results of this study.\n",
    "    \n",
    "[core](core/index.ipynb)\n",
    "\n",
    "    Notebooks that explore the hierarchies of major series expressed by samples from\n",
    "    mostly African populations and that document associated SNP series.\n",
    "\n",
    "[eas special](eas_special/index.ipynb)\n",
    "\n",
    "    Notebooks that explore the associations of the series 95_176 and 51_176 that\n",
    "    are mostly expressed by East Asian populations and document those SNP series.\n",
    "\n",
    "[eas tree](eas_tree/index.ipynb)\n",
    "\n",
    "    Notebooks that explore the East Asian tree hierarchy and document its associated\n",
    "    SNP series.\n",
    "\n",
    "[eur tree](eur_tree/index.ipynb)\n",
    "\n",
    "    Notebooks that explore the European tree hiearchy and document its associated SNP\n",
    "    series.\n",
    "    \n",
    "[sas tree](sas_tree/index.ipynb)\n",
    "\n",
    "    Notebooks that explore the South Asian tree hierarchy and document its associated\n",
    "    SNP series.\n",
    "    \n",
    "    "
   ]
  }
 ],
 "metadata": {
  "kernelspec": {
   "display_name": "Python [Root]",
   "language": "python",
   "name": "Python [Root]"
  },
  "language_info": {
   "codemirror_mode": {
    "name": "ipython",
    "version": 2
   },
   "file_extension": ".py",
   "mimetype": "text/x-python",
   "name": "python",
   "nbconvert_exporter": "python",
   "pygments_lexer": "ipython2",
   "version": "2.7.12"
  }
 },
 "nbformat": 4,
 "nbformat_minor": 0
}
